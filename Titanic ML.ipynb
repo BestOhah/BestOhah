{
 "cells": [
  {
   "cell_type": "markdown",
   "id": "4dc3e25a",
   "metadata": {},
   "source": [
    "# Importing the needed Libraries"
   ]
  },
  {
   "cell_type": "code",
   "execution_count": 1,
   "id": "790cd4d7",
   "metadata": {},
   "outputs": [
    {
     "data": {
      "text/plain": [
       "<function seaborn.rcmod.set(*args, **kwargs)>"
      ]
     },
     "execution_count": 1,
     "metadata": {},
     "output_type": "execute_result"
    }
   ],
   "source": [
    "import pandas as pd\n",
    "import numpy as np\n",
    "import seaborn as sns\n",
    "import matplotlib.pyplot as plt\n",
    "sns.set"
   ]
  },
  {
   "cell_type": "markdown",
   "id": "803c4480",
   "metadata": {},
   "source": [
    "# Getting the Dataset"
   ]
  },
  {
   "cell_type": "code",
   "execution_count": 2,
   "id": "cce0e582",
   "metadata": {},
   "outputs": [],
   "source": [
    "df = pd.read_csv(\"Train.csv\")"
   ]
  },
  {
   "cell_type": "markdown",
   "id": "56e079a7",
   "metadata": {},
   "source": [
    "# Brief description of the Data and its variables"
   ]
  },
  {
   "cell_type": "code",
   "execution_count": 3,
   "id": "4e8d2a51",
   "metadata": {},
   "outputs": [
    {
     "data": {
      "text/html": [
       "<div>\n",
       "<style scoped>\n",
       "    .dataframe tbody tr th:only-of-type {\n",
       "        vertical-align: middle;\n",
       "    }\n",
       "\n",
       "    .dataframe tbody tr th {\n",
       "        vertical-align: top;\n",
       "    }\n",
       "\n",
       "    .dataframe thead th {\n",
       "        text-align: right;\n",
       "    }\n",
       "</style>\n",
       "<table border=\"1\" class=\"dataframe\">\n",
       "  <thead>\n",
       "    <tr style=\"text-align: right;\">\n",
       "      <th></th>\n",
       "      <th>PassengerId</th>\n",
       "      <th>Survived</th>\n",
       "      <th>Pclass</th>\n",
       "      <th>Name</th>\n",
       "      <th>Sex</th>\n",
       "      <th>Age</th>\n",
       "      <th>SibSp</th>\n",
       "      <th>Parch</th>\n",
       "      <th>Ticket</th>\n",
       "      <th>Fare</th>\n",
       "      <th>Cabin</th>\n",
       "      <th>Embarked</th>\n",
       "    </tr>\n",
       "  </thead>\n",
       "  <tbody>\n",
       "    <tr>\n",
       "      <th>0</th>\n",
       "      <td>1</td>\n",
       "      <td>0</td>\n",
       "      <td>3</td>\n",
       "      <td>Braund, Mr. Owen Harris</td>\n",
       "      <td>male</td>\n",
       "      <td>22.0</td>\n",
       "      <td>1</td>\n",
       "      <td>0</td>\n",
       "      <td>A/5 21171</td>\n",
       "      <td>7.2500</td>\n",
       "      <td>NaN</td>\n",
       "      <td>S</td>\n",
       "    </tr>\n",
       "    <tr>\n",
       "      <th>1</th>\n",
       "      <td>2</td>\n",
       "      <td>1</td>\n",
       "      <td>1</td>\n",
       "      <td>Cumings, Mrs. John Bradley (Florence Briggs Th...</td>\n",
       "      <td>female</td>\n",
       "      <td>38.0</td>\n",
       "      <td>1</td>\n",
       "      <td>0</td>\n",
       "      <td>PC 17599</td>\n",
       "      <td>71.2833</td>\n",
       "      <td>C85</td>\n",
       "      <td>C</td>\n",
       "    </tr>\n",
       "    <tr>\n",
       "      <th>2</th>\n",
       "      <td>3</td>\n",
       "      <td>1</td>\n",
       "      <td>3</td>\n",
       "      <td>Heikkinen, Miss. Laina</td>\n",
       "      <td>female</td>\n",
       "      <td>26.0</td>\n",
       "      <td>0</td>\n",
       "      <td>0</td>\n",
       "      <td>STON/O2. 3101282</td>\n",
       "      <td>7.9250</td>\n",
       "      <td>NaN</td>\n",
       "      <td>S</td>\n",
       "    </tr>\n",
       "    <tr>\n",
       "      <th>3</th>\n",
       "      <td>4</td>\n",
       "      <td>1</td>\n",
       "      <td>1</td>\n",
       "      <td>Futrelle, Mrs. Jacques Heath (Lily May Peel)</td>\n",
       "      <td>female</td>\n",
       "      <td>35.0</td>\n",
       "      <td>1</td>\n",
       "      <td>0</td>\n",
       "      <td>113803</td>\n",
       "      <td>53.1000</td>\n",
       "      <td>C123</td>\n",
       "      <td>S</td>\n",
       "    </tr>\n",
       "    <tr>\n",
       "      <th>4</th>\n",
       "      <td>5</td>\n",
       "      <td>0</td>\n",
       "      <td>3</td>\n",
       "      <td>Allen, Mr. William Henry</td>\n",
       "      <td>male</td>\n",
       "      <td>35.0</td>\n",
       "      <td>0</td>\n",
       "      <td>0</td>\n",
       "      <td>373450</td>\n",
       "      <td>8.0500</td>\n",
       "      <td>NaN</td>\n",
       "      <td>S</td>\n",
       "    </tr>\n",
       "  </tbody>\n",
       "</table>\n",
       "</div>"
      ],
      "text/plain": [
       "   PassengerId  Survived  Pclass  \\\n",
       "0            1         0       3   \n",
       "1            2         1       1   \n",
       "2            3         1       3   \n",
       "3            4         1       1   \n",
       "4            5         0       3   \n",
       "\n",
       "                                                Name     Sex   Age  SibSp  \\\n",
       "0                            Braund, Mr. Owen Harris    male  22.0      1   \n",
       "1  Cumings, Mrs. John Bradley (Florence Briggs Th...  female  38.0      1   \n",
       "2                             Heikkinen, Miss. Laina  female  26.0      0   \n",
       "3       Futrelle, Mrs. Jacques Heath (Lily May Peel)  female  35.0      1   \n",
       "4                           Allen, Mr. William Henry    male  35.0      0   \n",
       "\n",
       "   Parch            Ticket     Fare Cabin Embarked  \n",
       "0      0         A/5 21171   7.2500   NaN        S  \n",
       "1      0          PC 17599  71.2833   C85        C  \n",
       "2      0  STON/O2. 3101282   7.9250   NaN        S  \n",
       "3      0            113803  53.1000  C123        S  \n",
       "4      0            373450   8.0500   NaN        S  "
      ]
     },
     "execution_count": 3,
     "metadata": {},
     "output_type": "execute_result"
    }
   ],
   "source": [
    "df.head()"
   ]
  },
  {
   "cell_type": "code",
   "execution_count": 4,
   "id": "c6cc0ec7",
   "metadata": {},
   "outputs": [
    {
     "name": "stdout",
     "output_type": "stream",
     "text": [
      "<class 'pandas.core.frame.DataFrame'>\n",
      "RangeIndex: 891 entries, 0 to 890\n",
      "Data columns (total 12 columns):\n",
      " #   Column       Non-Null Count  Dtype  \n",
      "---  ------       --------------  -----  \n",
      " 0   PassengerId  891 non-null    int64  \n",
      " 1   Survived     891 non-null    int64  \n",
      " 2   Pclass       891 non-null    int64  \n",
      " 3   Name         891 non-null    object \n",
      " 4   Sex          891 non-null    object \n",
      " 5   Age          714 non-null    float64\n",
      " 6   SibSp        891 non-null    int64  \n",
      " 7   Parch        891 non-null    int64  \n",
      " 8   Ticket       891 non-null    object \n",
      " 9   Fare         891 non-null    float64\n",
      " 10  Cabin        204 non-null    object \n",
      " 11  Embarked     889 non-null    object \n",
      "dtypes: float64(2), int64(5), object(5)\n",
      "memory usage: 83.7+ KB\n"
     ]
    }
   ],
   "source": [
    "df.info()"
   ]
  },
  {
   "cell_type": "code",
   "execution_count": 5,
   "id": "2c6a5b72",
   "metadata": {},
   "outputs": [
    {
     "data": {
      "text/plain": [
       "(891, 12)"
      ]
     },
     "execution_count": 5,
     "metadata": {},
     "output_type": "execute_result"
    }
   ],
   "source": [
    "df.shape"
   ]
  },
  {
   "cell_type": "markdown",
   "id": "1a28b5e1",
   "metadata": {},
   "source": [
    "##### The data set contains 891 rows and 8 columns."
   ]
  },
  {
   "cell_type": "code",
   "execution_count": 6,
   "id": "732fbf02",
   "metadata": {},
   "outputs": [
    {
     "data": {
      "text/plain": [
       "PassengerId      0\n",
       "Survived         0\n",
       "Pclass           0\n",
       "Name             0\n",
       "Sex              0\n",
       "Age            177\n",
       "SibSp            0\n",
       "Parch            0\n",
       "Ticket           0\n",
       "Fare             0\n",
       "Cabin          687\n",
       "Embarked         2\n",
       "dtype: int64"
      ]
     },
     "execution_count": 6,
     "metadata": {},
     "output_type": "execute_result"
    }
   ],
   "source": [
    "df.isnull().sum()"
   ]
  },
  {
   "cell_type": "markdown",
   "id": "3ac0722a",
   "metadata": {},
   "source": [
    "##### The age column has 177 missing values, this was handled later, while the cabin with 687 missing values was dropped, as more than 50% of the column is missing."
   ]
  },
  {
   "cell_type": "markdown",
   "id": "c0cddc99",
   "metadata": {},
   "source": [
    "# Exploratory Data Analyses"
   ]
  },
  {
   "cell_type": "code",
   "execution_count": 7,
   "id": "1f5a4938",
   "metadata": {},
   "outputs": [
    {
     "data": {
      "text/plain": [
       "<seaborn.axisgrid.FacetGrid at 0x1aed69782b0>"
      ]
     },
     "execution_count": 7,
     "metadata": {},
     "output_type": "execute_result"
    },
    {
     "data": {
      "image/png": "[encoded data removed]",
      "text/plain": [
       "<Figure size 360x360 with 1 Axes>"
      ]
     },
     "metadata": {
      "needs_background": "light"
     },
     "output_type": "display_data"
    }
   ],
   "source": [
    "sns.catplot(data = df, x = 'Survived', kind = 'count')"
   ]
  },
  {
   "cell_type": "markdown",
   "id": "3b0a51a9",
   "metadata": {},
   "source": [
    "0 - Did not survive\n",
    "\n",
    "1 - Survived\n",
    "\n",
    "### From the bar chart, we can clearly see that there were more casualties than survivors. "
   ]
  },
  {
   "cell_type": "code",
   "execution_count": 8,
   "id": "0b04fdd5",
   "metadata": {},
   "outputs": [
    {
     "data": {
      "text/plain": [
       "<seaborn.axisgrid.FacetGrid at 0x1aed69251c0>"
      ]
     },
     "execution_count": 8,
     "metadata": {},
     "output_type": "execute_result"
    },
    {
     "data": {
      "image/png": "[encoded data removed]",
      "text/plain": [
       "<Figure size 360x360 with 1 Axes>"
      ]
     },
     "metadata": {
      "needs_background": "light"
     },
     "output_type": "display_data"
    }
   ],
   "source": [
    "sns.catplot(data = df, x = 'Sex', kind = 'count')"
   ]
  },
  {
   "cell_type": "markdown",
   "id": "3f22a799",
   "metadata": {},
   "source": [
    "### They were more male passengers in comparison with their female counterparts"
   ]
  },
  {
   "cell_type": "code",
   "execution_count": 9,
   "id": "986bd6ee",
   "metadata": {},
   "outputs": [
    {
     "data": {
      "text/plain": [
       "<seaborn.axisgrid.FacetGrid at 0x1aed6978820>"
      ]
     },
     "execution_count": 9,
     "metadata": {},
     "output_type": "execute_result"
    },
    {
     "data": {
      "image/png": "[encoded data removed]",
      "text/plain": [
       "<Figure size 430.5x360 with 1 Axes>"
      ]
     },
     "metadata": {
      "needs_background": "light"
     },
     "output_type": "display_data"
    }
   ],
   "source": [
    "sns.catplot(data = df, x = 'Survived', kind = 'count', hue = 'Sex')"
   ]
  },
  {
   "cell_type": "markdown",
   "id": "8089f346",
   "metadata": {},
   "source": [
    "### From the charts, we could deduce that they were more male casualties than women, with more female survivors.\n",
    "\n",
    "##### History i.e from the movies and books, it said that the music group, which consisted of more men, continued playing while the ship sank, also women were given priority due to the shortage of life boats. From all these, we can see why we have more male casualties"
   ]
  },
  {
   "cell_type": "markdown",
   "id": "521cb3ce",
   "metadata": {},
   "source": [
    "### To get more insights into the various age groups on board the Titanic, I applied BINNING, to group the ages into four different bins as follows:\n",
    "\n",
    "0-18 are classified as Children\n",
    "\n",
    "\n",
    "19-29 are classified as Youths\n",
    "\n",
    "\n",
    "30-59 as Adults and;\n",
    "\n",
    "\n",
    "60 and above as aged."
   ]
  },
  {
   "cell_type": "code",
   "execution_count": 10,
   "id": "2c893ab6",
   "metadata": {},
   "outputs": [],
   "source": [
    "bins = np.linspace(min(df['Age']), max(df['Age']), 5)\n",
    "group_names = ['Children', 'Youths', 'Adults', 'Aged']\n",
    "bins = [0, 18, 29, 59, 120]\n",
    "df['Age_group'] = pd.cut(df['Age'], bins, labels = group_names, include_lowest = True)"
   ]
  },
  {
   "cell_type": "code",
   "execution_count": 11,
   "id": "a424bc13",
   "metadata": {},
   "outputs": [
    {
     "data": {
      "text/plain": [
       "<seaborn.axisgrid.FacetGrid at 0x1aed6b53f10>"
      ]
     },
     "execution_count": 11,
     "metadata": {},
     "output_type": "execute_result"
    },
    {
     "data": {
      "image/png": "[encoded data removed]",
      "text/plain": [
       "<Figure size 360x360 with 1 Axes>"
      ]
     },
     "metadata": {
      "needs_background": "light"
     },
     "output_type": "display_data"
    }
   ],
   "source": [
    "sns.catplot(data = df, x = \"Age_group\", kind = 'count')"
   ]
  },
  {
   "cell_type": "markdown",
   "id": "62dc19df",
   "metadata": {},
   "source": [
    "#### From the newly created age_groups, the chart above showed that they were more adults, closely followed by youths, children came in 3rd, and we had less than 50 aged persons on board."
   ]
  },
  {
   "cell_type": "code",
   "execution_count": 12,
   "id": "65ed1ba0",
   "metadata": {},
   "outputs": [
    {
     "data": {
      "text/plain": [
       "<seaborn.axisgrid.FacetGrid at 0x1aed6b46a00>"
      ]
     },
     "execution_count": 12,
     "metadata": {},
     "output_type": "execute_result"
    },
    {
     "data": {
      "image/png": "[encoded data removed]",
      "text/plain": [
       "<Figure size 430.5x360 with 1 Axes>"
      ]
     },
     "metadata": {
      "needs_background": "light"
     },
     "output_type": "display_data"
    }
   ],
   "source": [
    "sns.catplot(data = df, x = \"Age_group\", kind = 'count', hue = 'Sex')"
   ]
  },
  {
   "cell_type": "markdown",
   "id": "4c7d061a",
   "metadata": {},
   "source": [
    "Adding a filter (Sex) to the chart above, we can see the distribution of individuals by Sex."
   ]
  },
  {
   "cell_type": "code",
   "execution_count": 13,
   "id": "c83c994b",
   "metadata": {},
   "outputs": [
    {
     "data": {
      "text/plain": [
       "<seaborn.axisgrid.FacetGrid at 0x1aed6c54af0>"
      ]
     },
     "execution_count": 13,
     "metadata": {},
     "output_type": "execute_result"
    },
    {
     "data": {
      "image/png": "[encoded data removed]",
      "text/plain": [
       "<Figure size 360x360 with 1 Axes>"
      ]
     },
     "metadata": {
      "needs_background": "light"
     },
     "output_type": "display_data"
    }
   ],
   "source": [
    "sns.catplot(data = df, x = \"Pclass\", kind = 'count')"
   ]
  },
  {
   "cell_type": "markdown",
   "id": "0f9c8639",
   "metadata": {},
   "source": [
    "#### Pclass; This shows the cabins/classes on the Titanic were divided into 3, First class(1), Second class(2) and Third class(3), this was based on prices of the tickets\n",
    "\n",
    "##### Third class had more passengers, followed by first class and second class, though there was not much difference between the first and second class."
   ]
  },
  {
   "cell_type": "code",
   "execution_count": 14,
   "id": "f82f9d45",
   "metadata": {},
   "outputs": [
    {
     "data": {
      "text/plain": [
       "<seaborn.axisgrid.FacetGrid at 0x1aed6cc89a0>"
      ]
     },
     "execution_count": 14,
     "metadata": {},
     "output_type": "execute_result"
    },
    {
     "data": {
      "image/png": "[encoded data removed]",
      "text/plain": [
       "<Figure size 411.875x360 with 1 Axes>"
      ]
     },
     "metadata": {
      "needs_background": "light"
     },
     "output_type": "display_data"
    }
   ],
   "source": [
    "sns.catplot(data = df, x = 'Pclass', kind = 'count', hue = \"Survived\")"
   ]
  },
  {
   "cell_type": "markdown",
   "id": "af33e97f",
   "metadata": {},
   "source": [
    "##### Adding a filter(Survived), it shows they were less survivors in 3rd class, more than 50% of passengers did not survive, the highest percantage difference in comparison with other classes. They were more survivors from first class than any other class."
   ]
  },
  {
   "cell_type": "markdown",
   "id": "813ddcef",
   "metadata": {},
   "source": [
    "### Embarked; Port of Embarktion.\n",
    "\n",
    "c = Cherbourg\n",
    "\n",
    "Q = Queenstown\n",
    "\n",
    "D = Southampton"
   ]
  },
  {
   "cell_type": "code",
   "execution_count": 15,
   "id": "224d0382",
   "metadata": {},
   "outputs": [
    {
     "data": {
      "text/plain": [
       "<seaborn.axisgrid.FacetGrid at 0x1aed6b5f9d0>"
      ]
     },
     "execution_count": 15,
     "metadata": {},
     "output_type": "execute_result"
    },
    {
     "data": {
      "image/png": "[encoded data removed]",
      "text/plain": [
       "<Figure size 360x360 with 1 Axes>"
      ]
     },
     "metadata": {
      "needs_background": "light"
     },
     "output_type": "display_data"
    }
   ],
   "source": [
    "sns.catplot(data = df, x = 'Embarked', kind = 'count')"
   ]
  },
  {
   "cell_type": "markdown",
   "id": "ae2db9be",
   "metadata": {},
   "source": [
    "#### Southampton was the most popular Port with over 50% of the passengers embarking at Southampton"
   ]
  },
  {
   "cell_type": "markdown",
   "id": "0784a55f",
   "metadata": {},
   "source": [
    "# A Correlation Table"
   ]
  },
  {
   "cell_type": "code",
   "execution_count": 16,
   "id": "0390401e",
   "metadata": {},
   "outputs": [
    {
     "data": {
      "text/html": [
       "<div>\n",
       "<style scoped>\n",
       "    .dataframe tbody tr th:only-of-type {\n",
       "        vertical-align: middle;\n",
       "    }\n",
       "\n",
       "    .dataframe tbody tr th {\n",
       "        vertical-align: top;\n",
       "    }\n",
       "\n",
       "    .dataframe thead th {\n",
       "        text-align: right;\n",
       "    }\n",
       "</style>\n",
       "<table border=\"1\" class=\"dataframe\">\n",
       "  <thead>\n",
       "    <tr style=\"text-align: right;\">\n",
       "      <th></th>\n",
       "      <th>PassengerId</th>\n",
       "      <th>Survived</th>\n",
       "      <th>Pclass</th>\n",
       "      <th>Age</th>\n",
       "      <th>SibSp</th>\n",
       "      <th>Parch</th>\n",
       "      <th>Fare</th>\n",
       "    </tr>\n",
       "  </thead>\n",
       "  <tbody>\n",
       "    <tr>\n",
       "      <th>PassengerId</th>\n",
       "      <td>1.000000</td>\n",
       "      <td>-0.005007</td>\n",
       "      <td>-0.035144</td>\n",
       "      <td>0.036847</td>\n",
       "      <td>-0.057527</td>\n",
       "      <td>-0.001652</td>\n",
       "      <td>0.012658</td>\n",
       "    </tr>\n",
       "    <tr>\n",
       "      <th>Survived</th>\n",
       "      <td>-0.005007</td>\n",
       "      <td>1.000000</td>\n",
       "      <td>-0.338481</td>\n",
       "      <td>-0.077221</td>\n",
       "      <td>-0.035322</td>\n",
       "      <td>0.081629</td>\n",
       "      <td>0.257307</td>\n",
       "    </tr>\n",
       "    <tr>\n",
       "      <th>Pclass</th>\n",
       "      <td>-0.035144</td>\n",
       "      <td>-0.338481</td>\n",
       "      <td>1.000000</td>\n",
       "      <td>-0.369226</td>\n",
       "      <td>0.083081</td>\n",
       "      <td>0.018443</td>\n",
       "      <td>-0.549500</td>\n",
       "    </tr>\n",
       "    <tr>\n",
       "      <th>Age</th>\n",
       "      <td>0.036847</td>\n",
       "      <td>-0.077221</td>\n",
       "      <td>-0.369226</td>\n",
       "      <td>1.000000</td>\n",
       "      <td>-0.308247</td>\n",
       "      <td>-0.189119</td>\n",
       "      <td>0.096067</td>\n",
       "    </tr>\n",
       "    <tr>\n",
       "      <th>SibSp</th>\n",
       "      <td>-0.057527</td>\n",
       "      <td>-0.035322</td>\n",
       "      <td>0.083081</td>\n",
       "      <td>-0.308247</td>\n",
       "      <td>1.000000</td>\n",
       "      <td>0.414838</td>\n",
       "      <td>0.159651</td>\n",
       "    </tr>\n",
       "    <tr>\n",
       "      <th>Parch</th>\n",
       "      <td>-0.001652</td>\n",
       "      <td>0.081629</td>\n",
       "      <td>0.018443</td>\n",
       "      <td>-0.189119</td>\n",
       "      <td>0.414838</td>\n",
       "      <td>1.000000</td>\n",
       "      <td>0.216225</td>\n",
       "    </tr>\n",
       "    <tr>\n",
       "      <th>Fare</th>\n",
       "      <td>0.012658</td>\n",
       "      <td>0.257307</td>\n",
       "      <td>-0.549500</td>\n",
       "      <td>0.096067</td>\n",
       "      <td>0.159651</td>\n",
       "      <td>0.216225</td>\n",
       "      <td>1.000000</td>\n",
       "    </tr>\n",
       "  </tbody>\n",
       "</table>\n",
       "</div>"
      ],
      "text/plain": [
       "             PassengerId  Survived    Pclass       Age     SibSp     Parch  \\\n",
       "PassengerId     1.000000 -0.005007 -0.035144  0.036847 -0.057527 -0.001652   \n",
       "Survived       -0.005007  1.000000 -0.338481 -0.077221 -0.035322  0.081629   \n",
       "Pclass         -0.035144 -0.338481  1.000000 -0.369226  0.083081  0.018443   \n",
       "Age             0.036847 -0.077221 -0.369226  1.000000 -0.308247 -0.189119   \n",
       "SibSp          -0.057527 -0.035322  0.083081 -0.308247  1.000000  0.414838   \n",
       "Parch          -0.001652  0.081629  0.018443 -0.189119  0.414838  1.000000   \n",
       "Fare            0.012658  0.257307 -0.549500  0.096067  0.159651  0.216225   \n",
       "\n",
       "                 Fare  \n",
       "PassengerId  0.012658  \n",
       "Survived     0.257307  \n",
       "Pclass      -0.549500  \n",
       "Age          0.096067  \n",
       "SibSp        0.159651  \n",
       "Parch        0.216225  \n",
       "Fare         1.000000  "
      ]
     },
     "execution_count": 16,
     "metadata": {},
     "output_type": "execute_result"
    }
   ],
   "source": [
    "df.corr()"
   ]
  },
  {
   "cell_type": "markdown",
   "id": "74f8c395",
   "metadata": {},
   "source": [
    "# Data Wrangling, Modelling and Training"
   ]
  },
  {
   "cell_type": "markdown",
   "id": "4840a905",
   "metadata": {},
   "source": [
    "##### Converting categorical variables to numerical, using get dummies."
   ]
  },
  {
   "cell_type": "code",
   "execution_count": 17,
   "id": "68c4a875",
   "metadata": {},
   "outputs": [],
   "source": [
    "sex = pd.get_dummies(df['Sex'], drop_first = True)\n",
    "embark = pd.get_dummies(df['Embarked'], drop_first = True)"
   ]
  },
  {
   "cell_type": "markdown",
   "id": "e9822c6d",
   "metadata": {},
   "source": [
    "##### After converting, I dropped the old columns and concatenated the new (numerical) columns."
   ]
  },
  {
   "cell_type": "code",
   "execution_count": 18,
   "id": "4b6e0f62",
   "metadata": {},
   "outputs": [],
   "source": [
    "df.drop(['Sex', 'Embarked', 'Name', 'Ticket'], axis = 1, inplace = True)"
   ]
  },
  {
   "cell_type": "code",
   "execution_count": 19,
   "id": "e1df4d5a",
   "metadata": {},
   "outputs": [],
   "source": [
    "df.drop(['Cabin'], axis = 1, inplace = True)"
   ]
  },
  {
   "cell_type": "code",
   "execution_count": 20,
   "id": "a7f8f356",
   "metadata": {},
   "outputs": [
    {
     "data": {
      "text/html": [
       "<div>\n",
       "<style scoped>\n",
       "    .dataframe tbody tr th:only-of-type {\n",
       "        vertical-align: middle;\n",
       "    }\n",
       "\n",
       "    .dataframe tbody tr th {\n",
       "        vertical-align: top;\n",
       "    }\n",
       "\n",
       "    .dataframe thead th {\n",
       "        text-align: right;\n",
       "    }\n",
       "</style>\n",
       "<table border=\"1\" class=\"dataframe\">\n",
       "  <thead>\n",
       "    <tr style=\"text-align: right;\">\n",
       "      <th></th>\n",
       "      <th>PassengerId</th>\n",
       "      <th>Survived</th>\n",
       "      <th>Pclass</th>\n",
       "      <th>Age</th>\n",
       "      <th>SibSp</th>\n",
       "      <th>Parch</th>\n",
       "      <th>Fare</th>\n",
       "      <th>Age_group</th>\n",
       "      <th>male</th>\n",
       "      <th>Q</th>\n",
       "      <th>S</th>\n",
       "    </tr>\n",
       "  </thead>\n",
       "  <tbody>\n",
       "    <tr>\n",
       "      <th>0</th>\n",
       "      <td>1</td>\n",
       "      <td>0</td>\n",
       "      <td>3</td>\n",
       "      <td>22.0</td>\n",
       "      <td>1</td>\n",
       "      <td>0</td>\n",
       "      <td>7.2500</td>\n",
       "      <td>Youths</td>\n",
       "      <td>1</td>\n",
       "      <td>0</td>\n",
       "      <td>1</td>\n",
       "    </tr>\n",
       "    <tr>\n",
       "      <th>1</th>\n",
       "      <td>2</td>\n",
       "      <td>1</td>\n",
       "      <td>1</td>\n",
       "      <td>38.0</td>\n",
       "      <td>1</td>\n",
       "      <td>0</td>\n",
       "      <td>71.2833</td>\n",
       "      <td>Adults</td>\n",
       "      <td>0</td>\n",
       "      <td>0</td>\n",
       "      <td>0</td>\n",
       "    </tr>\n",
       "    <tr>\n",
       "      <th>2</th>\n",
       "      <td>3</td>\n",
       "      <td>1</td>\n",
       "      <td>3</td>\n",
       "      <td>26.0</td>\n",
       "      <td>0</td>\n",
       "      <td>0</td>\n",
       "      <td>7.9250</td>\n",
       "      <td>Youths</td>\n",
       "      <td>0</td>\n",
       "      <td>0</td>\n",
       "      <td>1</td>\n",
       "    </tr>\n",
       "    <tr>\n",
       "      <th>3</th>\n",
       "      <td>4</td>\n",
       "      <td>1</td>\n",
       "      <td>1</td>\n",
       "      <td>35.0</td>\n",
       "      <td>1</td>\n",
       "      <td>0</td>\n",
       "      <td>53.1000</td>\n",
       "      <td>Adults</td>\n",
       "      <td>0</td>\n",
       "      <td>0</td>\n",
       "      <td>1</td>\n",
       "    </tr>\n",
       "    <tr>\n",
       "      <th>4</th>\n",
       "      <td>5</td>\n",
       "      <td>0</td>\n",
       "      <td>3</td>\n",
       "      <td>35.0</td>\n",
       "      <td>0</td>\n",
       "      <td>0</td>\n",
       "      <td>8.0500</td>\n",
       "      <td>Adults</td>\n",
       "      <td>1</td>\n",
       "      <td>0</td>\n",
       "      <td>1</td>\n",
       "    </tr>\n",
       "  </tbody>\n",
       "</table>\n",
       "</div>"
      ],
      "text/plain": [
       "   PassengerId  Survived  Pclass   Age  SibSp  Parch     Fare Age_group  male  \\\n",
       "0            1         0       3  22.0      1      0   7.2500    Youths     1   \n",
       "1            2         1       1  38.0      1      0  71.2833    Adults     0   \n",
       "2            3         1       3  26.0      0      0   7.9250    Youths     0   \n",
       "3            4         1       1  35.0      1      0  53.1000    Adults     0   \n",
       "4            5         0       3  35.0      0      0   8.0500    Adults     1   \n",
       "\n",
       "   Q  S  \n",
       "0  0  1  \n",
       "1  0  0  \n",
       "2  0  1  \n",
       "3  0  1  \n",
       "4  0  1  "
      ]
     },
     "execution_count": 20,
     "metadata": {},
     "output_type": "execute_result"
    }
   ],
   "source": [
    "train = pd.concat([df, sex, embark], axis = 1)\n",
    "train.head()"
   ]
  },
  {
   "cell_type": "code",
   "execution_count": 21,
   "id": "54fae4f8",
   "metadata": {},
   "outputs": [
    {
     "data": {
      "text/plain": [
       "PassengerId      0\n",
       "Survived         0\n",
       "Pclass           0\n",
       "Age            177\n",
       "SibSp            0\n",
       "Parch            0\n",
       "Fare             0\n",
       "Age_group      177\n",
       "male             0\n",
       "Q                0\n",
       "S                0\n",
       "dtype: int64"
      ]
     },
     "execution_count": 21,
     "metadata": {},
     "output_type": "execute_result"
    }
   ],
   "source": [
    "train.isnull().sum()"
   ]
  },
  {
   "cell_type": "markdown",
   "id": "ab04d392",
   "metadata": {},
   "source": [
    "### Using a box plot of Pclass plotted against age, I was able to determine the average age of passengers in each class, then used a function to to fill each missing values with the average age of the class they belong to."
   ]
  },
  {
   "cell_type": "code",
   "execution_count": 22,
   "id": "7b0cca1e",
   "metadata": {},
   "outputs": [
    {
     "data": {
      "text/plain": [
       "<seaborn.axisgrid.FacetGrid at 0x1aed7d85e50>"
      ]
     },
     "execution_count": 22,
     "metadata": {},
     "output_type": "execute_result"
    },
    {
     "data": {
      "image/png": "[encoded data removed]",
      "text/plain": [
       "<Figure size 360x360 with 1 Axes>"
      ]
     },
     "metadata": {
      "needs_background": "light"
     },
     "output_type": "display_data"
    }
   ],
   "source": [
    "sns.catplot(data = df, x = 'Pclass', y = 'Age', kind = 'box')"
   ]
  },
  {
   "cell_type": "code",
   "execution_count": 23,
   "id": "23e1804b",
   "metadata": {},
   "outputs": [],
   "source": [
    "def input_age(cols):\n",
    "    Age = cols[0]\n",
    "    Pclass = cols[1]\n",
    "    \n",
    "    if pd.isnull(Age):\n",
    "        \n",
    "        if Pclass == 1:\n",
    "            return 37\n",
    "        \n",
    "        elif Pclass == 2:\n",
    "            return 29\n",
    "        \n",
    "        else:\n",
    "            return 24\n",
    "        \n",
    "    else:\n",
    "        return Age\n",
    "        "
   ]
  },
  {
   "cell_type": "code",
   "execution_count": 24,
   "id": "06025ae6",
   "metadata": {},
   "outputs": [],
   "source": [
    "train[\"Age\"] = train[['Age', 'Pclass']].apply(input_age, axis = 1)"
   ]
  },
  {
   "cell_type": "code",
   "execution_count": 25,
   "id": "a4efce3a",
   "metadata": {},
   "outputs": [],
   "source": [
    "bins = np.linspace(min(df['Age']), max(df['Age']), 5)\n",
    "group_names = ['Children', 'Youths', 'Adults', 'Aged']\n",
    "bins = [0, 18, 29, 59, 120]\n",
    "df['Age_group'] = pd.cut(df['Age'], bins, labels = group_names, include_lowest = True)"
   ]
  },
  {
   "cell_type": "code",
   "execution_count": 26,
   "id": "6cf37c84",
   "metadata": {},
   "outputs": [
    {
     "name": "stdout",
     "output_type": "stream",
     "text": [
      "<class 'pandas.core.frame.DataFrame'>\n",
      "RangeIndex: 891 entries, 0 to 890\n",
      "Data columns (total 11 columns):\n",
      " #   Column       Non-Null Count  Dtype   \n",
      "---  ------       --------------  -----   \n",
      " 0   PassengerId  891 non-null    int64   \n",
      " 1   Survived     891 non-null    int64   \n",
      " 2   Pclass       891 non-null    int64   \n",
      " 3   Age          891 non-null    float64 \n",
      " 4   SibSp        891 non-null    int64   \n",
      " 5   Parch        891 non-null    int64   \n",
      " 6   Fare         891 non-null    float64 \n",
      " 7   Age_group    714 non-null    category\n",
      " 8   male         891 non-null    uint8   \n",
      " 9   Q            891 non-null    uint8   \n",
      " 10  S            891 non-null    uint8   \n",
      "dtypes: category(1), float64(2), int64(5), uint8(3)\n",
      "memory usage: 52.5 KB\n"
     ]
    }
   ],
   "source": [
    "train.info()"
   ]
  },
  {
   "cell_type": "code",
   "execution_count": 27,
   "id": "1bfe0330",
   "metadata": {},
   "outputs": [
    {
     "data": {
      "text/html": [
       "<div>\n",
       "<style scoped>\n",
       "    .dataframe tbody tr th:only-of-type {\n",
       "        vertical-align: middle;\n",
       "    }\n",
       "\n",
       "    .dataframe tbody tr th {\n",
       "        vertical-align: top;\n",
       "    }\n",
       "\n",
       "    .dataframe thead th {\n",
       "        text-align: right;\n",
       "    }\n",
       "</style>\n",
       "<table border=\"1\" class=\"dataframe\">\n",
       "  <thead>\n",
       "    <tr style=\"text-align: right;\">\n",
       "      <th></th>\n",
       "      <th>PassengerId</th>\n",
       "      <th>Survived</th>\n",
       "      <th>Pclass</th>\n",
       "      <th>Age</th>\n",
       "      <th>SibSp</th>\n",
       "      <th>Parch</th>\n",
       "      <th>Fare</th>\n",
       "      <th>Age_group</th>\n",
       "      <th>male</th>\n",
       "      <th>Q</th>\n",
       "      <th>S</th>\n",
       "    </tr>\n",
       "  </thead>\n",
       "  <tbody>\n",
       "    <tr>\n",
       "      <th>0</th>\n",
       "      <td>1</td>\n",
       "      <td>0</td>\n",
       "      <td>3</td>\n",
       "      <td>22.0</td>\n",
       "      <td>1</td>\n",
       "      <td>0</td>\n",
       "      <td>7.2500</td>\n",
       "      <td>Youths</td>\n",
       "      <td>1</td>\n",
       "      <td>0</td>\n",
       "      <td>1</td>\n",
       "    </tr>\n",
       "    <tr>\n",
       "      <th>1</th>\n",
       "      <td>2</td>\n",
       "      <td>1</td>\n",
       "      <td>1</td>\n",
       "      <td>38.0</td>\n",
       "      <td>1</td>\n",
       "      <td>0</td>\n",
       "      <td>71.2833</td>\n",
       "      <td>Adults</td>\n",
       "      <td>0</td>\n",
       "      <td>0</td>\n",
       "      <td>0</td>\n",
       "    </tr>\n",
       "    <tr>\n",
       "      <th>2</th>\n",
       "      <td>3</td>\n",
       "      <td>1</td>\n",
       "      <td>3</td>\n",
       "      <td>26.0</td>\n",
       "      <td>0</td>\n",
       "      <td>0</td>\n",
       "      <td>7.9250</td>\n",
       "      <td>Youths</td>\n",
       "      <td>0</td>\n",
       "      <td>0</td>\n",
       "      <td>1</td>\n",
       "    </tr>\n",
       "    <tr>\n",
       "      <th>3</th>\n",
       "      <td>4</td>\n",
       "      <td>1</td>\n",
       "      <td>1</td>\n",
       "      <td>35.0</td>\n",
       "      <td>1</td>\n",
       "      <td>0</td>\n",
       "      <td>53.1000</td>\n",
       "      <td>Adults</td>\n",
       "      <td>0</td>\n",
       "      <td>0</td>\n",
       "      <td>1</td>\n",
       "    </tr>\n",
       "    <tr>\n",
       "      <th>4</th>\n",
       "      <td>5</td>\n",
       "      <td>0</td>\n",
       "      <td>3</td>\n",
       "      <td>35.0</td>\n",
       "      <td>0</td>\n",
       "      <td>0</td>\n",
       "      <td>8.0500</td>\n",
       "      <td>Adults</td>\n",
       "      <td>1</td>\n",
       "      <td>0</td>\n",
       "      <td>1</td>\n",
       "    </tr>\n",
       "  </tbody>\n",
       "</table>\n",
       "</div>"
      ],
      "text/plain": [
       "   PassengerId  Survived  Pclass   Age  SibSp  Parch     Fare Age_group  male  \\\n",
       "0            1         0       3  22.0      1      0   7.2500    Youths     1   \n",
       "1            2         1       1  38.0      1      0  71.2833    Adults     0   \n",
       "2            3         1       3  26.0      0      0   7.9250    Youths     0   \n",
       "3            4         1       1  35.0      1      0  53.1000    Adults     0   \n",
       "4            5         0       3  35.0      0      0   8.0500    Adults     1   \n",
       "\n",
       "   Q  S  \n",
       "0  0  1  \n",
       "1  0  0  \n",
       "2  0  1  \n",
       "3  0  1  \n",
       "4  0  1  "
      ]
     },
     "execution_count": 27,
     "metadata": {},
     "output_type": "execute_result"
    }
   ],
   "source": [
    "train.head()"
   ]
  },
  {
   "cell_type": "code",
   "execution_count": 28,
   "id": "4ffb446f",
   "metadata": {},
   "outputs": [
    {
     "name": "stdout",
     "output_type": "stream",
     "text": [
      "<class 'pandas.core.frame.DataFrame'>\n",
      "RangeIndex: 891 entries, 0 to 890\n",
      "Data columns (total 11 columns):\n",
      " #   Column       Non-Null Count  Dtype   \n",
      "---  ------       --------------  -----   \n",
      " 0   PassengerId  891 non-null    int64   \n",
      " 1   Survived     891 non-null    int64   \n",
      " 2   Pclass       891 non-null    int64   \n",
      " 3   Age          891 non-null    float64 \n",
      " 4   SibSp        891 non-null    int64   \n",
      " 5   Parch        891 non-null    int64   \n",
      " 6   Fare         891 non-null    float64 \n",
      " 7   Age_group    714 non-null    category\n",
      " 8   male         891 non-null    uint8   \n",
      " 9   Q            891 non-null    uint8   \n",
      " 10  S            891 non-null    uint8   \n",
      "dtypes: category(1), float64(2), int64(5), uint8(3)\n",
      "memory usage: 52.5 KB\n"
     ]
    }
   ],
   "source": [
    "train.info()"
   ]
  },
  {
   "cell_type": "markdown",
   "id": "0212dfd8",
   "metadata": {},
   "source": [
    "# Data is cleaned and ready."
   ]
  },
  {
   "cell_type": "markdown",
   "id": "3d69ae47",
   "metadata": {},
   "source": [
    "## DATA  PREPROCESSING"
   ]
  },
  {
   "cell_type": "code",
   "execution_count": 29,
   "id": "9b543038",
   "metadata": {},
   "outputs": [],
   "source": [
    "x = train[['Pclass', 'Age', 'SibSp', 'Parch', 'Fare', 'male', 'Q', 'S']]\n",
    "y = df['Survived']"
   ]
  },
  {
   "cell_type": "code",
   "execution_count": 30,
   "id": "d134217d",
   "metadata": {},
   "outputs": [],
   "source": [
    "#train_test_split\n",
    "from sklearn.model_selection import train_test_split\n",
    "\n",
    "x_train, x_test, y_train, y_test= train_test_split (x,y,test_size=1/3, random_state = 0)"
   ]
  },
  {
   "cell_type": "code",
   "execution_count": 31,
   "id": "967e614f",
   "metadata": {},
   "outputs": [
    {
     "data": {
      "text/plain": [
       "(594, 8)"
      ]
     },
     "execution_count": 31,
     "metadata": {},
     "output_type": "execute_result"
    }
   ],
   "source": [
    "x_train.shape"
   ]
  },
  {
   "cell_type": "code",
   "execution_count": 32,
   "id": "bb854a81",
   "metadata": {},
   "outputs": [
    {
     "data": {
      "text/plain": [
       "(594,)"
      ]
     },
     "execution_count": 32,
     "metadata": {},
     "output_type": "execute_result"
    }
   ],
   "source": [
    "y_train.shape"
   ]
  },
  {
   "cell_type": "code",
   "execution_count": 33,
   "id": "4f69a7ee",
   "metadata": {},
   "outputs": [],
   "source": [
    "x_train = x_train.values.reshape(1, -1)\n",
    "y_train = y_train.values.reshape(1, -1)"
   ]
  },
  {
   "cell_type": "code",
   "execution_count": 34,
   "id": "4f8e1b9e",
   "metadata": {},
   "outputs": [],
   "source": [
    "x_test = x_test.values.reshape(-1, 1)\n",
    "y_test = y_test.values.reshape(-1, 1)"
   ]
  },
  {
   "cell_type": "code",
   "execution_count": 35,
   "id": "6f02b378",
   "metadata": {},
   "outputs": [],
   "source": [
    "from sklearn.model_selection import train_test_split\n",
    "\n",
    "x_train, x_test,y_train, y_test= train_test_split (x,y,test_size=0.3,random_state=42)"
   ]
  },
  {
   "cell_type": "markdown",
   "id": "cea41b47",
   "metadata": {},
   "source": [
    "# Machine Learning Algorithms\n",
    "\n",
    "I applied various methods to see which model has the highest accuracy."
   ]
  },
  {
   "cell_type": "markdown",
   "id": "006720a7",
   "metadata": {},
   "source": [
    "# Algorithm/ Model 1: Logistic Regression"
   ]
  },
  {
   "cell_type": "code",
   "execution_count": 36,
   "id": "2f058c5c",
   "metadata": {},
   "outputs": [
    {
     "data": {
      "text/plain": [
       "LogisticRegression(max_iter=2000)"
      ]
     },
     "execution_count": 36,
     "metadata": {},
     "output_type": "execute_result"
    }
   ],
   "source": [
    "from sklearn.linear_model import LogisticRegression\n",
    "classifier = LogisticRegression(max_iter = 2000)\n",
    "classifier.fit(x_train, y_train)"
   ]
  },
  {
   "cell_type": "code",
   "execution_count": 37,
   "id": "aec7a049",
   "metadata": {},
   "outputs": [],
   "source": [
    "y_pred = classifier.predict(x_test)"
   ]
  },
  {
   "cell_type": "code",
   "execution_count": 38,
   "id": "c65b094c",
   "metadata": {},
   "outputs": [],
   "source": [
    "from sklearn import metrics\n",
    "from sklearn.metrics import roc_curve\n",
    "from sklearn.metrics import auc"
   ]
  },
  {
   "cell_type": "code",
   "execution_count": 39,
   "id": "3ac428f6",
   "metadata": {},
   "outputs": [],
   "source": [
    "def conftable(test,pred, imagename):\n",
    "    confmatrix= metrics.confusion_matrix(y_test, y_pred)\n",
    "    plt.matshow(confmatrix)\n",
    "    plt.title('Confusion matrix')\n",
    "    plt.colorbar()\n",
    "    plt.ylabel('GroundTruth')\n",
    "    plt.xlabel('Predicted')\n",
    "    plt.savefig(imagename)\n",
    "    \n",
    "    plt.show()\n",
    "    print(confmatrix)"
   ]
  },
  {
   "cell_type": "code",
   "execution_count": 40,
   "id": "f12bb3f8",
   "metadata": {},
   "outputs": [
    {
     "name": "stdout",
     "output_type": "stream",
     "text": [
      "Accuracy:  0.8134328358208955\n",
      "Precision:  0.801980198019802\n",
      "Recall:  0.7297297297297297\n",
      "ROC AUC (array([0.        , 0.12738854, 1.        ]), array([0.        , 0.72972973, 1.        ]))\n"
     ]
    },
    {
     "data": {
      "image/png": "[encoded data removed]",
      "text/plain": [
       "<Figure size 288x288 with 2 Axes>"
      ]
     },
     "metadata": {
      "needs_background": "light"
     },
     "output_type": "display_data"
    },
    {
     "name": "stdout",
     "output_type": "stream",
     "text": [
      "[[137  20]\n",
      " [ 30  81]]\n"
     ]
    }
   ],
   "source": [
    "print(\"Accuracy: \", metrics.accuracy_score(y_test, y_pred))\n",
    "print(\"Precision: \", metrics.precision_score(y_test, y_pred))\n",
    "print(\"Recall: \", metrics.recall_score(y_test, y_pred))\n",
    "fpr, tpr, thresholds = roc_curve(y_test, y_pred)\n",
    "roc_auc= (fpr, tpr)\n",
    "print  (\"ROC AUC\", roc_auc)\n",
    "conftable(y_test,y_pred,\"conf\")"
   ]
  },
  {
   "cell_type": "markdown",
   "id": "919ea6ff",
   "metadata": {},
   "source": [
    "# Algorithm/ Model 2 : Naive Bayes"
   ]
  },
  {
   "cell_type": "code",
   "execution_count": 41,
   "id": "31529edb",
   "metadata": {},
   "outputs": [
    {
     "data": {
      "text/plain": [
       "GaussianNB()"
      ]
     },
     "execution_count": 41,
     "metadata": {},
     "output_type": "execute_result"
    }
   ],
   "source": [
    "from sklearn.naive_bayes import GaussianNB\n",
    "classifier = GaussianNB()\n",
    "classifier.fit(x_train, y_train)"
   ]
  },
  {
   "cell_type": "code",
   "execution_count": 42,
   "id": "3015fc39",
   "metadata": {},
   "outputs": [],
   "source": [
    "y_pred = classifier.predict(x_test)"
   ]
  },
  {
   "cell_type": "code",
   "execution_count": 43,
   "id": "4b4c754e",
   "metadata": {},
   "outputs": [
    {
     "name": "stdout",
     "output_type": "stream",
     "text": [
      "Accuracy:  0.7947761194029851\n",
      "Precision:  0.7545454545454545\n",
      "Recall:  0.7477477477477478\n"
     ]
    }
   ],
   "source": [
    "print(\"Accuracy: \", metrics.accuracy_score(y_test, y_pred))\n",
    "print(\"Precision: \", metrics.precision_score(y_test, y_pred))\n",
    "print(\"Recall: \", metrics.recall_score(y_test, y_pred))"
   ]
  },
  {
   "cell_type": "code",
   "execution_count": 44,
   "id": "f983cf4e",
   "metadata": {},
   "outputs": [
    {
     "name": "stdout",
     "output_type": "stream",
     "text": [
      "ROC AUC 0.787886612727377\n"
     ]
    }
   ],
   "source": [
    "from sklearn.metrics import roc_curve, auc\n",
    "fpr, tpr, thresholds = roc_curve (y_test, y_pred)\n",
    "roc_auc= auc (fpr, tpr)\n",
    "print  (\"ROC AUC\", roc_auc)"
   ]
  },
  {
   "cell_type": "code",
   "execution_count": 45,
   "id": "d0a7e305",
   "metadata": {},
   "outputs": [
    {
     "data": {
      "image/png": "[encoded data removed]",
      "text/plain": [
       "<Figure size 288x288 with 2 Axes>"
      ]
     },
     "metadata": {
      "needs_background": "light"
     },
     "output_type": "display_data"
    },
    {
     "name": "stdout",
     "output_type": "stream",
     "text": [
      "[[130  27]\n",
      " [ 28  83]]\n"
     ]
    }
   ],
   "source": [
    "conftable(y_test,y_pred,\"conf\")"
   ]
  },
  {
   "cell_type": "code",
   "execution_count": 46,
   "id": "4f91f198",
   "metadata": {},
   "outputs": [
    {
     "data": {
      "text/plain": [
       "0    157\n",
       "1    111\n",
       "Name: Survived, dtype: int64"
      ]
     },
     "execution_count": 46,
     "metadata": {},
     "output_type": "execute_result"
    }
   ],
   "source": [
    "pd.Series(y_test).value_counts()"
   ]
  },
  {
   "cell_type": "markdown",
   "id": "5a125481",
   "metadata": {},
   "source": [
    "### Algorithm/ Model 3 : Random Forest "
   ]
  },
  {
   "cell_type": "code",
   "execution_count": 47,
   "id": "fdb4549d",
   "metadata": {},
   "outputs": [
    {
     "data": {
      "text/plain": [
       "RandomForestClassifier(criterion='entropy', n_estimators=2000)"
      ]
     },
     "execution_count": 47,
     "metadata": {},
     "output_type": "execute_result"
    }
   ],
   "source": [
    "from sklearn.ensemble import RandomForestClassifier\n",
    "classifier = RandomForestClassifier(n_estimators = 2000, criterion = 'entropy')\n",
    "classifier.fit(x_train, y_train)"
   ]
  },
  {
   "cell_type": "code",
   "execution_count": 48,
   "id": "4e04bdb0",
   "metadata": {},
   "outputs": [
    {
     "name": "stdout",
     "output_type": "stream",
     "text": [
      "Accuracy:  0.7947761194029851\n",
      "Precision:  0.7545454545454545\n",
      "Recall:  0.7477477477477478\n",
      "ROC AUC 0.787886612727377\n"
     ]
    },
    {
     "data": {
      "image/png": "[encoded data removed]",
      "text/plain": [
       "<Figure size 288x288 with 2 Axes>"
      ]
     },
     "metadata": {
      "needs_background": "light"
     },
     "output_type": "display_data"
    },
    {
     "name": "stdout",
     "output_type": "stream",
     "text": [
      "[[130  27]\n",
      " [ 28  83]]\n"
     ]
    }
   ],
   "source": [
    "print(\"Accuracy: \", metrics.accuracy_score(y_test, y_pred))\n",
    "print(\"Precision: \", metrics.precision_score(y_test, y_pred))\n",
    "print(\"Recall: \", metrics.recall_score(y_test, y_pred))\n",
    "fpr, tpr, thresholds = roc_curve (y_test, y_pred)\n",
    "roc_auc= auc (fpr, tpr)\n",
    "print  (\"ROC AUC\", roc_auc)\n",
    "conftable(y_test,y_pred,\"conf\")"
   ]
  },
  {
   "cell_type": "markdown",
   "id": "3492acd9",
   "metadata": {},
   "source": [
    "### Extra Algorithm/ Model 4 : XGBoost"
   ]
  },
  {
   "cell_type": "code",
   "execution_count": 49,
   "id": "8318ae1a",
   "metadata": {},
   "outputs": [],
   "source": [
    "#pip install xgboost"
   ]
  },
  {
   "cell_type": "code",
   "execution_count": 50,
   "id": "5f437fa8",
   "metadata": {},
   "outputs": [],
   "source": [
    "import xgboost as xgb\n",
    "from xgboost import XGBClassifier\n",
    "\n",
    "xgboost = XGBClassifier()\n",
    "xgb = xgboost.fit( x_train, y_train)\n",
    "y_pred = xgb.predict(x_test)"
   ]
  },
  {
   "cell_type": "code",
   "execution_count": 51,
   "id": "eec659e7",
   "metadata": {},
   "outputs": [
    {
     "name": "stdout",
     "output_type": "stream",
     "text": [
      "Accuracy:  0.8097014925373134\n",
      "Precision:  0.7777777777777778\n",
      "Recall:  0.7567567567567568\n",
      "ROC AUC 0.8019452573592701\n"
     ]
    },
    {
     "data": {
      "image/png": "[encoded data removed]",
      "text/plain": [
       "<Figure size 288x288 with 2 Axes>"
      ]
     },
     "metadata": {
      "needs_background": "light"
     },
     "output_type": "display_data"
    },
    {
     "name": "stdout",
     "output_type": "stream",
     "text": [
      "[[133  24]\n",
      " [ 27  84]]\n"
     ]
    }
   ],
   "source": [
    "print(\"Accuracy: \", metrics.accuracy_score(y_test, y_pred))\n",
    "print(\"Precision: \", metrics.precision_score(y_test, y_pred))\n",
    "print(\"Recall: \", metrics.recall_score(y_test, y_pred))\n",
    "fpr, tpr, thresholds = roc_curve (y_test, y_pred)\n",
    "roc_auc= auc (fpr, tpr)\n",
    "print  (\"ROC AUC\", roc_auc)\n",
    "conftable(y_test,y_pred,\"conf\")"
   ]
  },
  {
   "cell_type": "code",
   "execution_count": 52,
   "id": "d94cd754",
   "metadata": {},
   "outputs": [],
   "source": [
    "# pip install catboost"
   ]
  },
  {
   "cell_type": "code",
   "execution_count": 53,
   "id": "aa818970",
   "metadata": {},
   "outputs": [
    {
     "name": "stdout",
     "output_type": "stream",
     "text": [
      "Learning rate set to 0.069531\n",
      "0:\tlearn: 0.6672653\ttotal: 57.1ms\tremaining: 5.66s\n",
      "1:\tlearn: 0.6460387\ttotal: 62.9ms\tremaining: 3.08s\n",
      "2:\tlearn: 0.6247994\ttotal: 71.6ms\tremaining: 2.31s\n",
      "3:\tlearn: 0.6083764\ttotal: 73.6ms\tremaining: 1.77s\n",
      "4:\tlearn: 0.5908373\ttotal: 75.7ms\tremaining: 1.44s\n",
      "5:\tlearn: 0.5747877\ttotal: 78.1ms\tremaining: 1.22s\n",
      "6:\tlearn: 0.5598261\ttotal: 80.3ms\tremaining: 1.07s\n",
      "7:\tlearn: 0.5476956\ttotal: 82ms\tremaining: 943ms\n",
      "8:\tlearn: 0.5363846\ttotal: 84.4ms\tremaining: 853ms\n",
      "9:\tlearn: 0.5244081\ttotal: 86.6ms\tremaining: 780ms\n",
      "10:\tlearn: 0.5158964\ttotal: 89.3ms\tremaining: 723ms\n",
      "11:\tlearn: 0.5075148\ttotal: 91.5ms\tremaining: 671ms\n",
      "12:\tlearn: 0.4980897\ttotal: 93.7ms\tremaining: 627ms\n",
      "13:\tlearn: 0.4898743\ttotal: 95.9ms\tremaining: 589ms\n",
      "14:\tlearn: 0.4833115\ttotal: 98.2ms\tremaining: 556ms\n",
      "15:\tlearn: 0.4766326\ttotal: 101ms\tremaining: 531ms\n",
      "16:\tlearn: 0.4704849\ttotal: 107ms\tremaining: 520ms\n",
      "17:\tlearn: 0.4645382\ttotal: 110ms\tremaining: 499ms\n",
      "18:\tlearn: 0.4593139\ttotal: 114ms\tremaining: 488ms\n",
      "19:\tlearn: 0.4542045\ttotal: 118ms\tremaining: 472ms\n",
      "20:\tlearn: 0.4498773\ttotal: 121ms\tremaining: 456ms\n",
      "21:\tlearn: 0.4457228\ttotal: 124ms\tremaining: 440ms\n",
      "22:\tlearn: 0.4432298\ttotal: 127ms\tremaining: 424ms\n",
      "23:\tlearn: 0.4395147\ttotal: 130ms\tremaining: 410ms\n",
      "24:\tlearn: 0.4356373\ttotal: 133ms\tremaining: 399ms\n",
      "25:\tlearn: 0.4319033\ttotal: 136ms\tremaining: 386ms\n",
      "26:\tlearn: 0.4286560\ttotal: 138ms\tremaining: 374ms\n",
      "27:\tlearn: 0.4279849\ttotal: 140ms\tremaining: 360ms\n",
      "28:\tlearn: 0.4244714\ttotal: 142ms\tremaining: 348ms\n",
      "29:\tlearn: 0.4227220\ttotal: 146ms\tremaining: 340ms\n",
      "30:\tlearn: 0.4210504\ttotal: 148ms\tremaining: 329ms\n",
      "31:\tlearn: 0.4188769\ttotal: 151ms\tremaining: 320ms\n",
      "32:\tlearn: 0.4164884\ttotal: 153ms\tremaining: 310ms\n",
      "33:\tlearn: 0.4142769\ttotal: 156ms\tremaining: 302ms\n",
      "34:\tlearn: 0.4119826\ttotal: 159ms\tremaining: 295ms\n",
      "35:\tlearn: 0.4102707\ttotal: 161ms\tremaining: 286ms\n",
      "36:\tlearn: 0.4080274\ttotal: 163ms\tremaining: 278ms\n",
      "37:\tlearn: 0.4065226\ttotal: 166ms\tremaining: 270ms\n",
      "38:\tlearn: 0.4050055\ttotal: 168ms\tremaining: 263ms\n",
      "39:\tlearn: 0.4035395\ttotal: 170ms\tremaining: 255ms\n",
      "40:\tlearn: 0.4021195\ttotal: 174ms\tremaining: 250ms\n",
      "41:\tlearn: 0.4006846\ttotal: 183ms\tremaining: 252ms\n",
      "42:\tlearn: 0.3998837\ttotal: 185ms\tremaining: 245ms\n",
      "43:\tlearn: 0.3985247\ttotal: 188ms\tremaining: 240ms\n",
      "44:\tlearn: 0.3974779\ttotal: 191ms\tremaining: 233ms\n",
      "45:\tlearn: 0.3961459\ttotal: 193ms\tremaining: 227ms\n",
      "46:\tlearn: 0.3955403\ttotal: 196ms\tremaining: 221ms\n",
      "47:\tlearn: 0.3946181\ttotal: 198ms\tremaining: 215ms\n",
      "48:\tlearn: 0.3934912\ttotal: 200ms\tremaining: 208ms\n",
      "49:\tlearn: 0.3927515\ttotal: 202ms\tremaining: 202ms\n",
      "50:\tlearn: 0.3920286\ttotal: 205ms\tremaining: 197ms\n",
      "51:\tlearn: 0.3911083\ttotal: 207ms\tremaining: 191ms\n",
      "52:\tlearn: 0.3902351\ttotal: 209ms\tremaining: 185ms\n",
      "53:\tlearn: 0.3898584\ttotal: 211ms\tremaining: 180ms\n",
      "54:\tlearn: 0.3892967\ttotal: 213ms\tremaining: 174ms\n",
      "55:\tlearn: 0.3884728\ttotal: 215ms\tremaining: 169ms\n",
      "56:\tlearn: 0.3878109\ttotal: 217ms\tremaining: 164ms\n",
      "57:\tlearn: 0.3871575\ttotal: 219ms\tremaining: 158ms\n",
      "58:\tlearn: 0.3860407\ttotal: 221ms\tremaining: 153ms\n",
      "59:\tlearn: 0.3847327\ttotal: 223ms\tremaining: 148ms\n",
      "60:\tlearn: 0.3844342\ttotal: 225ms\tremaining: 144ms\n",
      "61:\tlearn: 0.3836071\ttotal: 227ms\tremaining: 139ms\n",
      "62:\tlearn: 0.3832504\ttotal: 229ms\tremaining: 134ms\n",
      "63:\tlearn: 0.3824814\ttotal: 231ms\tremaining: 130ms\n",
      "64:\tlearn: 0.3813879\ttotal: 234ms\tremaining: 126ms\n",
      "65:\tlearn: 0.3806912\ttotal: 236ms\tremaining: 122ms\n",
      "66:\tlearn: 0.3801899\ttotal: 238ms\tremaining: 117ms\n",
      "67:\tlearn: 0.3791930\ttotal: 240ms\tremaining: 113ms\n",
      "68:\tlearn: 0.3784951\ttotal: 242ms\tremaining: 109ms\n",
      "69:\tlearn: 0.3780598\ttotal: 244ms\tremaining: 104ms\n",
      "70:\tlearn: 0.3776088\ttotal: 246ms\tremaining: 100ms\n",
      "71:\tlearn: 0.3769221\ttotal: 248ms\tremaining: 96.4ms\n",
      "72:\tlearn: 0.3766086\ttotal: 249ms\tremaining: 92.1ms\n",
      "73:\tlearn: 0.3760692\ttotal: 251ms\tremaining: 88.2ms\n",
      "74:\tlearn: 0.3749178\ttotal: 253ms\tremaining: 84.3ms\n",
      "75:\tlearn: 0.3741860\ttotal: 255ms\tremaining: 80.6ms\n",
      "76:\tlearn: 0.3737959\ttotal: 257ms\tremaining: 76.9ms\n",
      "77:\tlearn: 0.3735192\ttotal: 259ms\tremaining: 73.1ms\n",
      "78:\tlearn: 0.3726620\ttotal: 262ms\tremaining: 69.6ms\n",
      "79:\tlearn: 0.3719390\ttotal: 264ms\tremaining: 66.1ms\n",
      "80:\tlearn: 0.3716629\ttotal: 266ms\tremaining: 62.4ms\n",
      "81:\tlearn: 0.3711851\ttotal: 268ms\tremaining: 58.9ms\n",
      "82:\tlearn: 0.3708194\ttotal: 270ms\tremaining: 55.3ms\n",
      "83:\tlearn: 0.3701317\ttotal: 272ms\tremaining: 51.8ms\n",
      "84:\tlearn: 0.3696559\ttotal: 274ms\tremaining: 48.3ms\n",
      "85:\tlearn: 0.3693602\ttotal: 276ms\tremaining: 44.9ms\n",
      "86:\tlearn: 0.3689793\ttotal: 278ms\tremaining: 41.5ms\n",
      "87:\tlearn: 0.3679759\ttotal: 280ms\tremaining: 38.2ms\n",
      "88:\tlearn: 0.3674201\ttotal: 282ms\tremaining: 34.8ms\n",
      "89:\tlearn: 0.3660463\ttotal: 284ms\tremaining: 31.5ms\n",
      "90:\tlearn: 0.3658267\ttotal: 285ms\tremaining: 28.2ms\n",
      "91:\tlearn: 0.3652144\ttotal: 287ms\tremaining: 25ms\n",
      "92:\tlearn: 0.3648182\ttotal: 289ms\tremaining: 21.8ms\n",
      "93:\tlearn: 0.3643137\ttotal: 291ms\tremaining: 18.6ms\n",
      "94:\tlearn: 0.3638011\ttotal: 295ms\tremaining: 15.5ms\n",
      "95:\tlearn: 0.3635518\ttotal: 298ms\tremaining: 12.4ms\n",
      "96:\tlearn: 0.3632837\ttotal: 300ms\tremaining: 9.28ms\n",
      "97:\tlearn: 0.3629699\ttotal: 302ms\tremaining: 6.17ms\n",
      "98:\tlearn: 0.3627021\ttotal: 305ms\tremaining: 3.08ms\n",
      "99:\tlearn: 0.3621366\ttotal: 307ms\tremaining: 0us\n"
     ]
    }
   ],
   "source": [
    "from catboost import Pool, CatBoostClassifier\n",
    "\n",
    "catboost = CatBoostClassifier(random_seed = 1000, iterations = 100)\n",
    "cat = catboost.fit( x_train, y_train)\n",
    "y_pred = cat.predict(x_test)"
   ]
  },
  {
   "cell_type": "code",
   "execution_count": 54,
   "id": "a5e3ac14",
   "metadata": {},
   "outputs": [
    {
     "data": {
      "text/plain": [
       "<catboost.core.CatBoostClassifier at 0x1aedaf1d6a0>"
      ]
     },
     "execution_count": 54,
     "metadata": {},
     "output_type": "execute_result"
    }
   ],
   "source": [
    "from catboost.utils import get_confusion_matrix\n",
    "model = CatBoostClassifier(loss_function = 'MultiClass', iterations = 2000, verbose = False)\n",
    "model.fit(x_train, y_train)"
   ]
  },
  {
   "cell_type": "code",
   "execution_count": 55,
   "id": "6c21a86c",
   "metadata": {},
   "outputs": [
    {
     "name": "stdout",
     "output_type": "stream",
     "text": [
      "Accuracy:  0.8134328358208955\n",
      "Precision:  0.8588235294117647\n",
      "Recall:  0.6576576576576577\n",
      "ROC AUC 0.7906122683192748\n"
     ]
    },
    {
     "data": {
      "image/png": "[encoded data removed]",
      "text/plain": [
       "<Figure size 288x288 with 2 Axes>"
      ]
     },
     "metadata": {
      "needs_background": "light"
     },
     "output_type": "display_data"
    },
    {
     "name": "stdout",
     "output_type": "stream",
     "text": [
      "[[145  12]\n",
      " [ 38  73]]\n"
     ]
    }
   ],
   "source": [
    "print(\"Accuracy: \", metrics.accuracy_score(y_test, y_pred))\n",
    "print(\"Precision: \", metrics.precision_score(y_test, y_pred))\n",
    "print(\"Recall: \", metrics.recall_score(y_test, y_pred))\n",
    "fpr, tpr, thresholds = roc_curve (y_test, y_pred)\n",
    "roc_auc= auc (fpr, tpr)\n",
    "print  (\"ROC AUC\", roc_auc)\n",
    "conftable(y_test,y_pred,\"conf\")"
   ]
  },
  {
   "cell_type": "code",
   "execution_count": 56,
   "id": "3cf0b78f",
   "metadata": {},
   "outputs": [
    {
     "data": {
      "text/plain": [
       "<AxesSubplot:>"
      ]
     },
     "execution_count": 56,
     "metadata": {},
     "output_type": "execute_result"
    },
    {
     "data": {
      "image/png": "[encoded data removed]",
      "text/plain": [
       "<Figure size 432x288 with 2 Axes>"
      ]
     },
     "metadata": {
      "needs_background": "light"
     },
     "output_type": "display_data"
    }
   ],
   "source": [
    "sns.heatmap(train.corr(), linewidths = 1)"
   ]
  },
  {
   "cell_type": "markdown",
   "id": "9993b72d",
   "metadata": {},
   "source": [
    "#### From the heat map, we can see that Fare had the highest effect on survival rate"
   ]
  },
  {
   "cell_type": "code",
   "execution_count": 57,
   "id": "be5e5be7",
   "metadata": {},
   "outputs": [],
   "source": [
    "df.to_csv('titanic')"
   ]
  },
  {
   "cell_type": "code",
   "execution_count": null,
   "id": "b2ad67d3",
   "metadata": {},
   "outputs": [],
   "source": []
  }
 ],
 "metadata": {
  "kernelspec": {
   "display_name": "Python 3 (ipykernel)",
   "language": "python",
   "name": "python3"
  },
  "language_info": {
   "codemirror_mode": {
    "name": "ipython",
    "version": 3
   },
   "file_extension": ".py",
   "mimetype": "text/x-python",
   "name": "python",
   "nbconvert_exporter": "python",
   "pygments_lexer": "ipython3",
   "version": "3.9.7"
  }
 },
 "nbformat": 4,
 "nbformat_minor": 5
}
