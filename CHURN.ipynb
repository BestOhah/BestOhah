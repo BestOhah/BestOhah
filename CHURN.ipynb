{
 "cells": [
  {
   "cell_type": "markdown",
   "id": "7d95604e",
   "metadata": {},
   "source": [
    "# Expresso is an African telecommunications company that provides customers with airtime and mobile data bundles"
   ]
  },
  {
   "cell_type": "markdown",
   "id": "2ca2c303",
   "metadata": {},
   "source": [
    "### Objective: Predicting the likely hood of each customer becoming inactive for 90 days, i.e churning."
   ]
  },
  {
   "cell_type": "markdown",
   "id": "7e64a637",
   "metadata": {},
   "source": [
    "# Importing the necessary libraries"
   ]
  },
  {
   "cell_type": "code",
   "execution_count": 1,
   "id": "19c9c67f",
   "metadata": {},
   "outputs": [],
   "source": [
    "import pandas as pd\n",
    "import numpy as np\n",
    "import matplotlib.pyplot as plt\n",
    "import seaborn as sns"
   ]
  },
  {
   "cell_type": "markdown",
   "id": "46830622",
   "metadata": {},
   "source": [
    "# Data Importation"
   ]
  },
  {
   "cell_type": "code",
   "execution_count": 2,
   "id": "a3d14286",
   "metadata": {},
   "outputs": [],
   "source": [
    "df = pd.read_csv('Train-2.csv', index_col = 'user_id')\n",
    "df.head()\n",
    "df_ml = df.copy()"
   ]
  },
  {
   "cell_type": "code",
   "execution_count": 3,
   "id": "77d995ac",
   "metadata": {},
   "outputs": [],
   "source": [
    "df_1 = df.copy()"
   ]
  },
  {
   "cell_type": "markdown",
   "id": "7384c19b",
   "metadata": {},
   "source": [
    "# Data Variables/Information"
   ]
  },
  {
   "cell_type": "code",
   "execution_count": 4,
   "id": "607172f1",
   "metadata": {},
   "outputs": [],
   "source": [
    "# The churn dataset includes 19 variables including 15 numeric variables and 04 categorical variables.\n",
    "# user_id; Customer ID\n",
    "# REGION; The location of each client\n",
    "# TENURE; Duration in the network\n",
    "# MONTANT; Top-up amount\n",
    "# FREQUENCE_RECH; Number of times the customer refilled\n",
    "# REVENUE; Monthly income of each client\n",
    "# ARPU_SEGMENT; Income over 90 days / 3\n",
    "# FREQUENCE; Number of times the client has made an income\n",
    "# DATA_VOLUME; Number of connections\n",
    "# ON_NET; Inter expresso call\n",
    "# ORANGE; Call to orange\n",
    "# TIGO; Call to Tigo\n",
    "# ZONE1; Call to zones1\n",
    "# ZONE2; Call to zones2\n",
    "# MRG; A client who is going\n",
    "# REGULARITY; Number of times the client is active for 90 days\n",
    "# TOP_PACK; The most active packs\n",
    "# FREQ_TOP_PACK; Number of times the client has activated the top pack packages\n",
    "# CHURN; Variable to predict - Target; 0 means No, 1 means Yes\n"
   ]
  },
  {
   "cell_type": "code",
   "execution_count": 5,
   "id": "9ae442aa",
   "metadata": {},
   "outputs": [
    {
     "name": "stdout",
     "output_type": "stream",
     "text": [
      "<class 'pandas.core.frame.DataFrame'>\n",
      "Index: 400000 entries, dcf68cc2fb515ccad7d8b9b3bd80ee2a4b270063 to a80e3a164986e489102cfb538fa62e16ecc28adf\n",
      "Data columns (total 18 columns):\n",
      " #   Column          Non-Null Count   Dtype  \n",
      "---  ------          --------------   -----  \n",
      " 0   REGION          242480 non-null  object \n",
      " 1   TENURE          400000 non-null  object \n",
      " 2   MONTANT         259723 non-null  float64\n",
      " 3   FREQUENCE_RECH  259723 non-null  float64\n",
      " 4   REVENUE         265337 non-null  float64\n",
      " 5   ARPU_SEGMENT    265337 non-null  float64\n",
      " 6   FREQUENCE       265337 non-null  float64\n",
      " 7   DATA_VOLUME     203146 non-null  float64\n",
      " 8   ON_NET          254181 non-null  float64\n",
      " 9   ORANGE          233683 non-null  float64\n",
      " 10  TIGO            160614 non-null  float64\n",
      " 11  ZONE1           31690 non-null   float64\n",
      " 12  ZONE2           25513 non-null   float64\n",
      " 13  MRG             400000 non-null  object \n",
      " 14  REGULARITY      400000 non-null  int64  \n",
      " 15  TOP_PACK        232671 non-null  object \n",
      " 16  FREQ_TOP_PACK   232671 non-null  float64\n",
      " 17  CHURN           400000 non-null  int64  \n",
      "dtypes: float64(12), int64(2), object(4)\n",
      "memory usage: 58.0+ MB\n"
     ]
    }
   ],
   "source": [
    "df.info()"
   ]
  },
  {
   "cell_type": "code",
   "execution_count": 6,
   "id": "75729d50",
   "metadata": {
    "scrolled": true
   },
   "outputs": [
    {
     "data": {
      "text/html": [
       "<div>\n",
       "<style scoped>\n",
       "    .dataframe tbody tr th:only-of-type {\n",
       "        vertical-align: middle;\n",
       "    }\n",
       "\n",
       "    .dataframe tbody tr th {\n",
       "        vertical-align: top;\n",
       "    }\n",
       "\n",
       "    .dataframe thead th {\n",
       "        text-align: right;\n",
       "    }\n",
       "</style>\n",
       "<table border=\"1\" class=\"dataframe\">\n",
       "  <thead>\n",
       "    <tr style=\"text-align: right;\">\n",
       "      <th></th>\n",
       "      <th>MONTANT</th>\n",
       "      <th>FREQUENCE_RECH</th>\n",
       "      <th>REVENUE</th>\n",
       "      <th>ARPU_SEGMENT</th>\n",
       "      <th>FREQUENCE</th>\n",
       "      <th>DATA_VOLUME</th>\n",
       "      <th>ON_NET</th>\n",
       "      <th>ORANGE</th>\n",
       "      <th>TIGO</th>\n",
       "      <th>ZONE1</th>\n",
       "      <th>ZONE2</th>\n",
       "      <th>REGULARITY</th>\n",
       "      <th>FREQ_TOP_PACK</th>\n",
       "      <th>CHURN</th>\n",
       "    </tr>\n",
       "  </thead>\n",
       "  <tbody>\n",
       "    <tr>\n",
       "      <th>count</th>\n",
       "      <td>259723.000000</td>\n",
       "      <td>259723.000000</td>\n",
       "      <td>265337.000000</td>\n",
       "      <td>265337.000000</td>\n",
       "      <td>265337.000000</td>\n",
       "      <td>203146.000000</td>\n",
       "      <td>254181.000000</td>\n",
       "      <td>233683.000000</td>\n",
       "      <td>160614.000000</td>\n",
       "      <td>31690.000000</td>\n",
       "      <td>25513.000000</td>\n",
       "      <td>400000.000000</td>\n",
       "      <td>232671.000000</td>\n",
       "      <td>400000.00000</td>\n",
       "    </tr>\n",
       "    <tr>\n",
       "      <th>mean</th>\n",
       "      <td>5522.971346</td>\n",
       "      <td>11.503733</td>\n",
       "      <td>5505.487757</td>\n",
       "      <td>1835.167658</td>\n",
       "      <td>13.951835</td>\n",
       "      <td>3369.763441</td>\n",
       "      <td>275.917586</td>\n",
       "      <td>95.532927</td>\n",
       "      <td>23.134608</td>\n",
       "      <td>7.874282</td>\n",
       "      <td>7.187003</td>\n",
       "      <td>28.046502</td>\n",
       "      <td>9.254209</td>\n",
       "      <td>0.18711</td>\n",
       "    </tr>\n",
       "    <tr>\n",
       "      <th>std</th>\n",
       "      <td>7099.640630</td>\n",
       "      <td>13.275514</td>\n",
       "      <td>7175.802367</td>\n",
       "      <td>2391.929290</td>\n",
       "      <td>14.679943</td>\n",
       "      <td>12281.867504</td>\n",
       "      <td>873.593034</td>\n",
       "      <td>204.733272</td>\n",
       "      <td>63.061871</td>\n",
       "      <td>35.642843</td>\n",
       "      <td>26.964028</td>\n",
       "      <td>22.282773</td>\n",
       "      <td>12.305563</td>\n",
       "      <td>0.39000</td>\n",
       "    </tr>\n",
       "    <tr>\n",
       "      <th>min</th>\n",
       "      <td>20.000000</td>\n",
       "      <td>1.000000</td>\n",
       "      <td>1.000000</td>\n",
       "      <td>0.000000</td>\n",
       "      <td>1.000000</td>\n",
       "      <td>0.000000</td>\n",
       "      <td>0.000000</td>\n",
       "      <td>0.000000</td>\n",
       "      <td>0.000000</td>\n",
       "      <td>0.000000</td>\n",
       "      <td>0.000000</td>\n",
       "      <td>1.000000</td>\n",
       "      <td>1.000000</td>\n",
       "      <td>0.00000</td>\n",
       "    </tr>\n",
       "    <tr>\n",
       "      <th>25%</th>\n",
       "      <td>1000.000000</td>\n",
       "      <td>2.000000</td>\n",
       "      <td>1000.000000</td>\n",
       "      <td>333.000000</td>\n",
       "      <td>3.000000</td>\n",
       "      <td>0.000000</td>\n",
       "      <td>5.000000</td>\n",
       "      <td>7.000000</td>\n",
       "      <td>2.000000</td>\n",
       "      <td>0.000000</td>\n",
       "      <td>0.000000</td>\n",
       "      <td>6.000000</td>\n",
       "      <td>2.000000</td>\n",
       "      <td>0.00000</td>\n",
       "    </tr>\n",
       "    <tr>\n",
       "      <th>50%</th>\n",
       "      <td>3000.000000</td>\n",
       "      <td>6.000000</td>\n",
       "      <td>3000.000000</td>\n",
       "      <td>1000.000000</td>\n",
       "      <td>9.000000</td>\n",
       "      <td>267.000000</td>\n",
       "      <td>27.000000</td>\n",
       "      <td>29.000000</td>\n",
       "      <td>6.000000</td>\n",
       "      <td>1.000000</td>\n",
       "      <td>2.000000</td>\n",
       "      <td>24.000000</td>\n",
       "      <td>5.000000</td>\n",
       "      <td>0.00000</td>\n",
       "    </tr>\n",
       "    <tr>\n",
       "      <th>75%</th>\n",
       "      <td>7300.000000</td>\n",
       "      <td>15.000000</td>\n",
       "      <td>7340.000000</td>\n",
       "      <td>2447.000000</td>\n",
       "      <td>19.000000</td>\n",
       "      <td>2925.000000</td>\n",
       "      <td>155.000000</td>\n",
       "      <td>99.000000</td>\n",
       "      <td>20.000000</td>\n",
       "      <td>3.000000</td>\n",
       "      <td>5.000000</td>\n",
       "      <td>51.000000</td>\n",
       "      <td>12.000000</td>\n",
       "      <td>0.00000</td>\n",
       "    </tr>\n",
       "    <tr>\n",
       "      <th>max</th>\n",
       "      <td>226550.000000</td>\n",
       "      <td>133.000000</td>\n",
       "      <td>233413.000000</td>\n",
       "      <td>77804.000000</td>\n",
       "      <td>91.000000</td>\n",
       "      <td>934576.000000</td>\n",
       "      <td>45011.000000</td>\n",
       "      <td>6788.000000</td>\n",
       "      <td>2758.000000</td>\n",
       "      <td>1657.000000</td>\n",
       "      <td>1011.000000</td>\n",
       "      <td>62.000000</td>\n",
       "      <td>629.000000</td>\n",
       "      <td>1.00000</td>\n",
       "    </tr>\n",
       "  </tbody>\n",
       "</table>\n",
       "</div>"
      ],
      "text/plain": [
       "             MONTANT  FREQUENCE_RECH        REVENUE   ARPU_SEGMENT  \\\n",
       "count  259723.000000   259723.000000  265337.000000  265337.000000   \n",
       "mean     5522.971346       11.503733    5505.487757    1835.167658   \n",
       "std      7099.640630       13.275514    7175.802367    2391.929290   \n",
       "min        20.000000        1.000000       1.000000       0.000000   \n",
       "25%      1000.000000        2.000000    1000.000000     333.000000   \n",
       "50%      3000.000000        6.000000    3000.000000    1000.000000   \n",
       "75%      7300.000000       15.000000    7340.000000    2447.000000   \n",
       "max    226550.000000      133.000000  233413.000000   77804.000000   \n",
       "\n",
       "           FREQUENCE    DATA_VOLUME         ON_NET         ORANGE  \\\n",
       "count  265337.000000  203146.000000  254181.000000  233683.000000   \n",
       "mean       13.951835    3369.763441     275.917586      95.532927   \n",
       "std        14.679943   12281.867504     873.593034     204.733272   \n",
       "min         1.000000       0.000000       0.000000       0.000000   \n",
       "25%         3.000000       0.000000       5.000000       7.000000   \n",
       "50%         9.000000     267.000000      27.000000      29.000000   \n",
       "75%        19.000000    2925.000000     155.000000      99.000000   \n",
       "max        91.000000  934576.000000   45011.000000    6788.000000   \n",
       "\n",
       "                TIGO         ZONE1         ZONE2     REGULARITY  \\\n",
       "count  160614.000000  31690.000000  25513.000000  400000.000000   \n",
       "mean       23.134608      7.874282      7.187003      28.046502   \n",
       "std        63.061871     35.642843     26.964028      22.282773   \n",
       "min         0.000000      0.000000      0.000000       1.000000   \n",
       "25%         2.000000      0.000000      0.000000       6.000000   \n",
       "50%         6.000000      1.000000      2.000000      24.000000   \n",
       "75%        20.000000      3.000000      5.000000      51.000000   \n",
       "max      2758.000000   1657.000000   1011.000000      62.000000   \n",
       "\n",
       "       FREQ_TOP_PACK         CHURN  \n",
       "count  232671.000000  400000.00000  \n",
       "mean        9.254209       0.18711  \n",
       "std        12.305563       0.39000  \n",
       "min         1.000000       0.00000  \n",
       "25%         2.000000       0.00000  \n",
       "50%         5.000000       0.00000  \n",
       "75%        12.000000       0.00000  \n",
       "max       629.000000       1.00000  "
      ]
     },
     "execution_count": 6,
     "metadata": {},
     "output_type": "execute_result"
    }
   ],
   "source": [
    "df.describe()"
   ]
  },
  {
   "cell_type": "code",
   "execution_count": 7,
   "id": "ac159edf",
   "metadata": {},
   "outputs": [
    {
     "data": {
      "text/plain": [
       "(400000, 18)"
      ]
     },
     "execution_count": 7,
     "metadata": {},
     "output_type": "execute_result"
    }
   ],
   "source": [
    "df.shape"
   ]
  },
  {
   "cell_type": "code",
   "execution_count": 8,
   "id": "f1c8d893",
   "metadata": {},
   "outputs": [
    {
     "data": {
      "text/plain": [
       "111788"
      ]
     },
     "execution_count": 8,
     "metadata": {},
     "output_type": "execute_result"
    }
   ],
   "source": [
    "df.duplicated().sum()"
   ]
  },
  {
   "cell_type": "code",
   "execution_count": 9,
   "id": "85dd0581",
   "metadata": {},
   "outputs": [
    {
     "data": {
      "text/plain": [
       "REGION            157520\n",
       "TENURE                 0\n",
       "MONTANT           140277\n",
       "FREQUENCE_RECH    140277\n",
       "REVENUE           134663\n",
       "ARPU_SEGMENT      134663\n",
       "FREQUENCE         134663\n",
       "DATA_VOLUME       196854\n",
       "ON_NET            145819\n",
       "ORANGE            166317\n",
       "TIGO              239386\n",
       "ZONE1             368310\n",
       "ZONE2             374487\n",
       "MRG                    0\n",
       "REGULARITY             0\n",
       "TOP_PACK          167329\n",
       "FREQ_TOP_PACK     167329\n",
       "CHURN                  0\n",
       "dtype: int64"
      ]
     },
     "execution_count": 9,
     "metadata": {},
     "output_type": "execute_result"
    }
   ],
   "source": [
    "df.isnull().sum()"
   ]
  },
  {
   "cell_type": "markdown",
   "id": "0a23ba54",
   "metadata": {},
   "source": [
    "# Data Visualization"
   ]
  },
  {
   "cell_type": "code",
   "execution_count": 10,
   "id": "5504ef55",
   "metadata": {},
   "outputs": [
    {
     "data": {
      "text/plain": [
       "<seaborn.axisgrid.FacetGrid at 0x260159a48b0>"
      ]
     },
     "execution_count": 10,
     "metadata": {},
     "output_type": "execute_result"
    },
    {
     "data": {
      "image/png": "[encoded data removed]",
      "text/plain": [
       "<Figure size 1080x360 with 1 Axes>"
      ]
     },
     "metadata": {},
     "output_type": "display_data"
    }
   ],
   "source": [
    "sns.set_theme(style = 'whitegrid', font_scale = 1)\n",
    "sns.catplot(data = df, x = 'REGION', kind = 'count', height = 5, aspect = 3)"
   ]
  },
  {
   "cell_type": "code",
   "execution_count": 11,
   "id": "cf93677f",
   "metadata": {},
   "outputs": [],
   "source": [
    "# Dakar was by far, the city with the most customers\n",
    "# Thies in a distant second,Saint-louis third."
   ]
  },
  {
   "cell_type": "code",
   "execution_count": 12,
   "id": "a8e024d6",
   "metadata": {},
   "outputs": [
    {
     "data": {
      "text/plain": [
       "<seaborn.axisgrid.FacetGrid at 0x26015abde20>"
      ]
     },
     "execution_count": 12,
     "metadata": {},
     "output_type": "execute_result"
    },
    {
     "data": {
      "image/png": "[encoded data removed]",
      "text/plain": [
       "<Figure size 1080x360 with 1 Axes>"
      ]
     },
     "metadata": {},
     "output_type": "display_data"
    }
   ],
   "source": [
    "sns.set_theme(style = 'whitegrid', font_scale = 1)\n",
    "sns.catplot(data = df, x = 'TENURE', kind = 'count', height = 5, aspect = 3)"
   ]
  },
  {
   "cell_type": "code",
   "execution_count": 13,
   "id": "19b65b93",
   "metadata": {},
   "outputs": [],
   "source": [
    "# A bulk majority, almost 400000 customers have been subscribed to the network for 24 months and above."
   ]
  },
  {
   "cell_type": "code",
   "execution_count": 14,
   "id": "49858e03",
   "metadata": {
    "scrolled": false
   },
   "outputs": [
    {
     "data": {
      "text/plain": [
       "<seaborn.axisgrid.FacetGrid at 0x26015abdfa0>"
      ]
     },
     "execution_count": 14,
     "metadata": {},
     "output_type": "execute_result"
    },
    {
     "data": {
      "image/png": "[encoded data removed]",
      "text/plain": [
       "<Figure size 900x360 with 1 Axes>"
      ]
     },
     "metadata": {},
     "output_type": "display_data"
    }
   ],
   "source": [
    "sns.set_theme(style = 'whitegrid', font_scale = 1)\n",
    "sns.catplot(data = df, x = 'CHURN', kind = 'count', height = 5, aspect = 2.5)"
   ]
  },
  {
   "cell_type": "code",
   "execution_count": 15,
   "id": "bd0d3094",
   "metadata": {},
   "outputs": [],
   "source": [
    "# Customer retention was high."
   ]
  },
  {
   "cell_type": "markdown",
   "id": "20fd2cad",
   "metadata": {},
   "source": [
    "#### Stripplots show relationships between two variables"
   ]
  },
  {
   "cell_type": "markdown",
   "id": "4439d043",
   "metadata": {},
   "source": [
    "##### From the following plots, we can possibly predict customers who are likely to churn and why."
   ]
  },
  {
   "cell_type": "code",
   "execution_count": 16,
   "id": "15f3aae4",
   "metadata": {},
   "outputs": [
    {
     "data": {
      "text/plain": [
       "<AxesSubplot:xlabel='CHURN', ylabel='MONTANT'>"
      ]
     },
     "execution_count": 16,
     "metadata": {},
     "output_type": "execute_result"
    },
    {
     "data": {
      "image/png": "[encoded data removed]",
      "text/plain": [
       "<Figure size 432x288 with 1 Axes>"
      ]
     },
     "metadata": {},
     "output_type": "display_data"
    }
   ],
   "source": [
    "sns.stripplot(data = df, x = 'CHURN', y = 'MONTANT')"
   ]
  },
  {
   "cell_type": "code",
   "execution_count": 17,
   "id": "6bb70678",
   "metadata": {},
   "outputs": [
    {
     "data": {
      "text/plain": [
       "<AxesSubplot:xlabel='CHURN', ylabel='FREQUENCE_RECH'>"
      ]
     },
     "execution_count": 17,
     "metadata": {},
     "output_type": "execute_result"
    },
    {
     "data": {
      "image/png": "[encoded data removed]",
      "text/plain": [
       "<Figure size 432x288 with 1 Axes>"
      ]
     },
     "metadata": {},
     "output_type": "display_data"
    }
   ],
   "source": [
    "sns.stripplot(data = df, x = 'CHURN', y = 'FREQUENCE_RECH')"
   ]
  },
  {
   "cell_type": "code",
   "execution_count": 18,
   "id": "ed3fd644",
   "metadata": {},
   "outputs": [
    {
     "data": {
      "text/plain": [
       "<AxesSubplot:xlabel='CHURN', ylabel='REVENUE'>"
      ]
     },
     "execution_count": 18,
     "metadata": {},
     "output_type": "execute_result"
    },
    {
     "data": {
      "image/png": "[encoded data removed]",
      "text/plain": [
       "<Figure size 432x288 with 1 Axes>"
      ]
     },
     "metadata": {},
     "output_type": "display_data"
    }
   ],
   "source": [
    "sns.stripplot(data = df, x = 'CHURN', y = 'REVENUE')"
   ]
  },
  {
   "cell_type": "code",
   "execution_count": 19,
   "id": "9ad37ae3",
   "metadata": {},
   "outputs": [
    {
     "data": {
      "text/plain": [
       "<AxesSubplot:xlabel='CHURN', ylabel='ARPU_SEGMENT'>"
      ]
     },
     "execution_count": 19,
     "metadata": {},
     "output_type": "execute_result"
    },
    {
     "data": {
      "image/png": "[encoded data removed]",
      "text/plain": [
       "<Figure size 432x288 with 1 Axes>"
      ]
     },
     "metadata": {},
     "output_type": "display_data"
    }
   ],
   "source": [
    "sns.stripplot(data = df, x = 'CHURN', y = 'ARPU_SEGMENT')"
   ]
  },
  {
   "cell_type": "code",
   "execution_count": 20,
   "id": "2dc96383",
   "metadata": {},
   "outputs": [
    {
     "data": {
      "text/plain": [
       "<AxesSubplot:xlabel='CHURN', ylabel='FREQUENCE'>"
      ]
     },
     "execution_count": 20,
     "metadata": {},
     "output_type": "execute_result"
    },
    {
     "data": {
      "image/png": "[encoded data removed]",
      "text/plain": [
       "<Figure size 432x288 with 1 Axes>"
      ]
     },
     "metadata": {},
     "output_type": "display_data"
    }
   ],
   "source": [
    "sns.stripplot(data = df, x = 'CHURN', y = 'FREQUENCE')"
   ]
  },
  {
   "cell_type": "code",
   "execution_count": 21,
   "id": "ab0f2d8d",
   "metadata": {},
   "outputs": [
    {
     "data": {
      "text/plain": [
       "<AxesSubplot:xlabel='CHURN', ylabel='DATA_VOLUME'>"
      ]
     },
     "execution_count": 21,
     "metadata": {},
     "output_type": "execute_result"
    },
    {
     "data": {
      "image/png": "[encoded data removed]",
      "text/plain": [
       "<Figure size 432x288 with 1 Axes>"
      ]
     },
     "metadata": {},
     "output_type": "display_data"
    }
   ],
   "source": [
    "sns.stripplot(data = df, x = 'CHURN', y = 'DATA_VOLUME')"
   ]
  },
  {
   "cell_type": "code",
   "execution_count": 22,
   "id": "a0eb8c47",
   "metadata": {},
   "outputs": [
    {
     "data": {
      "text/plain": [
       "<AxesSubplot:xlabel='CHURN', ylabel='ON_NET'>"
      ]
     },
     "execution_count": 22,
     "metadata": {},
     "output_type": "execute_result"
    },
    {
     "data": {
      "image/png": "[encoded data removed]",
      "text/plain": [
       "<Figure size 432x288 with 1 Axes>"
      ]
     },
     "metadata": {},
     "output_type": "display_data"
    }
   ],
   "source": [
    "sns.stripplot(data = df, x = 'CHURN', y = 'ON_NET')"
   ]
  },
  {
   "cell_type": "code",
   "execution_count": 23,
   "id": "8fd52613",
   "metadata": {},
   "outputs": [
    {
     "data": {
      "text/plain": [
       "<AxesSubplot:xlabel='CHURN', ylabel='ORANGE'>"
      ]
     },
     "execution_count": 23,
     "metadata": {},
     "output_type": "execute_result"
    },
    {
     "data": {
      "image/png": "[encoded data removed]",
      "text/plain": [
       "<Figure size 432x288 with 1 Axes>"
      ]
     },
     "metadata": {},
     "output_type": "display_data"
    }
   ],
   "source": [
    "sns.stripplot(data = df, x = 'CHURN', y = 'ORANGE')"
   ]
  },
  {
   "cell_type": "code",
   "execution_count": 24,
   "id": "3da8691c",
   "metadata": {},
   "outputs": [
    {
     "data": {
      "text/plain": [
       "<AxesSubplot:xlabel='CHURN', ylabel='TIGO'>"
      ]
     },
     "execution_count": 24,
     "metadata": {},
     "output_type": "execute_result"
    },
    {
     "data": {
      "image/png": "[encoded data removed]",
      "text/plain": [
       "<Figure size 432x288 with 1 Axes>"
      ]
     },
     "metadata": {},
     "output_type": "display_data"
    }
   ],
   "source": [
    "sns.stripplot(data = df, x = 'CHURN', y = 'TIGO')"
   ]
  },
  {
   "cell_type": "code",
   "execution_count": 25,
   "id": "ac2b0033",
   "metadata": {},
   "outputs": [
    {
     "data": {
      "text/plain": [
       "<AxesSubplot:xlabel='CHURN', ylabel='ZONE1'>"
      ]
     },
     "execution_count": 25,
     "metadata": {},
     "output_type": "execute_result"
    },
    {
     "data": {
      "image/png": "[encoded data removed]",
      "text/plain": [
       "<Figure size 432x288 with 1 Axes>"
      ]
     },
     "metadata": {},
     "output_type": "display_data"
    }
   ],
   "source": [
    "sns.stripplot(data = df, x = 'CHURN', y = 'ZONE1')"
   ]
  },
  {
   "cell_type": "code",
   "execution_count": 26,
   "id": "21bff578",
   "metadata": {},
   "outputs": [
    {
     "data": {
      "text/plain": [
       "<AxesSubplot:xlabel='CHURN', ylabel='ZONE2'>"
      ]
     },
     "execution_count": 26,
     "metadata": {},
     "output_type": "execute_result"
    },
    {
     "data": {
      "image/png": "[encoded data removed]",
      "text/plain": [
       "<Figure size 432x288 with 1 Axes>"
      ]
     },
     "metadata": {},
     "output_type": "display_data"
    }
   ],
   "source": [
    "sns.stripplot(data = df, x = 'CHURN', y = 'ZONE2')"
   ]
  },
  {
   "cell_type": "code",
   "execution_count": 27,
   "id": "600e5805",
   "metadata": {},
   "outputs": [
    {
     "data": {
      "text/plain": [
       "<AxesSubplot:xlabel='CHURN', ylabel='REGULARITY'>"
      ]
     },
     "execution_count": 27,
     "metadata": {},
     "output_type": "execute_result"
    },
    {
     "data": {
      "image/png": "[encoded data removed]",
      "text/plain": [
       "<Figure size 432x288 with 1 Axes>"
      ]
     },
     "metadata": {},
     "output_type": "display_data"
    }
   ],
   "source": [
    "sns.stripplot(data = df, x = 'CHURN', y = 'REGULARITY', size = 10)"
   ]
  },
  {
   "cell_type": "markdown",
   "id": "f4f30bec",
   "metadata": {},
   "source": [
    "# Test Run"
   ]
  },
  {
   "cell_type": "code",
   "execution_count": 28,
   "id": "bea2254b",
   "metadata": {},
   "outputs": [],
   "source": [
    "# df_1 = df.dropna()\n",
    "df_1.dropna(inplace = True)"
   ]
  },
  {
   "cell_type": "code",
   "execution_count": 29,
   "id": "065699b5",
   "metadata": {},
   "outputs": [
    {
     "data": {
      "text/html": [
       "<div>\n",
       "<style scoped>\n",
       "    .dataframe tbody tr th:only-of-type {\n",
       "        vertical-align: middle;\n",
       "    }\n",
       "\n",
       "    .dataframe tbody tr th {\n",
       "        vertical-align: top;\n",
       "    }\n",
       "\n",
       "    .dataframe thead th {\n",
       "        text-align: right;\n",
       "    }\n",
       "</style>\n",
       "<table border=\"1\" class=\"dataframe\">\n",
       "  <thead>\n",
       "    <tr style=\"text-align: right;\">\n",
       "      <th></th>\n",
       "      <th>REGION</th>\n",
       "      <th>TENURE</th>\n",
       "      <th>MONTANT</th>\n",
       "      <th>FREQUENCE_RECH</th>\n",
       "      <th>REVENUE</th>\n",
       "      <th>ARPU_SEGMENT</th>\n",
       "      <th>FREQUENCE</th>\n",
       "      <th>DATA_VOLUME</th>\n",
       "      <th>ON_NET</th>\n",
       "      <th>ORANGE</th>\n",
       "      <th>TIGO</th>\n",
       "      <th>ZONE1</th>\n",
       "      <th>ZONE2</th>\n",
       "      <th>MRG</th>\n",
       "      <th>REGULARITY</th>\n",
       "      <th>TOP_PACK</th>\n",
       "      <th>FREQ_TOP_PACK</th>\n",
       "      <th>CHURN</th>\n",
       "    </tr>\n",
       "    <tr>\n",
       "      <th>user_id</th>\n",
       "      <th></th>\n",
       "      <th></th>\n",
       "      <th></th>\n",
       "      <th></th>\n",
       "      <th></th>\n",
       "      <th></th>\n",
       "      <th></th>\n",
       "      <th></th>\n",
       "      <th></th>\n",
       "      <th></th>\n",
       "      <th></th>\n",
       "      <th></th>\n",
       "      <th></th>\n",
       "      <th></th>\n",
       "      <th></th>\n",
       "      <th></th>\n",
       "      <th></th>\n",
       "      <th></th>\n",
       "    </tr>\n",
       "  </thead>\n",
       "  <tbody>\n",
       "    <tr>\n",
       "      <th>e32b4d6132ff45789b023165cfac5fd71a959727</th>\n",
       "      <td>DAKAR</td>\n",
       "      <td>K &gt; 24 month</td>\n",
       "      <td>14650.0</td>\n",
       "      <td>35.0</td>\n",
       "      <td>15507.0</td>\n",
       "      <td>5169.0</td>\n",
       "      <td>40.0</td>\n",
       "      <td>8743.0</td>\n",
       "      <td>29.0</td>\n",
       "      <td>63.0</td>\n",
       "      <td>2.0</td>\n",
       "      <td>9.0</td>\n",
       "      <td>1.0</td>\n",
       "      <td>NO</td>\n",
       "      <td>62</td>\n",
       "      <td>IVR Echat_Daily_50F</td>\n",
       "      <td>19.0</td>\n",
       "      <td>0</td>\n",
       "    </tr>\n",
       "    <tr>\n",
       "      <th>5013300a472c15643f6866876293000800cee62f</th>\n",
       "      <td>KAFFRINE</td>\n",
       "      <td>K &gt; 24 month</td>\n",
       "      <td>4950.0</td>\n",
       "      <td>16.0</td>\n",
       "      <td>4962.0</td>\n",
       "      <td>1654.0</td>\n",
       "      <td>21.0</td>\n",
       "      <td>0.0</td>\n",
       "      <td>67.0</td>\n",
       "      <td>73.0</td>\n",
       "      <td>3.0</td>\n",
       "      <td>2.0</td>\n",
       "      <td>3.0</td>\n",
       "      <td>NO</td>\n",
       "      <td>30</td>\n",
       "      <td>Mixt 250F=Unlimited_call24H</td>\n",
       "      <td>5.0</td>\n",
       "      <td>0</td>\n",
       "    </tr>\n",
       "    <tr>\n",
       "      <th>771522f0a275a05d2046b2c93eb299402289f4aa</th>\n",
       "      <td>DAKAR</td>\n",
       "      <td>K &gt; 24 month</td>\n",
       "      <td>6350.0</td>\n",
       "      <td>16.0</td>\n",
       "      <td>6337.0</td>\n",
       "      <td>2112.0</td>\n",
       "      <td>19.0</td>\n",
       "      <td>10252.0</td>\n",
       "      <td>7.0</td>\n",
       "      <td>3.0</td>\n",
       "      <td>9.0</td>\n",
       "      <td>1.0</td>\n",
       "      <td>0.0</td>\n",
       "      <td>NO</td>\n",
       "      <td>54</td>\n",
       "      <td>Data:490F=1GB,7d</td>\n",
       "      <td>7.0</td>\n",
       "      <td>0</td>\n",
       "    </tr>\n",
       "    <tr>\n",
       "      <th>b41ce03b52f2d841f33bdd8a1cbd89bdaefb71ac</th>\n",
       "      <td>SAINT-LOUIS</td>\n",
       "      <td>K &gt; 24 month</td>\n",
       "      <td>3750.0</td>\n",
       "      <td>12.0</td>\n",
       "      <td>3847.0</td>\n",
       "      <td>1282.0</td>\n",
       "      <td>18.0</td>\n",
       "      <td>998.0</td>\n",
       "      <td>12.0</td>\n",
       "      <td>32.0</td>\n",
       "      <td>2.0</td>\n",
       "      <td>0.0</td>\n",
       "      <td>5.0</td>\n",
       "      <td>NO</td>\n",
       "      <td>54</td>\n",
       "      <td>Data: 100 F=40MB,24H</td>\n",
       "      <td>2.0</td>\n",
       "      <td>0</td>\n",
       "    </tr>\n",
       "    <tr>\n",
       "      <th>6bfaf8a3fc1d74cffee41d59595476f3ae10ad4b</th>\n",
       "      <td>LOUGA</td>\n",
       "      <td>K &gt; 24 month</td>\n",
       "      <td>15000.0</td>\n",
       "      <td>2.0</td>\n",
       "      <td>13969.0</td>\n",
       "      <td>4656.0</td>\n",
       "      <td>29.0</td>\n",
       "      <td>5709.0</td>\n",
       "      <td>295.0</td>\n",
       "      <td>164.0</td>\n",
       "      <td>47.0</td>\n",
       "      <td>2.0</td>\n",
       "      <td>0.0</td>\n",
       "      <td>NO</td>\n",
       "      <td>62</td>\n",
       "      <td>Twter_U2opia_Weekly</td>\n",
       "      <td>11.0</td>\n",
       "      <td>0</td>\n",
       "    </tr>\n",
       "  </tbody>\n",
       "</table>\n",
       "</div>"
      ],
      "text/plain": [
       "                                               REGION        TENURE  MONTANT  \\\n",
       "user_id                                                                        \n",
       "e32b4d6132ff45789b023165cfac5fd71a959727        DAKAR  K > 24 month  14650.0   \n",
       "5013300a472c15643f6866876293000800cee62f     KAFFRINE  K > 24 month   4950.0   \n",
       "771522f0a275a05d2046b2c93eb299402289f4aa        DAKAR  K > 24 month   6350.0   \n",
       "b41ce03b52f2d841f33bdd8a1cbd89bdaefb71ac  SAINT-LOUIS  K > 24 month   3750.0   \n",
       "6bfaf8a3fc1d74cffee41d59595476f3ae10ad4b        LOUGA  K > 24 month  15000.0   \n",
       "\n",
       "                                          FREQUENCE_RECH  REVENUE  \\\n",
       "user_id                                                             \n",
       "e32b4d6132ff45789b023165cfac5fd71a959727            35.0  15507.0   \n",
       "5013300a472c15643f6866876293000800cee62f            16.0   4962.0   \n",
       "771522f0a275a05d2046b2c93eb299402289f4aa            16.0   6337.0   \n",
       "b41ce03b52f2d841f33bdd8a1cbd89bdaefb71ac            12.0   3847.0   \n",
       "6bfaf8a3fc1d74cffee41d59595476f3ae10ad4b             2.0  13969.0   \n",
       "\n",
       "                                          ARPU_SEGMENT  FREQUENCE  \\\n",
       "user_id                                                             \n",
       "e32b4d6132ff45789b023165cfac5fd71a959727        5169.0       40.0   \n",
       "5013300a472c15643f6866876293000800cee62f        1654.0       21.0   \n",
       "771522f0a275a05d2046b2c93eb299402289f4aa        2112.0       19.0   \n",
       "b41ce03b52f2d841f33bdd8a1cbd89bdaefb71ac        1282.0       18.0   \n",
       "6bfaf8a3fc1d74cffee41d59595476f3ae10ad4b        4656.0       29.0   \n",
       "\n",
       "                                          DATA_VOLUME  ON_NET  ORANGE  TIGO  \\\n",
       "user_id                                                                       \n",
       "e32b4d6132ff45789b023165cfac5fd71a959727       8743.0    29.0    63.0   2.0   \n",
       "5013300a472c15643f6866876293000800cee62f          0.0    67.0    73.0   3.0   \n",
       "771522f0a275a05d2046b2c93eb299402289f4aa      10252.0     7.0     3.0   9.0   \n",
       "b41ce03b52f2d841f33bdd8a1cbd89bdaefb71ac        998.0    12.0    32.0   2.0   \n",
       "6bfaf8a3fc1d74cffee41d59595476f3ae10ad4b       5709.0   295.0   164.0  47.0   \n",
       "\n",
       "                                          ZONE1  ZONE2 MRG  REGULARITY  \\\n",
       "user_id                                                                  \n",
       "e32b4d6132ff45789b023165cfac5fd71a959727    9.0    1.0  NO          62   \n",
       "5013300a472c15643f6866876293000800cee62f    2.0    3.0  NO          30   \n",
       "771522f0a275a05d2046b2c93eb299402289f4aa    1.0    0.0  NO          54   \n",
       "b41ce03b52f2d841f33bdd8a1cbd89bdaefb71ac    0.0    5.0  NO          54   \n",
       "6bfaf8a3fc1d74cffee41d59595476f3ae10ad4b    2.0    0.0  NO          62   \n",
       "\n",
       "                                                             TOP_PACK  \\\n",
       "user_id                                                                 \n",
       "e32b4d6132ff45789b023165cfac5fd71a959727          IVR Echat_Daily_50F   \n",
       "5013300a472c15643f6866876293000800cee62f  Mixt 250F=Unlimited_call24H   \n",
       "771522f0a275a05d2046b2c93eb299402289f4aa             Data:490F=1GB,7d   \n",
       "b41ce03b52f2d841f33bdd8a1cbd89bdaefb71ac         Data: 100 F=40MB,24H   \n",
       "6bfaf8a3fc1d74cffee41d59595476f3ae10ad4b          Twter_U2opia_Weekly   \n",
       "\n",
       "                                          FREQ_TOP_PACK  CHURN  \n",
       "user_id                                                         \n",
       "e32b4d6132ff45789b023165cfac5fd71a959727           19.0      0  \n",
       "5013300a472c15643f6866876293000800cee62f            5.0      0  \n",
       "771522f0a275a05d2046b2c93eb299402289f4aa            7.0      0  \n",
       "b41ce03b52f2d841f33bdd8a1cbd89bdaefb71ac            2.0      0  \n",
       "6bfaf8a3fc1d74cffee41d59595476f3ae10ad4b           11.0      0  "
      ]
     },
     "execution_count": 29,
     "metadata": {},
     "output_type": "execute_result"
    }
   ],
   "source": [
    "df_1.head()"
   ]
  },
  {
   "cell_type": "code",
   "execution_count": 30,
   "id": "7fa669ca",
   "metadata": {},
   "outputs": [
    {
     "data": {
      "text/plain": [
       "(2074, 18)"
      ]
     },
     "execution_count": 30,
     "metadata": {},
     "output_type": "execute_result"
    }
   ],
   "source": [
    "df_1.shape"
   ]
  },
  {
   "cell_type": "markdown",
   "id": "63d36a10",
   "metadata": {},
   "source": [
    "## Data Modelling/Training"
   ]
  },
  {
   "cell_type": "code",
   "execution_count": 31,
   "id": "9e298d87",
   "metadata": {},
   "outputs": [],
   "source": [
    "#creating a LabelEncoder object\n",
    "from sklearn.preprocessing import LabelEncoder\n",
    "\n",
    "le= LabelEncoder()\n",
    "#invoking fit_transform method on object\n",
    "df_1['MRG'] = le.fit_transform(df_1['MRG'])"
   ]
  },
  {
   "cell_type": "code",
   "execution_count": 32,
   "id": "e8fcad86",
   "metadata": {},
   "outputs": [],
   "source": [
    "REGION = pd.get_dummies(df_1['REGION'], drop_first = False)"
   ]
  },
  {
   "cell_type": "code",
   "execution_count": 33,
   "id": "eec62c0c",
   "metadata": {},
   "outputs": [],
   "source": [
    "TENURE = pd.get_dummies(df_1['TENURE'], drop_first = False)"
   ]
  },
  {
   "cell_type": "code",
   "execution_count": 34,
   "id": "5a868631",
   "metadata": {},
   "outputs": [],
   "source": [
    "TOP_PACK = pd.get_dummies(df_1['TOP_PACK'], drop_first = False)"
   ]
  },
  {
   "cell_type": "code",
   "execution_count": 35,
   "id": "d6cab04c",
   "metadata": {},
   "outputs": [],
   "source": [
    "df_1.drop(['REGION'], axis = 1, inplace = True)\n",
    "df_1.drop(['TENURE'], axis = 1, inplace = True)\n",
    "df_1.drop(['TOP_PACK'], axis = 1, inplace = True)"
   ]
  },
  {
   "cell_type": "code",
   "execution_count": 36,
   "id": "7d23dd13",
   "metadata": {
    "scrolled": true
   },
   "outputs": [
    {
     "data": {
      "text/html": [
       "<div>\n",
       "<style scoped>\n",
       "    .dataframe tbody tr th:only-of-type {\n",
       "        vertical-align: middle;\n",
       "    }\n",
       "\n",
       "    .dataframe tbody tr th {\n",
       "        vertical-align: top;\n",
       "    }\n",
       "\n",
       "    .dataframe thead th {\n",
       "        text-align: right;\n",
       "    }\n",
       "</style>\n",
       "<table border=\"1\" class=\"dataframe\">\n",
       "  <thead>\n",
       "    <tr style=\"text-align: right;\">\n",
       "      <th></th>\n",
       "      <th>MONTANT</th>\n",
       "      <th>FREQUENCE_RECH</th>\n",
       "      <th>REVENUE</th>\n",
       "      <th>ARPU_SEGMENT</th>\n",
       "      <th>FREQUENCE</th>\n",
       "      <th>DATA_VOLUME</th>\n",
       "      <th>ON_NET</th>\n",
       "      <th>ORANGE</th>\n",
       "      <th>TIGO</th>\n",
       "      <th>ZONE1</th>\n",
       "      <th>...</th>\n",
       "      <th>On-net 200F=60mn;1d</th>\n",
       "      <th>On-net 500=4000,10d</th>\n",
       "      <th>On-net 500F_FNF;3d</th>\n",
       "      <th>Pilot_Youth1_290</th>\n",
       "      <th>Pilot_Youth4_490</th>\n",
       "      <th>Twter_U2opia_Daily</th>\n",
       "      <th>Twter_U2opia_Monthly</th>\n",
       "      <th>Twter_U2opia_Weekly</th>\n",
       "      <th>VAS(IVR_Radio_Daily)</th>\n",
       "      <th>Yewouleen_PKG</th>\n",
       "    </tr>\n",
       "    <tr>\n",
       "      <th>user_id</th>\n",
       "      <th></th>\n",
       "      <th></th>\n",
       "      <th></th>\n",
       "      <th></th>\n",
       "      <th></th>\n",
       "      <th></th>\n",
       "      <th></th>\n",
       "      <th></th>\n",
       "      <th></th>\n",
       "      <th></th>\n",
       "      <th></th>\n",
       "      <th></th>\n",
       "      <th></th>\n",
       "      <th></th>\n",
       "      <th></th>\n",
       "      <th></th>\n",
       "      <th></th>\n",
       "      <th></th>\n",
       "      <th></th>\n",
       "      <th></th>\n",
       "      <th></th>\n",
       "    </tr>\n",
       "  </thead>\n",
       "  <tbody>\n",
       "    <tr>\n",
       "      <th>e32b4d6132ff45789b023165cfac5fd71a959727</th>\n",
       "      <td>14650.0</td>\n",
       "      <td>35.0</td>\n",
       "      <td>15507.0</td>\n",
       "      <td>5169.0</td>\n",
       "      <td>40.0</td>\n",
       "      <td>8743.0</td>\n",
       "      <td>29.0</td>\n",
       "      <td>63.0</td>\n",
       "      <td>2.0</td>\n",
       "      <td>9.0</td>\n",
       "      <td>...</td>\n",
       "      <td>0</td>\n",
       "      <td>0</td>\n",
       "      <td>0</td>\n",
       "      <td>0</td>\n",
       "      <td>0</td>\n",
       "      <td>0</td>\n",
       "      <td>0</td>\n",
       "      <td>0</td>\n",
       "      <td>0</td>\n",
       "      <td>0</td>\n",
       "    </tr>\n",
       "    <tr>\n",
       "      <th>5013300a472c15643f6866876293000800cee62f</th>\n",
       "      <td>4950.0</td>\n",
       "      <td>16.0</td>\n",
       "      <td>4962.0</td>\n",
       "      <td>1654.0</td>\n",
       "      <td>21.0</td>\n",
       "      <td>0.0</td>\n",
       "      <td>67.0</td>\n",
       "      <td>73.0</td>\n",
       "      <td>3.0</td>\n",
       "      <td>2.0</td>\n",
       "      <td>...</td>\n",
       "      <td>0</td>\n",
       "      <td>0</td>\n",
       "      <td>0</td>\n",
       "      <td>0</td>\n",
       "      <td>0</td>\n",
       "      <td>0</td>\n",
       "      <td>0</td>\n",
       "      <td>0</td>\n",
       "      <td>0</td>\n",
       "      <td>0</td>\n",
       "    </tr>\n",
       "    <tr>\n",
       "      <th>771522f0a275a05d2046b2c93eb299402289f4aa</th>\n",
       "      <td>6350.0</td>\n",
       "      <td>16.0</td>\n",
       "      <td>6337.0</td>\n",
       "      <td>2112.0</td>\n",
       "      <td>19.0</td>\n",
       "      <td>10252.0</td>\n",
       "      <td>7.0</td>\n",
       "      <td>3.0</td>\n",
       "      <td>9.0</td>\n",
       "      <td>1.0</td>\n",
       "      <td>...</td>\n",
       "      <td>0</td>\n",
       "      <td>0</td>\n",
       "      <td>0</td>\n",
       "      <td>0</td>\n",
       "      <td>0</td>\n",
       "      <td>0</td>\n",
       "      <td>0</td>\n",
       "      <td>0</td>\n",
       "      <td>0</td>\n",
       "      <td>0</td>\n",
       "    </tr>\n",
       "    <tr>\n",
       "      <th>b41ce03b52f2d841f33bdd8a1cbd89bdaefb71ac</th>\n",
       "      <td>3750.0</td>\n",
       "      <td>12.0</td>\n",
       "      <td>3847.0</td>\n",
       "      <td>1282.0</td>\n",
       "      <td>18.0</td>\n",
       "      <td>998.0</td>\n",
       "      <td>12.0</td>\n",
       "      <td>32.0</td>\n",
       "      <td>2.0</td>\n",
       "      <td>0.0</td>\n",
       "      <td>...</td>\n",
       "      <td>0</td>\n",
       "      <td>0</td>\n",
       "      <td>0</td>\n",
       "      <td>0</td>\n",
       "      <td>0</td>\n",
       "      <td>0</td>\n",
       "      <td>0</td>\n",
       "      <td>0</td>\n",
       "      <td>0</td>\n",
       "      <td>0</td>\n",
       "    </tr>\n",
       "    <tr>\n",
       "      <th>6bfaf8a3fc1d74cffee41d59595476f3ae10ad4b</th>\n",
       "      <td>15000.0</td>\n",
       "      <td>2.0</td>\n",
       "      <td>13969.0</td>\n",
       "      <td>4656.0</td>\n",
       "      <td>29.0</td>\n",
       "      <td>5709.0</td>\n",
       "      <td>295.0</td>\n",
       "      <td>164.0</td>\n",
       "      <td>47.0</td>\n",
       "      <td>2.0</td>\n",
       "      <td>...</td>\n",
       "      <td>0</td>\n",
       "      <td>0</td>\n",
       "      <td>0</td>\n",
       "      <td>0</td>\n",
       "      <td>0</td>\n",
       "      <td>0</td>\n",
       "      <td>0</td>\n",
       "      <td>1</td>\n",
       "      <td>0</td>\n",
       "      <td>0</td>\n",
       "    </tr>\n",
       "  </tbody>\n",
       "</table>\n",
       "<p>5 rows × 89 columns</p>\n",
       "</div>"
      ],
      "text/plain": [
       "                                          MONTANT  FREQUENCE_RECH  REVENUE  \\\n",
       "user_id                                                                      \n",
       "e32b4d6132ff45789b023165cfac5fd71a959727  14650.0            35.0  15507.0   \n",
       "5013300a472c15643f6866876293000800cee62f   4950.0            16.0   4962.0   \n",
       "771522f0a275a05d2046b2c93eb299402289f4aa   6350.0            16.0   6337.0   \n",
       "b41ce03b52f2d841f33bdd8a1cbd89bdaefb71ac   3750.0            12.0   3847.0   \n",
       "6bfaf8a3fc1d74cffee41d59595476f3ae10ad4b  15000.0             2.0  13969.0   \n",
       "\n",
       "                                          ARPU_SEGMENT  FREQUENCE  \\\n",
       "user_id                                                             \n",
       "e32b4d6132ff45789b023165cfac5fd71a959727        5169.0       40.0   \n",
       "5013300a472c15643f6866876293000800cee62f        1654.0       21.0   \n",
       "771522f0a275a05d2046b2c93eb299402289f4aa        2112.0       19.0   \n",
       "b41ce03b52f2d841f33bdd8a1cbd89bdaefb71ac        1282.0       18.0   \n",
       "6bfaf8a3fc1d74cffee41d59595476f3ae10ad4b        4656.0       29.0   \n",
       "\n",
       "                                          DATA_VOLUME  ON_NET  ORANGE  TIGO  \\\n",
       "user_id                                                                       \n",
       "e32b4d6132ff45789b023165cfac5fd71a959727       8743.0    29.0    63.0   2.0   \n",
       "5013300a472c15643f6866876293000800cee62f          0.0    67.0    73.0   3.0   \n",
       "771522f0a275a05d2046b2c93eb299402289f4aa      10252.0     7.0     3.0   9.0   \n",
       "b41ce03b52f2d841f33bdd8a1cbd89bdaefb71ac        998.0    12.0    32.0   2.0   \n",
       "6bfaf8a3fc1d74cffee41d59595476f3ae10ad4b       5709.0   295.0   164.0  47.0   \n",
       "\n",
       "                                          ZONE1  ...  On-net 200F=60mn;1d  \\\n",
       "user_id                                          ...                        \n",
       "e32b4d6132ff45789b023165cfac5fd71a959727    9.0  ...                    0   \n",
       "5013300a472c15643f6866876293000800cee62f    2.0  ...                    0   \n",
       "771522f0a275a05d2046b2c93eb299402289f4aa    1.0  ...                    0   \n",
       "b41ce03b52f2d841f33bdd8a1cbd89bdaefb71ac    0.0  ...                    0   \n",
       "6bfaf8a3fc1d74cffee41d59595476f3ae10ad4b    2.0  ...                    0   \n",
       "\n",
       "                                          On-net 500=4000,10d  \\\n",
       "user_id                                                         \n",
       "e32b4d6132ff45789b023165cfac5fd71a959727                    0   \n",
       "5013300a472c15643f6866876293000800cee62f                    0   \n",
       "771522f0a275a05d2046b2c93eb299402289f4aa                    0   \n",
       "b41ce03b52f2d841f33bdd8a1cbd89bdaefb71ac                    0   \n",
       "6bfaf8a3fc1d74cffee41d59595476f3ae10ad4b                    0   \n",
       "\n",
       "                                          On-net 500F_FNF;3d  \\\n",
       "user_id                                                        \n",
       "e32b4d6132ff45789b023165cfac5fd71a959727                   0   \n",
       "5013300a472c15643f6866876293000800cee62f                   0   \n",
       "771522f0a275a05d2046b2c93eb299402289f4aa                   0   \n",
       "b41ce03b52f2d841f33bdd8a1cbd89bdaefb71ac                   0   \n",
       "6bfaf8a3fc1d74cffee41d59595476f3ae10ad4b                   0   \n",
       "\n",
       "                                          Pilot_Youth1_290  Pilot_Youth4_490  \\\n",
       "user_id                                                                        \n",
       "e32b4d6132ff45789b023165cfac5fd71a959727                 0                 0   \n",
       "5013300a472c15643f6866876293000800cee62f                 0                 0   \n",
       "771522f0a275a05d2046b2c93eb299402289f4aa                 0                 0   \n",
       "b41ce03b52f2d841f33bdd8a1cbd89bdaefb71ac                 0                 0   \n",
       "6bfaf8a3fc1d74cffee41d59595476f3ae10ad4b                 0                 0   \n",
       "\n",
       "                                          Twter_U2opia_Daily  \\\n",
       "user_id                                                        \n",
       "e32b4d6132ff45789b023165cfac5fd71a959727                   0   \n",
       "5013300a472c15643f6866876293000800cee62f                   0   \n",
       "771522f0a275a05d2046b2c93eb299402289f4aa                   0   \n",
       "b41ce03b52f2d841f33bdd8a1cbd89bdaefb71ac                   0   \n",
       "6bfaf8a3fc1d74cffee41d59595476f3ae10ad4b                   0   \n",
       "\n",
       "                                          Twter_U2opia_Monthly  \\\n",
       "user_id                                                          \n",
       "e32b4d6132ff45789b023165cfac5fd71a959727                     0   \n",
       "5013300a472c15643f6866876293000800cee62f                     0   \n",
       "771522f0a275a05d2046b2c93eb299402289f4aa                     0   \n",
       "b41ce03b52f2d841f33bdd8a1cbd89bdaefb71ac                     0   \n",
       "6bfaf8a3fc1d74cffee41d59595476f3ae10ad4b                     0   \n",
       "\n",
       "                                          Twter_U2opia_Weekly  \\\n",
       "user_id                                                         \n",
       "e32b4d6132ff45789b023165cfac5fd71a959727                    0   \n",
       "5013300a472c15643f6866876293000800cee62f                    0   \n",
       "771522f0a275a05d2046b2c93eb299402289f4aa                    0   \n",
       "b41ce03b52f2d841f33bdd8a1cbd89bdaefb71ac                    0   \n",
       "6bfaf8a3fc1d74cffee41d59595476f3ae10ad4b                    1   \n",
       "\n",
       "                                          VAS(IVR_Radio_Daily)  Yewouleen_PKG  \n",
       "user_id                                                                        \n",
       "e32b4d6132ff45789b023165cfac5fd71a959727                     0              0  \n",
       "5013300a472c15643f6866876293000800cee62f                     0              0  \n",
       "771522f0a275a05d2046b2c93eb299402289f4aa                     0              0  \n",
       "b41ce03b52f2d841f33bdd8a1cbd89bdaefb71ac                     0              0  \n",
       "6bfaf8a3fc1d74cffee41d59595476f3ae10ad4b                     0              0  \n",
       "\n",
       "[5 rows x 89 columns]"
      ]
     },
     "execution_count": 36,
     "metadata": {},
     "output_type": "execute_result"
    }
   ],
   "source": [
    "df_1 = pd.concat([df_1, REGION, TENURE, TOP_PACK], axis = 1)\n",
    "df_1.head()"
   ]
  },
  {
   "cell_type": "code",
   "execution_count": 37,
   "id": "c5c9d756",
   "metadata": {},
   "outputs": [
    {
     "name": "stdout",
     "output_type": "stream",
     "text": [
      "<class 'pandas.core.frame.DataFrame'>\n",
      "Index: 2074 entries, e32b4d6132ff45789b023165cfac5fd71a959727 to 17186be41c2717550fddfd24e441f7dfb44b407b\n",
      "Data columns (total 89 columns):\n",
      " #   Column                                      Non-Null Count  Dtype  \n",
      "---  ------                                      --------------  -----  \n",
      " 0   MONTANT                                     2074 non-null   float64\n",
      " 1   FREQUENCE_RECH                              2074 non-null   float64\n",
      " 2   REVENUE                                     2074 non-null   float64\n",
      " 3   ARPU_SEGMENT                                2074 non-null   float64\n",
      " 4   FREQUENCE                                   2074 non-null   float64\n",
      " 5   DATA_VOLUME                                 2074 non-null   float64\n",
      " 6   ON_NET                                      2074 non-null   float64\n",
      " 7   ORANGE                                      2074 non-null   float64\n",
      " 8   TIGO                                        2074 non-null   float64\n",
      " 9   ZONE1                                       2074 non-null   float64\n",
      " 10  ZONE2                                       2074 non-null   float64\n",
      " 11  MRG                                         2074 non-null   int32  \n",
      " 12  REGULARITY                                  2074 non-null   int64  \n",
      " 13  FREQ_TOP_PACK                               2074 non-null   float64\n",
      " 14  CHURN                                       2074 non-null   int64  \n",
      " 15  DAKAR                                       2074 non-null   uint8  \n",
      " 16  DIOURBEL                                    2074 non-null   uint8  \n",
      " 17  FATICK                                      2074 non-null   uint8  \n",
      " 18  KAFFRINE                                    2074 non-null   uint8  \n",
      " 19  KAOLACK                                     2074 non-null   uint8  \n",
      " 20  KEDOUGOU                                    2074 non-null   uint8  \n",
      " 21  KOLDA                                       2074 non-null   uint8  \n",
      " 22  LOUGA                                       2074 non-null   uint8  \n",
      " 23  MATAM                                       2074 non-null   uint8  \n",
      " 24  SAINT-LOUIS                                 2074 non-null   uint8  \n",
      " 25  SEDHIOU                                     2074 non-null   uint8  \n",
      " 26  TAMBACOUNDA                                 2074 non-null   uint8  \n",
      " 27  THIES                                       2074 non-null   uint8  \n",
      " 28  ZIGUINCHOR                                  2074 non-null   uint8  \n",
      " 29  E 6-9 month                                 2074 non-null   uint8  \n",
      " 30  F 9-12 month                                2074 non-null   uint8  \n",
      " 31  G 12-15 month                               2074 non-null   uint8  \n",
      " 32  H 15-18 month                               2074 non-null   uint8  \n",
      " 33  I 18-21 month                               2074 non-null   uint8  \n",
      " 34  J 21-24 month                               2074 non-null   uint8  \n",
      " 35  K > 24 month                                2074 non-null   uint8  \n",
      " 36  200=Unlimited1Day                           2074 non-null   uint8  \n",
      " 37  All-net 1000=5000;5d                        2074 non-null   uint8  \n",
      " 38  All-net 1000F=(3000F On+3000F Off);5d       2074 non-null   uint8  \n",
      " 39  All-net 300=600;2d                          2074 non-null   uint8  \n",
      " 40  All-net 5000= 20000off+20000on;30d          2074 non-null   uint8  \n",
      " 41  All-net 500F =2000F_AllNet_Unlimited        2074 non-null   uint8  \n",
      " 42  All-net 500F=1250F_AllNet_1250_Onnet;48h    2074 non-null   uint8  \n",
      " 43  All-net 500F=2000F;5d                       2074 non-null   uint8  \n",
      " 44  All-net 600F= 3000F ;5d                     2074 non-null   uint8  \n",
      " 45  CVM_on-net bundle 500=5000                  2074 non-null   uint8  \n",
      " 46  Data: 100 F=40MB,24H                        2074 non-null   uint8  \n",
      " 47  Data: 200 F=100MB,24H                       2074 non-null   uint8  \n",
      " 48  Data: 490F=Night,00H-08H                    2074 non-null   uint8  \n",
      " 49  Data:1000F=2GB,30d                          2074 non-null   uint8  \n",
      " 50  Data:1000F=5GB,7d                           2074 non-null   uint8  \n",
      " 51  Data:1500F=3GB,30D                          2074 non-null   uint8  \n",
      " 52  Data:150F=SPPackage1,24H                    2074 non-null   uint8  \n",
      " 53  Data:200F=Unlimited,24H                     2074 non-null   uint8  \n",
      " 54  Data:3000F=10GB,30d                         2074 non-null   uint8  \n",
      " 55  Data:300F=100MB,2d                          2074 non-null   uint8  \n",
      " 56  Data:30Go_V 30_Days                         2074 non-null   uint8  \n",
      " 57  Data:490F=1GB,7d                            2074 non-null   uint8  \n",
      " 58  Data:500F=2GB,24H                           2074 non-null   uint8  \n",
      " 59  Data:50F=30MB_24H                           2074 non-null   uint8  \n",
      " 60  Data:700F=1.5GB,7d                          2074 non-null   uint8  \n",
      " 61  Data:DailyCycle_Pilot_1.5GB                 2074 non-null   uint8  \n",
      " 62  FNF2 ( JAPPANTE)                            2074 non-null   uint8  \n",
      " 63  Facebook_MIX_2D                             2074 non-null   uint8  \n",
      " 64  IVR Echat_Daily_50F                         2074 non-null   uint8  \n",
      " 65  Internat: 1000F_Zone_1;24H\t\t                2074 non-null   uint8  \n",
      " 66  Jokko_Daily                                 2074 non-null   uint8  \n",
      " 67  Jokko_Monthly                               2074 non-null   uint8  \n",
      " 68  Jokko_Weekly                                2074 non-null   uint8  \n",
      " 69  Jokko_promo                                 2074 non-null   uint8  \n",
      " 70  MIXT: 200mnoff net _unl on net _5Go;30d     2074 non-null   uint8  \n",
      " 71  MIXT: 5000F=80Konnet_20Koffnet_250Mo;30d\t\t  2074 non-null   uint8  \n",
      " 72  MIXT: 590F=02H_On-net_200SMS_200 Mo;24h\t\t   2074 non-null   uint8  \n",
      " 73  MIXT:10000F=10hAllnet_3Go_1h_Zone3;30d\t\t    2074 non-null   uint8  \n",
      " 74  MIXT:500F= 2500F on net _2500F off net;2d   2074 non-null   uint8  \n",
      " 75  MROMO_TIMWES_OneDAY                         2074 non-null   uint8  \n",
      " 76  Mixt 250F=Unlimited_call24H                 2074 non-null   uint8  \n",
      " 77  On net 200F=Unlimited _call24H              2074 non-null   uint8  \n",
      " 78  On-net 1000F=10MilF;10d                     2074 non-null   uint8  \n",
      " 79  On-net 200F=60mn;1d                         2074 non-null   uint8  \n",
      " 80  On-net 500=4000,10d                         2074 non-null   uint8  \n",
      " 81  On-net 500F_FNF;3d                          2074 non-null   uint8  \n",
      " 82  Pilot_Youth1_290                            2074 non-null   uint8  \n",
      " 83  Pilot_Youth4_490                            2074 non-null   uint8  \n",
      " 84  Twter_U2opia_Daily                          2074 non-null   uint8  \n",
      " 85  Twter_U2opia_Monthly                        2074 non-null   uint8  \n",
      " 86  Twter_U2opia_Weekly                         2074 non-null   uint8  \n",
      " 87  VAS(IVR_Radio_Daily)                        2074 non-null   uint8  \n",
      " 88  Yewouleen_PKG                               2074 non-null   uint8  \n",
      "dtypes: float64(12), int32(1), int64(2), uint8(74)\n",
      "memory usage: 401.0+ KB\n"
     ]
    }
   ],
   "source": [
    "df_1.info()"
   ]
  },
  {
   "cell_type": "code",
   "execution_count": 38,
   "id": "339bfe56",
   "metadata": {},
   "outputs": [
    {
     "name": "stderr",
     "output_type": "stream",
     "text": [
      "C:\\Users\\BEST\\anaconda3\\lib\\site-packages\\matplotlib\\backends\\backend_agg.py:240: RuntimeWarning: Glyph 9 missing from current font.\n",
      "  font.set_text(s, 0.0, flags=flags)\n",
      "C:\\Users\\BEST\\anaconda3\\lib\\site-packages\\matplotlib\\backends\\backend_agg.py:203: RuntimeWarning: Glyph 9 missing from current font.\n",
      "  font.set_text(s, 0, flags=flags)\n"
     ]
    },
    {
     "data": {
      "text/plain": [
       "<AxesSubplot:ylabel='user_id'>"
      ]
     },
     "execution_count": 38,
     "metadata": {},
     "output_type": "execute_result"
    },
    {
     "data": {
      "image/png": "[encoded data removed]",
      "text/plain": [
       "<Figure size 720x360 with 2 Axes>"
      ]
     },
     "metadata": {},
     "output_type": "display_data"
    }
   ],
   "source": [
    "f, ax = plt.subplots(figsize=(10, 5))\n",
    "sns.heatmap(df_1, yticklabels = False, xticklabels = 1)"
   ]
  },
  {
   "cell_type": "markdown",
   "id": "4270fdd7",
   "metadata": {},
   "source": [
    "# Decision Tree Algorithm"
   ]
  },
  {
   "cell_type": "code",
   "execution_count": 39,
   "id": "13f27b7a",
   "metadata": {},
   "outputs": [
    {
     "data": {
      "text/plain": [
       "0.9967897271268058"
      ]
     },
     "execution_count": 39,
     "metadata": {},
     "output_type": "execute_result"
    }
   ],
   "source": [
    "from sklearn.tree import DecisionTreeClassifier\n",
    "from sklearn.model_selection import train_test_split\n",
    "from sklearn.metrics import accuracy_score\n",
    "\n",
    "x = df_1.drop(columns=['CHURN'])\n",
    "y = df_1['CHURN']\n",
    "x_train, x_test, y_train, y_test = train_test_split(x, y, test_size = 0.3)\n",
    "\n",
    "model = DecisionTreeClassifier()\n",
    "model.fit(x_train, y_train)\n",
    "predictions = model.predict(x_test)\n",
    "\n",
    "score = accuracy_score(y_test, predictions)\n",
    "score"
   ]
  },
  {
   "cell_type": "markdown",
   "id": "f6712270",
   "metadata": {},
   "source": [
    "# Data Cleaning"
   ]
  },
  {
   "cell_type": "code",
   "execution_count": 40,
   "id": "05524cf0",
   "metadata": {},
   "outputs": [
    {
     "data": {
      "text/html": [
       "<div>\n",
       "<style scoped>\n",
       "    .dataframe tbody tr th:only-of-type {\n",
       "        vertical-align: middle;\n",
       "    }\n",
       "\n",
       "    .dataframe tbody tr th {\n",
       "        vertical-align: top;\n",
       "    }\n",
       "\n",
       "    .dataframe thead th {\n",
       "        text-align: right;\n",
       "    }\n",
       "</style>\n",
       "<table border=\"1\" class=\"dataframe\">\n",
       "  <thead>\n",
       "    <tr style=\"text-align: right;\">\n",
       "      <th></th>\n",
       "      <th>REGION</th>\n",
       "      <th>TENURE</th>\n",
       "      <th>MONTANT</th>\n",
       "      <th>FREQUENCE_RECH</th>\n",
       "      <th>REVENUE</th>\n",
       "      <th>ARPU_SEGMENT</th>\n",
       "      <th>FREQUENCE</th>\n",
       "      <th>DATA_VOLUME</th>\n",
       "      <th>ON_NET</th>\n",
       "      <th>ORANGE</th>\n",
       "      <th>TIGO</th>\n",
       "      <th>ZONE1</th>\n",
       "      <th>ZONE2</th>\n",
       "      <th>MRG</th>\n",
       "      <th>REGULARITY</th>\n",
       "      <th>TOP_PACK</th>\n",
       "      <th>FREQ_TOP_PACK</th>\n",
       "      <th>CHURN</th>\n",
       "    </tr>\n",
       "    <tr>\n",
       "      <th>user_id</th>\n",
       "      <th></th>\n",
       "      <th></th>\n",
       "      <th></th>\n",
       "      <th></th>\n",
       "      <th></th>\n",
       "      <th></th>\n",
       "      <th></th>\n",
       "      <th></th>\n",
       "      <th></th>\n",
       "      <th></th>\n",
       "      <th></th>\n",
       "      <th></th>\n",
       "      <th></th>\n",
       "      <th></th>\n",
       "      <th></th>\n",
       "      <th></th>\n",
       "      <th></th>\n",
       "      <th></th>\n",
       "    </tr>\n",
       "  </thead>\n",
       "  <tbody>\n",
       "    <tr>\n",
       "      <th>dcf68cc2fb515ccad7d8b9b3bd80ee2a4b270063</th>\n",
       "      <td>SAINT-LOUIS</td>\n",
       "      <td>K &gt; 24 month</td>\n",
       "      <td>17000.0</td>\n",
       "      <td>32.0</td>\n",
       "      <td>18000.0</td>\n",
       "      <td>6000.0</td>\n",
       "      <td>34.0</td>\n",
       "      <td>NaN</td>\n",
       "      <td>97.0</td>\n",
       "      <td>355.0</td>\n",
       "      <td>6.0</td>\n",
       "      <td>NaN</td>\n",
       "      <td>NaN</td>\n",
       "      <td>NO</td>\n",
       "      <td>62</td>\n",
       "      <td>All-net 500F=2000F;5d</td>\n",
       "      <td>35.0</td>\n",
       "      <td>0</td>\n",
       "    </tr>\n",
       "    <tr>\n",
       "      <th>71c44b5ba328db5c4192a80f7cf8f244d9350ed0</th>\n",
       "      <td>NaN</td>\n",
       "      <td>K &gt; 24 month</td>\n",
       "      <td>4300.0</td>\n",
       "      <td>29.0</td>\n",
       "      <td>4427.0</td>\n",
       "      <td>1476.0</td>\n",
       "      <td>37.0</td>\n",
       "      <td>1764.0</td>\n",
       "      <td>8.0</td>\n",
       "      <td>3.0</td>\n",
       "      <td>0.0</td>\n",
       "      <td>NaN</td>\n",
       "      <td>2.0</td>\n",
       "      <td>NO</td>\n",
       "      <td>40</td>\n",
       "      <td>Data: 100 F=40MB,24H</td>\n",
       "      <td>22.0</td>\n",
       "      <td>0</td>\n",
       "    </tr>\n",
       "    <tr>\n",
       "      <th>ce46411b1526c94f20a383b8cb188f8d27f82a0a</th>\n",
       "      <td>TAMBACOUNDA</td>\n",
       "      <td>K &gt; 24 month</td>\n",
       "      <td>1500.0</td>\n",
       "      <td>3.0</td>\n",
       "      <td>1500.0</td>\n",
       "      <td>500.0</td>\n",
       "      <td>3.0</td>\n",
       "      <td>NaN</td>\n",
       "      <td>30.0</td>\n",
       "      <td>30.0</td>\n",
       "      <td>NaN</td>\n",
       "      <td>NaN</td>\n",
       "      <td>NaN</td>\n",
       "      <td>NO</td>\n",
       "      <td>32</td>\n",
       "      <td>All-net 500F=2000F;5d</td>\n",
       "      <td>3.0</td>\n",
       "      <td>0</td>\n",
       "    </tr>\n",
       "    <tr>\n",
       "      <th>f467cdb6669818373c26c2bad44e01ba66f97d21</th>\n",
       "      <td>FATICK</td>\n",
       "      <td>K &gt; 24 month</td>\n",
       "      <td>1500.0</td>\n",
       "      <td>3.0</td>\n",
       "      <td>2497.0</td>\n",
       "      <td>832.0</td>\n",
       "      <td>4.0</td>\n",
       "      <td>0.0</td>\n",
       "      <td>159.0</td>\n",
       "      <td>45.0</td>\n",
       "      <td>19.0</td>\n",
       "      <td>NaN</td>\n",
       "      <td>NaN</td>\n",
       "      <td>NO</td>\n",
       "      <td>18</td>\n",
       "      <td>On net 200F=Unlimited _call24H</td>\n",
       "      <td>3.0</td>\n",
       "      <td>0</td>\n",
       "    </tr>\n",
       "    <tr>\n",
       "      <th>ec45e1a1888a32b5dcce0954cfec20c6e037db31</th>\n",
       "      <td>FATICK</td>\n",
       "      <td>K &gt; 24 month</td>\n",
       "      <td>NaN</td>\n",
       "      <td>NaN</td>\n",
       "      <td>498.0</td>\n",
       "      <td>166.0</td>\n",
       "      <td>3.0</td>\n",
       "      <td>1.0</td>\n",
       "      <td>1.0</td>\n",
       "      <td>3.0</td>\n",
       "      <td>NaN</td>\n",
       "      <td>NaN</td>\n",
       "      <td>NaN</td>\n",
       "      <td>NO</td>\n",
       "      <td>50</td>\n",
       "      <td>NaN</td>\n",
       "      <td>NaN</td>\n",
       "      <td>0</td>\n",
       "    </tr>\n",
       "  </tbody>\n",
       "</table>\n",
       "</div>"
      ],
      "text/plain": [
       "                                               REGION        TENURE  MONTANT  \\\n",
       "user_id                                                                        \n",
       "dcf68cc2fb515ccad7d8b9b3bd80ee2a4b270063  SAINT-LOUIS  K > 24 month  17000.0   \n",
       "71c44b5ba328db5c4192a80f7cf8f244d9350ed0          NaN  K > 24 month   4300.0   \n",
       "ce46411b1526c94f20a383b8cb188f8d27f82a0a  TAMBACOUNDA  K > 24 month   1500.0   \n",
       "f467cdb6669818373c26c2bad44e01ba66f97d21       FATICK  K > 24 month   1500.0   \n",
       "ec45e1a1888a32b5dcce0954cfec20c6e037db31       FATICK  K > 24 month      NaN   \n",
       "\n",
       "                                          FREQUENCE_RECH  REVENUE  \\\n",
       "user_id                                                             \n",
       "dcf68cc2fb515ccad7d8b9b3bd80ee2a4b270063            32.0  18000.0   \n",
       "71c44b5ba328db5c4192a80f7cf8f244d9350ed0            29.0   4427.0   \n",
       "ce46411b1526c94f20a383b8cb188f8d27f82a0a             3.0   1500.0   \n",
       "f467cdb6669818373c26c2bad44e01ba66f97d21             3.0   2497.0   \n",
       "ec45e1a1888a32b5dcce0954cfec20c6e037db31             NaN    498.0   \n",
       "\n",
       "                                          ARPU_SEGMENT  FREQUENCE  \\\n",
       "user_id                                                             \n",
       "dcf68cc2fb515ccad7d8b9b3bd80ee2a4b270063        6000.0       34.0   \n",
       "71c44b5ba328db5c4192a80f7cf8f244d9350ed0        1476.0       37.0   \n",
       "ce46411b1526c94f20a383b8cb188f8d27f82a0a         500.0        3.0   \n",
       "f467cdb6669818373c26c2bad44e01ba66f97d21         832.0        4.0   \n",
       "ec45e1a1888a32b5dcce0954cfec20c6e037db31         166.0        3.0   \n",
       "\n",
       "                                          DATA_VOLUME  ON_NET  ORANGE  TIGO  \\\n",
       "user_id                                                                       \n",
       "dcf68cc2fb515ccad7d8b9b3bd80ee2a4b270063          NaN    97.0   355.0   6.0   \n",
       "71c44b5ba328db5c4192a80f7cf8f244d9350ed0       1764.0     8.0     3.0   0.0   \n",
       "ce46411b1526c94f20a383b8cb188f8d27f82a0a          NaN    30.0    30.0   NaN   \n",
       "f467cdb6669818373c26c2bad44e01ba66f97d21          0.0   159.0    45.0  19.0   \n",
       "ec45e1a1888a32b5dcce0954cfec20c6e037db31          1.0     1.0     3.0   NaN   \n",
       "\n",
       "                                          ZONE1  ZONE2 MRG  REGULARITY  \\\n",
       "user_id                                                                  \n",
       "dcf68cc2fb515ccad7d8b9b3bd80ee2a4b270063    NaN    NaN  NO          62   \n",
       "71c44b5ba328db5c4192a80f7cf8f244d9350ed0    NaN    2.0  NO          40   \n",
       "ce46411b1526c94f20a383b8cb188f8d27f82a0a    NaN    NaN  NO          32   \n",
       "f467cdb6669818373c26c2bad44e01ba66f97d21    NaN    NaN  NO          18   \n",
       "ec45e1a1888a32b5dcce0954cfec20c6e037db31    NaN    NaN  NO          50   \n",
       "\n",
       "                                                                TOP_PACK  \\\n",
       "user_id                                                                    \n",
       "dcf68cc2fb515ccad7d8b9b3bd80ee2a4b270063           All-net 500F=2000F;5d   \n",
       "71c44b5ba328db5c4192a80f7cf8f244d9350ed0            Data: 100 F=40MB,24H   \n",
       "ce46411b1526c94f20a383b8cb188f8d27f82a0a           All-net 500F=2000F;5d   \n",
       "f467cdb6669818373c26c2bad44e01ba66f97d21  On net 200F=Unlimited _call24H   \n",
       "ec45e1a1888a32b5dcce0954cfec20c6e037db31                             NaN   \n",
       "\n",
       "                                          FREQ_TOP_PACK  CHURN  \n",
       "user_id                                                         \n",
       "dcf68cc2fb515ccad7d8b9b3bd80ee2a4b270063           35.0      0  \n",
       "71c44b5ba328db5c4192a80f7cf8f244d9350ed0           22.0      0  \n",
       "ce46411b1526c94f20a383b8cb188f8d27f82a0a            3.0      0  \n",
       "f467cdb6669818373c26c2bad44e01ba66f97d21            3.0      0  \n",
       "ec45e1a1888a32b5dcce0954cfec20c6e037db31            NaN      0  "
      ]
     },
     "execution_count": 40,
     "metadata": {},
     "output_type": "execute_result"
    }
   ],
   "source": [
    "df_ml = df.dropna(thresh = 10, axis = 0)\n",
    "df_ml.head()"
   ]
  },
  {
   "cell_type": "code",
   "execution_count": 41,
   "id": "68a3b46c",
   "metadata": {},
   "outputs": [
    {
     "name": "stdout",
     "output_type": "stream",
     "text": [
      "<class 'pandas.core.frame.DataFrame'>\n",
      "Index: 258518 entries, dcf68cc2fb515ccad7d8b9b3bd80ee2a4b270063 to 767f596aee426962f7d92f4de8d7b232cdc17568\n",
      "Data columns (total 18 columns):\n",
      " #   Column          Non-Null Count   Dtype  \n",
      "---  ------          --------------   -----  \n",
      " 0   REGION          204714 non-null  object \n",
      " 1   TENURE          258518 non-null  object \n",
      " 2   MONTANT         255053 non-null  float64\n",
      " 3   FREQUENCE_RECH  255053 non-null  float64\n",
      " 4   REVENUE         258315 non-null  float64\n",
      " 5   ARPU_SEGMENT    258315 non-null  float64\n",
      " 6   FREQUENCE       258315 non-null  float64\n",
      " 7   DATA_VOLUME     175406 non-null  float64\n",
      " 8   ON_NET          232419 non-null  float64\n",
      " 9   ORANGE          229980 non-null  float64\n",
      " 10  TIGO            159236 non-null  float64\n",
      " 11  ZONE1           30522 non-null   float64\n",
      " 12  ZONE2           25424 non-null   float64\n",
      " 13  MRG             258518 non-null  object \n",
      " 14  REGULARITY      258518 non-null  int64  \n",
      " 15  TOP_PACK        232600 non-null  object \n",
      " 16  FREQ_TOP_PACK   232600 non-null  float64\n",
      " 17  CHURN           258518 non-null  int64  \n",
      "dtypes: float64(12), int64(2), object(4)\n",
      "memory usage: 37.5+ MB\n"
     ]
    }
   ],
   "source": [
    "df_ml.info()"
   ]
  },
  {
   "cell_type": "code",
   "execution_count": 42,
   "id": "4b7406f6",
   "metadata": {},
   "outputs": [
    {
     "data": {
      "text/plain": [
       "(258518, 18)"
      ]
     },
     "execution_count": 42,
     "metadata": {},
     "output_type": "execute_result"
    }
   ],
   "source": [
    "df_ml.shape"
   ]
  },
  {
   "cell_type": "code",
   "execution_count": 43,
   "id": "2b761fe0",
   "metadata": {},
   "outputs": [
    {
     "data": {
      "text/plain": [
       "REGION             53804\n",
       "TENURE                 0\n",
       "MONTANT             3465\n",
       "FREQUENCE_RECH      3465\n",
       "REVENUE              203\n",
       "ARPU_SEGMENT         203\n",
       "FREQUENCE            203\n",
       "DATA_VOLUME        83112\n",
       "ON_NET             26099\n",
       "ORANGE             28538\n",
       "TIGO               99282\n",
       "ZONE1             227996\n",
       "ZONE2             233094\n",
       "MRG                    0\n",
       "REGULARITY             0\n",
       "TOP_PACK           25918\n",
       "FREQ_TOP_PACK      25918\n",
       "CHURN                  0\n",
       "dtype: int64"
      ]
     },
     "execution_count": 43,
     "metadata": {},
     "output_type": "execute_result"
    }
   ],
   "source": [
    "df_ml.isnull().sum()"
   ]
  },
  {
   "cell_type": "code",
   "execution_count": 44,
   "id": "4681467e",
   "metadata": {},
   "outputs": [
    {
     "name": "stderr",
     "output_type": "stream",
     "text": [
      "C:\\Users\\BEST\\AppData\\Local\\Temp/ipykernel_5440/1885483870.py:1: SettingWithCopyWarning: \n",
      "A value is trying to be set on a copy of a slice from a DataFrame\n",
      "\n",
      "See the caveats in the documentation: https://pandas.pydata.org/pandas-docs/stable/user_guide/indexing.html#returning-a-view-versus-a-copy\n",
      "  df_ml.drop(['ZONE1', 'ZONE2'], axis = 1, inplace = True)\n"
     ]
    }
   ],
   "source": [
    "df_ml.drop(['ZONE1', 'ZONE2'], axis = 1, inplace = True)"
   ]
  },
  {
   "cell_type": "markdown",
   "id": "8cfdf55c",
   "metadata": {},
   "source": [
    "##### Dropped this columns, cause they had no effect on the prediction"
   ]
  },
  {
   "cell_type": "markdown",
   "id": "660982ac",
   "metadata": {},
   "source": [
    "# DATA FILLING"
   ]
  },
  {
   "cell_type": "markdown",
   "id": "6b866b21",
   "metadata": {},
   "source": [
    "### I used Histograms and Box plots to point out the outliers "
   ]
  },
  {
   "cell_type": "markdown",
   "id": "5a28d2b9",
   "metadata": {},
   "source": [
    "#### If the outliers were much and the box was somewhat negligble I normalized using the Min-Max method. \n",
    "#### If they were less outliers, I used the simple scaling feature   "
   ]
  },
  {
   "cell_type": "code",
   "execution_count": 45,
   "id": "c65d58fb",
   "metadata": {},
   "outputs": [
    {
     "data": {
      "text/plain": [
       "(array([2.47206e+05, 7.06900e+03, 6.10000e+02, 1.13000e+02, 3.20000e+01,\n",
       "        1.00000e+01, 6.00000e+00, 2.00000e+00, 2.00000e+00, 3.00000e+00]),\n",
       " array([2.00000e+01, 2.26730e+04, 4.53260e+04, 6.79790e+04, 9.06320e+04,\n",
       "        1.13285e+05, 1.35938e+05, 1.58591e+05, 1.81244e+05, 2.03897e+05,\n",
       "        2.26550e+05]),\n",
       " <BarContainer object of 10 artists>)"
      ]
     },
     "execution_count": 45,
     "metadata": {},
     "output_type": "execute_result"
    },
    {
     "data": {
      "image/png": "[encoded data removed]",
      "text/plain": [
       "<Figure size 432x288 with 1 Axes>"
      ]
     },
     "metadata": {},
     "output_type": "display_data"
    }
   ],
   "source": [
    "plt.hist(x = df_ml['MONTANT'])"
   ]
  },
  {
   "cell_type": "code",
   "execution_count": 46,
   "id": "54f8cbe2",
   "metadata": {},
   "outputs": [
    {
     "data": {
      "text/plain": [
       "<seaborn.axisgrid.FacetGrid at 0x26016b3d1f0>"
      ]
     },
     "execution_count": 46,
     "metadata": {},
     "output_type": "execute_result"
    },
    {
     "data": {
      "image/png": "[encoded data removed]",
      "text/plain": [
       "<Figure size 900x360 with 1 Axes>"
      ]
     },
     "metadata": {},
     "output_type": "display_data"
    }
   ],
   "source": [
    "sns.catplot(data = df_ml, x = \"MONTANT\", kind = 'box', height = 5, aspect = 2.5)"
   ]
  },
  {
   "cell_type": "code",
   "execution_count": 47,
   "id": "a16c1f34",
   "metadata": {},
   "outputs": [
    {
     "name": "stderr",
     "output_type": "stream",
     "text": [
      "C:\\Users\\BEST\\AppData\\Local\\Temp/ipykernel_5440/255358671.py:1: SettingWithCopyWarning: \n",
      "A value is trying to be set on a copy of a slice from a DataFrame.\n",
      "Try using .loc[row_indexer,col_indexer] = value instead\n",
      "\n",
      "See the caveats in the documentation: https://pandas.pydata.org/pandas-docs/stable/user_guide/indexing.html#returning-a-view-versus-a-copy\n",
      "  df_ml['MONTANT'] = (df_ml['MONTANT'].min()) / (df_ml['MONTANT'].max() - df_ml['MONTANT'].min())\n"
     ]
    }
   ],
   "source": [
    "df_ml['MONTANT'] = (df_ml['MONTANT'].min()) / (df_ml['MONTANT'].max() - df_ml['MONTANT'].min())"
   ]
  },
  {
   "cell_type": "code",
   "execution_count": 48,
   "id": "9eb9f9d9",
   "metadata": {},
   "outputs": [
    {
     "data": {
      "text/plain": [
       "<seaborn.axisgrid.FacetGrid at 0x26016bbeca0>"
      ]
     },
     "execution_count": 48,
     "metadata": {},
     "output_type": "execute_result"
    },
    {
     "data": {
      "image/png": "[encoded data removed]",
      "text/plain": [
       "<Figure size 252x252 with 1 Axes>"
      ]
     },
     "metadata": {},
     "output_type": "display_data"
    }
   ],
   "source": [
    "sns.catplot(data = df_ml, x = \"MONTANT\", kind = 'box', height = 3.5)"
   ]
  },
  {
   "cell_type": "code",
   "execution_count": 49,
   "id": "b4dfd355",
   "metadata": {},
   "outputs": [
    {
     "data": {
      "text/plain": [
       "(array([1.85235e+05, 4.12390e+04, 1.62290e+04, 7.22500e+03, 3.30500e+03,\n",
       "        1.41600e+03, 3.51000e+02, 4.60000e+01, 6.00000e+00, 1.00000e+00]),\n",
       " array([  1. ,  14.2,  27.4,  40.6,  53.8,  67. ,  80.2,  93.4, 106.6,\n",
       "        119.8, 133. ]),\n",
       " <BarContainer object of 10 artists>)"
      ]
     },
     "execution_count": 49,
     "metadata": {},
     "output_type": "execute_result"
    },
    {
     "data": {
      "image/png": "[encoded data removed]",
      "text/plain": [
       "<Figure size 432x288 with 1 Axes>"
      ]
     },
     "metadata": {},
     "output_type": "display_data"
    }
   ],
   "source": [
    "plt.hist(x = df_ml['FREQUENCE_RECH'])"
   ]
  },
  {
   "cell_type": "code",
   "execution_count": 50,
   "id": "f0ebffee",
   "metadata": {},
   "outputs": [
    {
     "data": {
      "text/plain": [
       "<seaborn.axisgrid.FacetGrid at 0x26016b0efa0>"
      ]
     },
     "execution_count": 50,
     "metadata": {},
     "output_type": "execute_result"
    },
    {
     "data": {
      "image/png": "[encoded data removed]",
      "text/plain": [
       "<Figure size 900x360 with 1 Axes>"
      ]
     },
     "metadata": {},
     "output_type": "display_data"
    }
   ],
   "source": [
    "sns.catplot(data = df_ml, x = \"FREQUENCE_RECH\", kind = 'box', height = 5, aspect = 2.5)"
   ]
  },
  {
   "cell_type": "code",
   "execution_count": 51,
   "id": "22ff9fed",
   "metadata": {},
   "outputs": [
    {
     "name": "stderr",
     "output_type": "stream",
     "text": [
      "C:\\Users\\BEST\\AppData\\Local\\Temp/ipykernel_5440/71073783.py:1: SettingWithCopyWarning: \n",
      "A value is trying to be set on a copy of a slice from a DataFrame.\n",
      "Try using .loc[row_indexer,col_indexer] = value instead\n",
      "\n",
      "See the caveats in the documentation: https://pandas.pydata.org/pandas-docs/stable/user_guide/indexing.html#returning-a-view-versus-a-copy\n",
      "  df_ml['FREQUENCE_RECH'] = df_ml['FREQUENCE_RECH'] / df_ml['FREQUENCE_RECH'].max()\n"
     ]
    }
   ],
   "source": [
    "df_ml['FREQUENCE_RECH'] = df_ml['FREQUENCE_RECH'] / df_ml['FREQUENCE_RECH'].max()"
   ]
  },
  {
   "cell_type": "code",
   "execution_count": 52,
   "id": "675fdc0b",
   "metadata": {},
   "outputs": [
    {
     "name": "stderr",
     "output_type": "stream",
     "text": [
      "C:\\Users\\BEST\\AppData\\Local\\Temp/ipykernel_5440/532287079.py:1: SettingWithCopyWarning: \n",
      "A value is trying to be set on a copy of a slice from a DataFrame.\n",
      "Try using .loc[row_indexer,col_indexer] = value instead\n",
      "\n",
      "See the caveats in the documentation: https://pandas.pydata.org/pandas-docs/stable/user_guide/indexing.html#returning-a-view-versus-a-copy\n",
      "  df_ml['FREQUENCE_RECH'] = df_ml['FREQUENCE_RECH'].fillna(df_ml['FREQUENCE_RECH'].mean())\n"
     ]
    }
   ],
   "source": [
    "df_ml['FREQUENCE_RECH'] = df_ml['FREQUENCE_RECH'].fillna(df_ml['FREQUENCE_RECH'].mean())"
   ]
  },
  {
   "cell_type": "code",
   "execution_count": 53,
   "id": "98438418",
   "metadata": {},
   "outputs": [
    {
     "data": {
      "text/plain": [
       "<seaborn.axisgrid.FacetGrid at 0x26016d74340>"
      ]
     },
     "execution_count": 53,
     "metadata": {},
     "output_type": "execute_result"
    },
    {
     "data": {
      "image/png": "[encoded data removed]",
      "text/plain": [
       "<Figure size 252x252 with 1 Axes>"
      ]
     },
     "metadata": {},
     "output_type": "display_data"
    }
   ],
   "source": [
    "sns.catplot(data = df_ml, x = \"FREQUENCE_RECH\", kind = 'box', height = 3.5)"
   ]
  },
  {
   "cell_type": "code",
   "execution_count": null,
   "id": "b941bc84",
   "metadata": {},
   "outputs": [],
   "source": []
  },
  {
   "cell_type": "code",
   "execution_count": 54,
   "id": "99f256dc",
   "metadata": {},
   "outputs": [
    {
     "data": {
      "text/plain": [
       "(array([2.50606e+05, 6.95300e+03, 5.99000e+02, 1.09000e+02, 2.70000e+01,\n",
       "        1.20000e+01, 7.00000e+00, 0.00000e+00, 0.00000e+00, 2.00000e+00]),\n",
       " array([1.000000e+00, 2.334220e+04, 4.668340e+04, 7.002460e+04,\n",
       "        9.336580e+04, 1.167070e+05, 1.400482e+05, 1.633894e+05,\n",
       "        1.867306e+05, 2.100718e+05, 2.334130e+05]),\n",
       " <BarContainer object of 10 artists>)"
      ]
     },
     "execution_count": 54,
     "metadata": {},
     "output_type": "execute_result"
    },
    {
     "data": {
      "image/png": "[encoded data removed]",
      "text/plain": [
       "<Figure size 432x288 with 1 Axes>"
      ]
     },
     "metadata": {},
     "output_type": "display_data"
    }
   ],
   "source": [
    "plt.hist(x = df_ml['REVENUE'])"
   ]
  },
  {
   "cell_type": "code",
   "execution_count": 55,
   "id": "e17d013b",
   "metadata": {},
   "outputs": [
    {
     "data": {
      "text/plain": [
       "<seaborn.axisgrid.FacetGrid at 0x2601d43bf70>"
      ]
     },
     "execution_count": 55,
     "metadata": {},
     "output_type": "execute_result"
    },
    {
     "data": {
      "image/png": "[encoded data removed]",
      "text/plain": [
       "<Figure size 900x360 with 1 Axes>"
      ]
     },
     "metadata": {},
     "output_type": "display_data"
    }
   ],
   "source": [
    "sns.catplot(data = df_ml, x = 'REVENUE', kind = 'box', height = 5, aspect = 2.5)"
   ]
  },
  {
   "cell_type": "code",
   "execution_count": 56,
   "id": "8a0ff3df",
   "metadata": {},
   "outputs": [
    {
     "name": "stderr",
     "output_type": "stream",
     "text": [
      "C:\\Users\\BEST\\AppData\\Local\\Temp/ipykernel_5440/1660951166.py:1: SettingWithCopyWarning: \n",
      "A value is trying to be set on a copy of a slice from a DataFrame.\n",
      "Try using .loc[row_indexer,col_indexer] = value instead\n",
      "\n",
      "See the caveats in the documentation: https://pandas.pydata.org/pandas-docs/stable/user_guide/indexing.html#returning-a-view-versus-a-copy\n",
      "  df_ml['REVENUE'] = (df_ml['REVENUE'].min()) / (df_ml['REVENUE'].max() - df_ml['REVENUE'].min())\n"
     ]
    }
   ],
   "source": [
    "df_ml['REVENUE'] = (df_ml['REVENUE'].min()) / (df_ml['REVENUE'].max() - df_ml['REVENUE'].min())"
   ]
  },
  {
   "cell_type": "code",
   "execution_count": 57,
   "id": "a6940c39",
   "metadata": {},
   "outputs": [
    {
     "data": {
      "text/plain": [
       "<seaborn.axisgrid.FacetGrid at 0x2601d7ea8b0>"
      ]
     },
     "execution_count": 57,
     "metadata": {},
     "output_type": "execute_result"
    },
    {
     "data": {
      "image/png": "[encoded data removed]",
      "text/plain": [
       "<Figure size 252x252 with 1 Axes>"
      ]
     },
     "metadata": {},
     "output_type": "display_data"
    }
   ],
   "source": [
    "sns.catplot(data = df_ml, x = 'REVENUE', kind = 'box', height = 3.5)"
   ]
  },
  {
   "cell_type": "code",
   "execution_count": null,
   "id": "20d8b5eb",
   "metadata": {},
   "outputs": [],
   "source": []
  },
  {
   "cell_type": "code",
   "execution_count": 58,
   "id": "b51ae569",
   "metadata": {},
   "outputs": [
    {
     "data": {
      "text/plain": [
       "(array([2.50606e+05, 6.95300e+03, 5.99000e+02, 1.09000e+02, 2.70000e+01,\n",
       "        1.20000e+01, 7.00000e+00, 0.00000e+00, 0.00000e+00, 2.00000e+00]),\n",
       " array([    0. ,  7780.4, 15560.8, 23341.2, 31121.6, 38902. , 46682.4,\n",
       "        54462.8, 62243.2, 70023.6, 77804. ]),\n",
       " <BarContainer object of 10 artists>)"
      ]
     },
     "execution_count": 58,
     "metadata": {},
     "output_type": "execute_result"
    },
    {
     "data": {
      "image/png": "[encoded data removed]",
      "text/plain": [
       "<Figure size 432x288 with 1 Axes>"
      ]
     },
     "metadata": {},
     "output_type": "display_data"
    }
   ],
   "source": [
    "plt.hist(x = df_ml['ARPU_SEGMENT'])"
   ]
  },
  {
   "cell_type": "code",
   "execution_count": 59,
   "id": "ff18db03",
   "metadata": {},
   "outputs": [
    {
     "data": {
      "text/plain": [
       "<seaborn.axisgrid.FacetGrid at 0x260479129d0>"
      ]
     },
     "execution_count": 59,
     "metadata": {},
     "output_type": "execute_result"
    },
    {
     "data": {
      "image/png": "[encoded data removed]",
      "text/plain": [
       "<Figure size 900x360 with 1 Axes>"
      ]
     },
     "metadata": {},
     "output_type": "display_data"
    }
   ],
   "source": [
    "sns.catplot(data = df_ml, x = 'ARPU_SEGMENT', kind = 'box', height = 5, aspect = 2.5)"
   ]
  },
  {
   "cell_type": "code",
   "execution_count": 60,
   "id": "45f55b26",
   "metadata": {},
   "outputs": [
    {
     "name": "stderr",
     "output_type": "stream",
     "text": [
      "C:\\Users\\BEST\\AppData\\Local\\Temp/ipykernel_5440/4194445149.py:1: SettingWithCopyWarning: \n",
      "A value is trying to be set on a copy of a slice from a DataFrame.\n",
      "Try using .loc[row_indexer,col_indexer] = value instead\n",
      "\n",
      "See the caveats in the documentation: https://pandas.pydata.org/pandas-docs/stable/user_guide/indexing.html#returning-a-view-versus-a-copy\n",
      "  df_ml['ARPU_SEGMENT'] = (df_ml['ARPU_SEGMENT'].min()) / (df_ml['ARPU_SEGMENT'].max() - df_ml['ARPU_SEGMENT'].min())\n"
     ]
    }
   ],
   "source": [
    "df_ml['ARPU_SEGMENT'] = (df_ml['ARPU_SEGMENT'].min()) / (df_ml['ARPU_SEGMENT'].max() - df_ml['ARPU_SEGMENT'].min())"
   ]
  },
  {
   "cell_type": "code",
   "execution_count": 61,
   "id": "687b5686",
   "metadata": {},
   "outputs": [
    {
     "data": {
      "text/plain": [
       "<seaborn.axisgrid.FacetGrid at 0x2601d98e820>"
      ]
     },
     "execution_count": 61,
     "metadata": {},
     "output_type": "execute_result"
    },
    {
     "data": {
      "image/png": "[encoded data removed]",
      "text/plain": [
       "<Figure size 252x252 with 1 Axes>"
      ]
     },
     "metadata": {},
     "output_type": "display_data"
    }
   ],
   "source": [
    "sns.catplot(data = df_ml, x = 'ARPU_SEGMENT', kind = 'box', height = 3.5)"
   ]
  },
  {
   "cell_type": "code",
   "execution_count": null,
   "id": "c63990ed",
   "metadata": {},
   "outputs": [],
   "source": []
  },
  {
   "cell_type": "code",
   "execution_count": 62,
   "id": "25b2b791",
   "metadata": {},
   "outputs": [
    {
     "data": {
      "text/plain": [
       "(array([132415.,  55403.,  30266.,  17293.,   9974.,   5834.,   3565.,\n",
       "          2075.,   1045.,    445.]),\n",
       " array([ 1., 10., 19., 28., 37., 46., 55., 64., 73., 82., 91.]),\n",
       " <BarContainer object of 10 artists>)"
      ]
     },
     "execution_count": 62,
     "metadata": {},
     "output_type": "execute_result"
    },
    {
     "data": {
      "image/png": "[encoded data removed]",
      "text/plain": [
       "<Figure size 432x288 with 1 Axes>"
      ]
     },
     "metadata": {},
     "output_type": "display_data"
    }
   ],
   "source": [
    "plt.hist(x = df_ml['FREQUENCE'])"
   ]
  },
  {
   "cell_type": "code",
   "execution_count": 63,
   "id": "fb4e66c6",
   "metadata": {},
   "outputs": [
    {
     "data": {
      "text/plain": [
       "<seaborn.axisgrid.FacetGrid at 0x2601daf08e0>"
      ]
     },
     "execution_count": 63,
     "metadata": {},
     "output_type": "execute_result"
    },
    {
     "data": {
      "image/png": "[encoded data removed]",
      "text/plain": [
       "<Figure size 900x360 with 1 Axes>"
      ]
     },
     "metadata": {},
     "output_type": "display_data"
    }
   ],
   "source": [
    "sns.catplot(data = df_ml, x = 'FREQUENCE', kind = 'box', height = 5, aspect = 2.5)"
   ]
  },
  {
   "cell_type": "code",
   "execution_count": 64,
   "id": "8564a669",
   "metadata": {},
   "outputs": [
    {
     "name": "stderr",
     "output_type": "stream",
     "text": [
      "C:\\Users\\BEST\\AppData\\Local\\Temp/ipykernel_5440/3881676762.py:1: SettingWithCopyWarning: \n",
      "A value is trying to be set on a copy of a slice from a DataFrame.\n",
      "Try using .loc[row_indexer,col_indexer] = value instead\n",
      "\n",
      "See the caveats in the documentation: https://pandas.pydata.org/pandas-docs/stable/user_guide/indexing.html#returning-a-view-versus-a-copy\n",
      "  df_ml['FREQUENCE'] = df_ml['FREQUENCE'] / df_ml['FREQUENCE'].max()\n"
     ]
    }
   ],
   "source": [
    "df_ml['FREQUENCE'] = df_ml['FREQUENCE'] / df_ml['FREQUENCE'].max()"
   ]
  },
  {
   "cell_type": "code",
   "execution_count": 65,
   "id": "47525349",
   "metadata": {},
   "outputs": [
    {
     "name": "stderr",
     "output_type": "stream",
     "text": [
      "C:\\Users\\BEST\\AppData\\Local\\Temp/ipykernel_5440/632274045.py:1: SettingWithCopyWarning: \n",
      "A value is trying to be set on a copy of a slice from a DataFrame.\n",
      "Try using .loc[row_indexer,col_indexer] = value instead\n",
      "\n",
      "See the caveats in the documentation: https://pandas.pydata.org/pandas-docs/stable/user_guide/indexing.html#returning-a-view-versus-a-copy\n",
      "  df_ml['FREQUENCE'] = df_ml['FREQUENCE'].fillna(df_ml['FREQUENCE'].mean())\n"
     ]
    }
   ],
   "source": [
    "df_ml['FREQUENCE'] = df_ml['FREQUENCE'].fillna(df_ml['FREQUENCE'].mean())"
   ]
  },
  {
   "cell_type": "code",
   "execution_count": 66,
   "id": "85625acd",
   "metadata": {
    "scrolled": true
   },
   "outputs": [
    {
     "data": {
      "text/plain": [
       "<seaborn.axisgrid.FacetGrid at 0x2601de75700>"
      ]
     },
     "execution_count": 66,
     "metadata": {},
     "output_type": "execute_result"
    },
    {
     "data": {
      "image/png": "[encoded data removed]",
      "text/plain": [
       "<Figure size 252x252 with 1 Axes>"
      ]
     },
     "metadata": {},
     "output_type": "display_data"
    }
   ],
   "source": [
    "sns.catplot(data = df_ml, x = 'FREQUENCE', kind = 'box', height = 3.5)"
   ]
  },
  {
   "cell_type": "code",
   "execution_count": 67,
   "id": "6cf57c40",
   "metadata": {},
   "outputs": [
    {
     "data": {
      "text/plain": [
       "(array([1.75152e+05, 1.66000e+02, 3.00000e+01, 1.90000e+01, 1.20000e+01,\n",
       "        1.30000e+01, 5.00000e+00, 5.00000e+00, 2.00000e+00, 2.00000e+00]),\n",
       " array([     0. ,  93457.6, 186915.2, 280372.8, 373830.4, 467288. ,\n",
       "        560745.6, 654203.2, 747660.8, 841118.4, 934576. ]),\n",
       " <BarContainer object of 10 artists>)"
      ]
     },
     "execution_count": 67,
     "metadata": {},
     "output_type": "execute_result"
    },
    {
     "data": {
      "image/png": "[encoded data removed]",
      "text/plain": [
       "<Figure size 432x288 with 1 Axes>"
      ]
     },
     "metadata": {},
     "output_type": "display_data"
    }
   ],
   "source": [
    "plt.hist(x =df_ml['DATA_VOLUME'])"
   ]
  },
  {
   "cell_type": "code",
   "execution_count": 68,
   "id": "974d7943",
   "metadata": {},
   "outputs": [
    {
     "data": {
      "text/plain": [
       "<seaborn.axisgrid.FacetGrid at 0x260484c6fd0>"
      ]
     },
     "execution_count": 68,
     "metadata": {},
     "output_type": "execute_result"
    },
    {
     "data": {
      "image/png": "[encoded data removed]",
      "text/plain": [
       "<Figure size 900x360 with 1 Axes>"
      ]
     },
     "metadata": {},
     "output_type": "display_data"
    }
   ],
   "source": [
    "sns.catplot(data = df_ml, x = 'DATA_VOLUME', kind = 'box', height = 5, aspect = 2.5)"
   ]
  },
  {
   "cell_type": "code",
   "execution_count": 69,
   "id": "4212d627",
   "metadata": {},
   "outputs": [
    {
     "name": "stderr",
     "output_type": "stream",
     "text": [
      "C:\\Users\\BEST\\AppData\\Local\\Temp/ipykernel_5440/861836724.py:1: SettingWithCopyWarning: \n",
      "A value is trying to be set on a copy of a slice from a DataFrame.\n",
      "Try using .loc[row_indexer,col_indexer] = value instead\n",
      "\n",
      "See the caveats in the documentation: https://pandas.pydata.org/pandas-docs/stable/user_guide/indexing.html#returning-a-view-versus-a-copy\n",
      "  df_ml['DATA_VOLUME'] = (df_ml['DATA_VOLUME'].min()) / (df_ml['DATA_VOLUME'].max() - df_ml['DATA_VOLUME'].min())\n"
     ]
    }
   ],
   "source": [
    "df_ml['DATA_VOLUME'] = (df_ml['DATA_VOLUME'].min()) / (df_ml['DATA_VOLUME'].max() - df_ml['DATA_VOLUME'].min())"
   ]
  },
  {
   "cell_type": "code",
   "execution_count": 70,
   "id": "c7dff557",
   "metadata": {},
   "outputs": [
    {
     "data": {
      "text/plain": [
       "<seaborn.axisgrid.FacetGrid at 0x2601dffcaf0>"
      ]
     },
     "execution_count": 70,
     "metadata": {},
     "output_type": "execute_result"
    },
    {
     "data": {
      "image/png": "[encoded data removed]",
      "text/plain": [
       "<Figure size 252x252 with 1 Axes>"
      ]
     },
     "metadata": {},
     "output_type": "display_data"
    }
   ],
   "source": [
    "sns.catplot(data = df_ml, x = 'DATA_VOLUME', kind = 'box', height = 3.5)"
   ]
  },
  {
   "cell_type": "code",
   "execution_count": 71,
   "id": "107904a5",
   "metadata": {},
   "outputs": [
    {
     "data": {
      "text/plain": [
       "(array([2.30102e+05, 1.96000e+03, 2.85000e+02, 4.50000e+01, 1.60000e+01,\n",
       "        8.00000e+00, 1.00000e+00, 1.00000e+00, 0.00000e+00, 1.00000e+00]),\n",
       " array([    0. ,  4501.1,  9002.2, 13503.3, 18004.4, 22505.5, 27006.6,\n",
       "        31507.7, 36008.8, 40509.9, 45011. ]),\n",
       " <BarContainer object of 10 artists>)"
      ]
     },
     "execution_count": 71,
     "metadata": {},
     "output_type": "execute_result"
    },
    {
     "data": {
      "image/png": "[encoded data removed]",
      "text/plain": [
       "<Figure size 432x288 with 1 Axes>"
      ]
     },
     "metadata": {},
     "output_type": "display_data"
    }
   ],
   "source": [
    "plt.hist(x = df_ml['ON_NET'])"
   ]
  },
  {
   "cell_type": "code",
   "execution_count": 72,
   "id": "2491cf48",
   "metadata": {},
   "outputs": [
    {
     "data": {
      "text/plain": [
       "<seaborn.axisgrid.FacetGrid at 0x2601e1d5220>"
      ]
     },
     "execution_count": 72,
     "metadata": {},
     "output_type": "execute_result"
    },
    {
     "data": {
      "image/png": "[encoded data removed]",
      "text/plain": [
       "<Figure size 900x360 with 1 Axes>"
      ]
     },
     "metadata": {},
     "output_type": "display_data"
    }
   ],
   "source": [
    "sns.catplot(data = df_ml, x = 'ON_NET', kind = 'box', height = 5, aspect = 2.5)"
   ]
  },
  {
   "cell_type": "code",
   "execution_count": 73,
   "id": "bcb1c17c",
   "metadata": {},
   "outputs": [
    {
     "name": "stderr",
     "output_type": "stream",
     "text": [
      "C:\\Users\\BEST\\AppData\\Local\\Temp/ipykernel_5440/2742473521.py:1: SettingWithCopyWarning: \n",
      "A value is trying to be set on a copy of a slice from a DataFrame.\n",
      "Try using .loc[row_indexer,col_indexer] = value instead\n",
      "\n",
      "See the caveats in the documentation: https://pandas.pydata.org/pandas-docs/stable/user_guide/indexing.html#returning-a-view-versus-a-copy\n",
      "  df_ml['ON_NET'] = (df_ml['ON_NET'].min()) / (df_ml['ON_NET'].max() - df_ml['ON_NET'].min())\n"
     ]
    }
   ],
   "source": [
    "df_ml['ON_NET'] = (df_ml['ON_NET'].min()) / (df_ml['ON_NET'].max() - df_ml['ON_NET'].min())"
   ]
  },
  {
   "cell_type": "code",
   "execution_count": 74,
   "id": "8bde177e",
   "metadata": {
    "scrolled": true
   },
   "outputs": [
    {
     "data": {
      "text/plain": [
       "<seaborn.axisgrid.FacetGrid at 0x2601e371280>"
      ]
     },
     "execution_count": 74,
     "metadata": {},
     "output_type": "execute_result"
    },
    {
     "data": {
      "image/png": "[encoded data removed]",
      "text/plain": [
       "<Figure size 252x252 with 1 Axes>"
      ]
     },
     "metadata": {},
     "output_type": "display_data"
    }
   ],
   "source": [
    "sns.catplot(data = df_ml, x = 'ON_NET', kind = 'box', height = 3.5)"
   ]
  },
  {
   "cell_type": "code",
   "execution_count": 75,
   "id": "98a42870",
   "metadata": {},
   "outputs": [
    {
     "data": {
      "text/plain": [
       "(array([2.25618e+05, 3.34700e+03, 6.39000e+02, 2.42000e+02, 6.70000e+01,\n",
       "        3.90000e+01, 1.90000e+01, 5.00000e+00, 2.00000e+00, 2.00000e+00]),\n",
       " array([   0. ,  678.8, 1357.6, 2036.4, 2715.2, 3394. , 4072.8, 4751.6,\n",
       "        5430.4, 6109.2, 6788. ]),\n",
       " <BarContainer object of 10 artists>)"
      ]
     },
     "execution_count": 75,
     "metadata": {},
     "output_type": "execute_result"
    },
    {
     "data": {
      "image/png": "[encoded data removed]",
      "text/plain": [
       "<Figure size 432x288 with 1 Axes>"
      ]
     },
     "metadata": {},
     "output_type": "display_data"
    }
   ],
   "source": [
    "plt.hist(x = df_ml['ORANGE'])"
   ]
  },
  {
   "cell_type": "code",
   "execution_count": 76,
   "id": "fcda630f",
   "metadata": {},
   "outputs": [
    {
     "data": {
      "text/plain": [
       "<seaborn.axisgrid.FacetGrid at 0x2601e1dcd90>"
      ]
     },
     "execution_count": 76,
     "metadata": {},
     "output_type": "execute_result"
    },
    {
     "data": {
      "image/png": "[encoded data removed]",
      "text/plain": [
       "<Figure size 900x360 with 1 Axes>"
      ]
     },
     "metadata": {},
     "output_type": "display_data"
    }
   ],
   "source": [
    "sns.catplot(data = df_ml, x = 'ORANGE', kind = 'box', height = 5, aspect = 2.5)"
   ]
  },
  {
   "cell_type": "code",
   "execution_count": 77,
   "id": "1ae88bab",
   "metadata": {},
   "outputs": [
    {
     "name": "stderr",
     "output_type": "stream",
     "text": [
      "C:\\Users\\BEST\\AppData\\Local\\Temp/ipykernel_5440/2307315963.py:1: SettingWithCopyWarning: \n",
      "A value is trying to be set on a copy of a slice from a DataFrame.\n",
      "Try using .loc[row_indexer,col_indexer] = value instead\n",
      "\n",
      "See the caveats in the documentation: https://pandas.pydata.org/pandas-docs/stable/user_guide/indexing.html#returning-a-view-versus-a-copy\n",
      "  df_ml['ORANGE'] = (df_ml['ORANGE'].min()) / (df_ml['ORANGE'].max() - df_ml['ORANGE'].min())\n"
     ]
    }
   ],
   "source": [
    "df_ml['ORANGE'] = (df_ml['ORANGE'].min()) / (df_ml['ORANGE'].max() - df_ml['ORANGE'].min())"
   ]
  },
  {
   "cell_type": "code",
   "execution_count": 78,
   "id": "76550dff",
   "metadata": {},
   "outputs": [
    {
     "data": {
      "text/plain": [
       "<seaborn.axisgrid.FacetGrid at 0x2601e367910>"
      ]
     },
     "execution_count": 78,
     "metadata": {},
     "output_type": "execute_result"
    },
    {
     "data": {
      "image/png": "[encoded data removed]",
      "text/plain": [
       "<Figure size 252x252 with 1 Axes>"
      ]
     },
     "metadata": {},
     "output_type": "display_data"
    }
   ],
   "source": [
    "sns.catplot(data = df_ml, x = 'ORANGE', kind = 'box', height = 3.5)"
   ]
  },
  {
   "cell_type": "code",
   "execution_count": 79,
   "id": "10d30014",
   "metadata": {},
   "outputs": [
    {
     "data": {
      "text/plain": [
       "(array([1.57803e+05, 1.08200e+03, 2.06000e+02, 7.40000e+01, 3.20000e+01,\n",
       "        1.80000e+01, 1.50000e+01, 3.00000e+00, 1.00000e+00, 2.00000e+00]),\n",
       " array([   0. ,  275.8,  551.6,  827.4, 1103.2, 1379. , 1654.8, 1930.6,\n",
       "        2206.4, 2482.2, 2758. ]),\n",
       " <BarContainer object of 10 artists>)"
      ]
     },
     "execution_count": 79,
     "metadata": {},
     "output_type": "execute_result"
    },
    {
     "data": {
      "image/png": "[encoded data removed]",
      "text/plain": [
       "<Figure size 432x288 with 1 Axes>"
      ]
     },
     "metadata": {},
     "output_type": "display_data"
    }
   ],
   "source": [
    "plt.hist(x = df_ml['TIGO'])"
   ]
  },
  {
   "cell_type": "code",
   "execution_count": 80,
   "id": "cb26ef17",
   "metadata": {},
   "outputs": [
    {
     "data": {
      "text/plain": [
       "<seaborn.axisgrid.FacetGrid at 0x26048ccd760>"
      ]
     },
     "execution_count": 80,
     "metadata": {},
     "output_type": "execute_result"
    },
    {
     "data": {
      "image/png": "[encoded data removed]",
      "text/plain": [
       "<Figure size 900x360 with 1 Axes>"
      ]
     },
     "metadata": {},
     "output_type": "display_data"
    }
   ],
   "source": [
    "sns.catplot(data = df_ml, x = 'TIGO', kind = 'box', height = 5, aspect = 2.5)"
   ]
  },
  {
   "cell_type": "code",
   "execution_count": 81,
   "id": "e7314012",
   "metadata": {},
   "outputs": [
    {
     "name": "stderr",
     "output_type": "stream",
     "text": [
      "C:\\Users\\BEST\\AppData\\Local\\Temp/ipykernel_5440/3749541910.py:1: SettingWithCopyWarning: \n",
      "A value is trying to be set on a copy of a slice from a DataFrame.\n",
      "Try using .loc[row_indexer,col_indexer] = value instead\n",
      "\n",
      "See the caveats in the documentation: https://pandas.pydata.org/pandas-docs/stable/user_guide/indexing.html#returning-a-view-versus-a-copy\n",
      "  df_ml['TIGO'] = (df_ml['TIGO'].min()) / (df_ml['TIGO'].max() - df_ml['TIGO'].min())\n"
     ]
    }
   ],
   "source": [
    "df_ml['TIGO'] = (df_ml['TIGO'].min()) / (df_ml['TIGO'].max() - df_ml['TIGO'].min())"
   ]
  },
  {
   "cell_type": "code",
   "execution_count": 82,
   "id": "9f63d4d4",
   "metadata": {},
   "outputs": [
    {
     "data": {
      "text/plain": [
       "<seaborn.axisgrid.FacetGrid at 0x2601de1b940>"
      ]
     },
     "execution_count": 82,
     "metadata": {},
     "output_type": "execute_result"
    },
    {
     "data": {
      "image/png": "[encoded data removed]",
      "text/plain": [
       "<Figure size 252x252 with 1 Axes>"
      ]
     },
     "metadata": {},
     "output_type": "display_data"
    }
   ],
   "source": [
    "sns.catplot(data = df_ml, x = 'TIGO', kind = 'box', height = 3.5)"
   ]
  },
  {
   "cell_type": "code",
   "execution_count": 83,
   "id": "ff744f2f",
   "metadata": {},
   "outputs": [
    {
     "data": {
      "text/plain": [
       "(array([2.30911e+05, 1.62100e+03, 5.30000e+01, 8.00000e+00, 4.00000e+00,\n",
       "        0.00000e+00, 1.00000e+00, 0.00000e+00, 1.00000e+00, 1.00000e+00]),\n",
       " array([  1. ,  63.8, 126.6, 189.4, 252.2, 315. , 377.8, 440.6, 503.4,\n",
       "        566.2, 629. ]),\n",
       " <BarContainer object of 10 artists>)"
      ]
     },
     "execution_count": 83,
     "metadata": {},
     "output_type": "execute_result"
    },
    {
     "data": {
      "image/png": "[encoded data removed]",
      "text/plain": [
       "<Figure size 432x288 with 1 Axes>"
      ]
     },
     "metadata": {},
     "output_type": "display_data"
    }
   ],
   "source": [
    "plt.hist(x = df_ml['FREQ_TOP_PACK'])"
   ]
  },
  {
   "cell_type": "code",
   "execution_count": 84,
   "id": "6d619500",
   "metadata": {},
   "outputs": [
    {
     "data": {
      "text/plain": [
       "<seaborn.axisgrid.FacetGrid at 0x260490c81f0>"
      ]
     },
     "execution_count": 84,
     "metadata": {},
     "output_type": "execute_result"
    },
    {
     "data": {
      "image/png": "[encoded data removed]",
      "text/plain": [
       "<Figure size 900x360 with 1 Axes>"
      ]
     },
     "metadata": {},
     "output_type": "display_data"
    }
   ],
   "source": [
    "sns.catplot(data = df_ml, x = 'FREQ_TOP_PACK', kind = 'box', height = 5, aspect = 2.5)"
   ]
  },
  {
   "cell_type": "code",
   "execution_count": 85,
   "id": "0eb8122d",
   "metadata": {},
   "outputs": [
    {
     "name": "stderr",
     "output_type": "stream",
     "text": [
      "C:\\Users\\BEST\\AppData\\Local\\Temp/ipykernel_5440/1556909665.py:1: SettingWithCopyWarning: \n",
      "A value is trying to be set on a copy of a slice from a DataFrame.\n",
      "Try using .loc[row_indexer,col_indexer] = value instead\n",
      "\n",
      "See the caveats in the documentation: https://pandas.pydata.org/pandas-docs/stable/user_guide/indexing.html#returning-a-view-versus-a-copy\n",
      "  df_ml['FREQ_TOP_PACK'] = (df_ml['FREQ_TOP_PACK'].min()) / (df_ml['FREQ_TOP_PACK'].max() - df_ml['FREQ_TOP_PACK'].min())\n"
     ]
    }
   ],
   "source": [
    "df_ml['FREQ_TOP_PACK'] = (df_ml['FREQ_TOP_PACK'].min()) / (df_ml['FREQ_TOP_PACK'].max() - df_ml['FREQ_TOP_PACK'].min())"
   ]
  },
  {
   "cell_type": "code",
   "execution_count": 86,
   "id": "bfc80616",
   "metadata": {},
   "outputs": [
    {
     "data": {
      "text/plain": [
       "<seaborn.axisgrid.FacetGrid at 0x260490c81c0>"
      ]
     },
     "execution_count": 86,
     "metadata": {},
     "output_type": "execute_result"
    },
    {
     "data": {
      "image/png": "[encoded data removed]",
      "text/plain": [
       "<Figure size 252x252 with 1 Axes>"
      ]
     },
     "metadata": {},
     "output_type": "display_data"
    }
   ],
   "source": [
    "sns.catplot(data = df_ml, x = 'FREQ_TOP_PACK', kind = 'box', height = 3.5)"
   ]
  },
  {
   "cell_type": "code",
   "execution_count": 87,
   "id": "723d7059",
   "metadata": {},
   "outputs": [
    {
     "name": "stderr",
     "output_type": "stream",
     "text": [
      "C:\\Users\\BEST\\AppData\\Local\\Temp/ipykernel_5440/532437176.py:1: SettingWithCopyWarning: \n",
      "A value is trying to be set on a copy of a slice from a DataFrame\n",
      "\n",
      "See the caveats in the documentation: https://pandas.pydata.org/pandas-docs/stable/user_guide/indexing.html#returning-a-view-versus-a-copy\n",
      "  df_ml.drop(['REGION'], axis = 1, inplace = True)\n"
     ]
    }
   ],
   "source": [
    "df_ml.drop(['REGION'], axis = 1, inplace = True)"
   ]
  },
  {
   "cell_type": "code",
   "execution_count": 88,
   "id": "dfaa96b0",
   "metadata": {},
   "outputs": [
    {
     "name": "stderr",
     "output_type": "stream",
     "text": [
      "C:\\Users\\BEST\\AppData\\Local\\Temp/ipykernel_5440/2943122423.py:1: SettingWithCopyWarning: \n",
      "A value is trying to be set on a copy of a slice from a DataFrame.\n",
      "Try using .loc[row_indexer,col_indexer] = value instead\n",
      "\n",
      "See the caveats in the documentation: https://pandas.pydata.org/pandas-docs/stable/user_guide/indexing.html#returning-a-view-versus-a-copy\n",
      "  df_ml['TOP_PACK'] = df_ml['TOP_PACK'].fillna(method = 'bfill')\n"
     ]
    }
   ],
   "source": [
    "df_ml['TOP_PACK'] = df_ml['TOP_PACK'].fillna(method = 'bfill')"
   ]
  },
  {
   "cell_type": "code",
   "execution_count": 89,
   "id": "cd0d2263",
   "metadata": {},
   "outputs": [
    {
     "data": {
      "text/plain": [
       "TENURE            0\n",
       "MONTANT           0\n",
       "FREQUENCE_RECH    0\n",
       "REVENUE           0\n",
       "ARPU_SEGMENT      0\n",
       "FREQUENCE         0\n",
       "DATA_VOLUME       0\n",
       "ON_NET            0\n",
       "ORANGE            0\n",
       "TIGO              0\n",
       "MRG               0\n",
       "REGULARITY        0\n",
       "TOP_PACK          0\n",
       "FREQ_TOP_PACK     0\n",
       "CHURN             0\n",
       "dtype: int64"
      ]
     },
     "execution_count": 89,
     "metadata": {},
     "output_type": "execute_result"
    }
   ],
   "source": [
    "df_ml.isnull().sum()"
   ]
  },
  {
   "cell_type": "code",
   "execution_count": 90,
   "id": "635b451f",
   "metadata": {},
   "outputs": [
    {
     "name": "stderr",
     "output_type": "stream",
     "text": [
      "C:\\Users\\BEST\\AppData\\Local\\Temp/ipykernel_5440/1034607616.py:1: SettingWithCopyWarning: \n",
      "A value is trying to be set on a copy of a slice from a DataFrame.\n",
      "Try using .loc[row_indexer,col_indexer] = value instead\n",
      "\n",
      "See the caveats in the documentation: https://pandas.pydata.org/pandas-docs/stable/user_guide/indexing.html#returning-a-view-versus-a-copy\n",
      "  df_ml['MRG'] = le.fit_transform(df_ml['MRG'])\n"
     ]
    }
   ],
   "source": [
    "df_ml['MRG'] = le.fit_transform(df_ml['MRG'])"
   ]
  },
  {
   "cell_type": "code",
   "execution_count": 91,
   "id": "3c27fbff",
   "metadata": {},
   "outputs": [],
   "source": [
    "tenure = pd.get_dummies(df_ml['TENURE'], drop_first = False)"
   ]
  },
  {
   "cell_type": "code",
   "execution_count": 92,
   "id": "5ec32c5e",
   "metadata": {},
   "outputs": [],
   "source": [
    "top = pd.get_dummies(df_ml['TOP_PACK'], drop_first = False)"
   ]
  },
  {
   "cell_type": "code",
   "execution_count": 93,
   "id": "9b456b5c",
   "metadata": {},
   "outputs": [
    {
     "name": "stderr",
     "output_type": "stream",
     "text": [
      "C:\\Users\\BEST\\AppData\\Local\\Temp/ipykernel_5440/48628198.py:1: SettingWithCopyWarning: \n",
      "A value is trying to be set on a copy of a slice from a DataFrame\n",
      "\n",
      "See the caveats in the documentation: https://pandas.pydata.org/pandas-docs/stable/user_guide/indexing.html#returning-a-view-versus-a-copy\n",
      "  df_ml.drop(['TENURE'], axis = 1, inplace = True)\n"
     ]
    }
   ],
   "source": [
    "df_ml.drop(['TENURE'], axis = 1, inplace = True)"
   ]
  },
  {
   "cell_type": "code",
   "execution_count": 94,
   "id": "a9e041e8",
   "metadata": {},
   "outputs": [
    {
     "name": "stderr",
     "output_type": "stream",
     "text": [
      "C:\\Users\\BEST\\AppData\\Local\\Temp/ipykernel_5440/1919163936.py:1: SettingWithCopyWarning: \n",
      "A value is trying to be set on a copy of a slice from a DataFrame\n",
      "\n",
      "See the caveats in the documentation: https://pandas.pydata.org/pandas-docs/stable/user_guide/indexing.html#returning-a-view-versus-a-copy\n",
      "  df_ml.drop(['TOP_PACK'], axis = 1, inplace = True)\n"
     ]
    }
   ],
   "source": [
    "df_ml.drop(['TOP_PACK'], axis = 1, inplace = True)"
   ]
  },
  {
   "cell_type": "code",
   "execution_count": 95,
   "id": "9c64f66b",
   "metadata": {},
   "outputs": [
    {
     "data": {
      "text/html": [
       "<div>\n",
       "<style scoped>\n",
       "    .dataframe tbody tr th:only-of-type {\n",
       "        vertical-align: middle;\n",
       "    }\n",
       "\n",
       "    .dataframe tbody tr th {\n",
       "        vertical-align: top;\n",
       "    }\n",
       "\n",
       "    .dataframe thead th {\n",
       "        text-align: right;\n",
       "    }\n",
       "</style>\n",
       "<table border=\"1\" class=\"dataframe\">\n",
       "  <thead>\n",
       "    <tr style=\"text-align: right;\">\n",
       "      <th></th>\n",
       "      <th>MONTANT</th>\n",
       "      <th>FREQUENCE_RECH</th>\n",
       "      <th>REVENUE</th>\n",
       "      <th>ARPU_SEGMENT</th>\n",
       "      <th>FREQUENCE</th>\n",
       "      <th>DATA_VOLUME</th>\n",
       "      <th>ON_NET</th>\n",
       "      <th>ORANGE</th>\n",
       "      <th>TIGO</th>\n",
       "      <th>MRG</th>\n",
       "      <th>...</th>\n",
       "      <th>VAS(IVR_Radio_Monthly)</th>\n",
       "      <th>VAS(IVR_Radio_Weekly)</th>\n",
       "      <th>WIFI_ Family _10MBPS</th>\n",
       "      <th>WIFI_ Family _4MBPS</th>\n",
       "      <th>WIFI_Family_2MBPS</th>\n",
       "      <th>YMGX 100=1 hour FNF, 24H/1 month</th>\n",
       "      <th>Yewouleen_PKG</th>\n",
       "      <th>pack_chinguitel_24h</th>\n",
       "      <th>pilot_offer5</th>\n",
       "      <th>pilot_offer6</th>\n",
       "    </tr>\n",
       "    <tr>\n",
       "      <th>user_id</th>\n",
       "      <th></th>\n",
       "      <th></th>\n",
       "      <th></th>\n",
       "      <th></th>\n",
       "      <th></th>\n",
       "      <th></th>\n",
       "      <th></th>\n",
       "      <th></th>\n",
       "      <th></th>\n",
       "      <th></th>\n",
       "      <th></th>\n",
       "      <th></th>\n",
       "      <th></th>\n",
       "      <th></th>\n",
       "      <th></th>\n",
       "      <th></th>\n",
       "      <th></th>\n",
       "      <th></th>\n",
       "      <th></th>\n",
       "      <th></th>\n",
       "      <th></th>\n",
       "    </tr>\n",
       "  </thead>\n",
       "  <tbody>\n",
       "    <tr>\n",
       "      <th>dcf68cc2fb515ccad7d8b9b3bd80ee2a4b270063</th>\n",
       "      <td>0.000088</td>\n",
       "      <td>0.240602</td>\n",
       "      <td>0.000004</td>\n",
       "      <td>0.0</td>\n",
       "      <td>0.373626</td>\n",
       "      <td>0.0</td>\n",
       "      <td>0.0</td>\n",
       "      <td>0.0</td>\n",
       "      <td>0.0</td>\n",
       "      <td>0</td>\n",
       "      <td>...</td>\n",
       "      <td>0</td>\n",
       "      <td>0</td>\n",
       "      <td>0</td>\n",
       "      <td>0</td>\n",
       "      <td>0</td>\n",
       "      <td>0</td>\n",
       "      <td>0</td>\n",
       "      <td>0</td>\n",
       "      <td>0</td>\n",
       "      <td>0</td>\n",
       "    </tr>\n",
       "    <tr>\n",
       "      <th>71c44b5ba328db5c4192a80f7cf8f244d9350ed0</th>\n",
       "      <td>0.000088</td>\n",
       "      <td>0.218045</td>\n",
       "      <td>0.000004</td>\n",
       "      <td>0.0</td>\n",
       "      <td>0.406593</td>\n",
       "      <td>0.0</td>\n",
       "      <td>0.0</td>\n",
       "      <td>0.0</td>\n",
       "      <td>0.0</td>\n",
       "      <td>0</td>\n",
       "      <td>...</td>\n",
       "      <td>0</td>\n",
       "      <td>0</td>\n",
       "      <td>0</td>\n",
       "      <td>0</td>\n",
       "      <td>0</td>\n",
       "      <td>0</td>\n",
       "      <td>0</td>\n",
       "      <td>0</td>\n",
       "      <td>0</td>\n",
       "      <td>0</td>\n",
       "    </tr>\n",
       "    <tr>\n",
       "      <th>ce46411b1526c94f20a383b8cb188f8d27f82a0a</th>\n",
       "      <td>0.000088</td>\n",
       "      <td>0.022556</td>\n",
       "      <td>0.000004</td>\n",
       "      <td>0.0</td>\n",
       "      <td>0.032967</td>\n",
       "      <td>0.0</td>\n",
       "      <td>0.0</td>\n",
       "      <td>0.0</td>\n",
       "      <td>0.0</td>\n",
       "      <td>0</td>\n",
       "      <td>...</td>\n",
       "      <td>0</td>\n",
       "      <td>0</td>\n",
       "      <td>0</td>\n",
       "      <td>0</td>\n",
       "      <td>0</td>\n",
       "      <td>0</td>\n",
       "      <td>0</td>\n",
       "      <td>0</td>\n",
       "      <td>0</td>\n",
       "      <td>0</td>\n",
       "    </tr>\n",
       "    <tr>\n",
       "      <th>f467cdb6669818373c26c2bad44e01ba66f97d21</th>\n",
       "      <td>0.000088</td>\n",
       "      <td>0.022556</td>\n",
       "      <td>0.000004</td>\n",
       "      <td>0.0</td>\n",
       "      <td>0.043956</td>\n",
       "      <td>0.0</td>\n",
       "      <td>0.0</td>\n",
       "      <td>0.0</td>\n",
       "      <td>0.0</td>\n",
       "      <td>0</td>\n",
       "      <td>...</td>\n",
       "      <td>0</td>\n",
       "      <td>0</td>\n",
       "      <td>0</td>\n",
       "      <td>0</td>\n",
       "      <td>0</td>\n",
       "      <td>0</td>\n",
       "      <td>0</td>\n",
       "      <td>0</td>\n",
       "      <td>0</td>\n",
       "      <td>0</td>\n",
       "    </tr>\n",
       "    <tr>\n",
       "      <th>ec45e1a1888a32b5dcce0954cfec20c6e037db31</th>\n",
       "      <td>0.000088</td>\n",
       "      <td>0.087931</td>\n",
       "      <td>0.000004</td>\n",
       "      <td>0.0</td>\n",
       "      <td>0.032967</td>\n",
       "      <td>0.0</td>\n",
       "      <td>0.0</td>\n",
       "      <td>0.0</td>\n",
       "      <td>0.0</td>\n",
       "      <td>0</td>\n",
       "      <td>...</td>\n",
       "      <td>0</td>\n",
       "      <td>0</td>\n",
       "      <td>0</td>\n",
       "      <td>0</td>\n",
       "      <td>0</td>\n",
       "      <td>0</td>\n",
       "      <td>0</td>\n",
       "      <td>0</td>\n",
       "      <td>0</td>\n",
       "      <td>0</td>\n",
       "    </tr>\n",
       "  </tbody>\n",
       "</table>\n",
       "<p>5 rows × 132 columns</p>\n",
       "</div>"
      ],
      "text/plain": [
       "                                           MONTANT  FREQUENCE_RECH   REVENUE  \\\n",
       "user_id                                                                        \n",
       "dcf68cc2fb515ccad7d8b9b3bd80ee2a4b270063  0.000088        0.240602  0.000004   \n",
       "71c44b5ba328db5c4192a80f7cf8f244d9350ed0  0.000088        0.218045  0.000004   \n",
       "ce46411b1526c94f20a383b8cb188f8d27f82a0a  0.000088        0.022556  0.000004   \n",
       "f467cdb6669818373c26c2bad44e01ba66f97d21  0.000088        0.022556  0.000004   \n",
       "ec45e1a1888a32b5dcce0954cfec20c6e037db31  0.000088        0.087931  0.000004   \n",
       "\n",
       "                                          ARPU_SEGMENT  FREQUENCE  \\\n",
       "user_id                                                             \n",
       "dcf68cc2fb515ccad7d8b9b3bd80ee2a4b270063           0.0   0.373626   \n",
       "71c44b5ba328db5c4192a80f7cf8f244d9350ed0           0.0   0.406593   \n",
       "ce46411b1526c94f20a383b8cb188f8d27f82a0a           0.0   0.032967   \n",
       "f467cdb6669818373c26c2bad44e01ba66f97d21           0.0   0.043956   \n",
       "ec45e1a1888a32b5dcce0954cfec20c6e037db31           0.0   0.032967   \n",
       "\n",
       "                                          DATA_VOLUME  ON_NET  ORANGE  TIGO  \\\n",
       "user_id                                                                       \n",
       "dcf68cc2fb515ccad7d8b9b3bd80ee2a4b270063          0.0     0.0     0.0   0.0   \n",
       "71c44b5ba328db5c4192a80f7cf8f244d9350ed0          0.0     0.0     0.0   0.0   \n",
       "ce46411b1526c94f20a383b8cb188f8d27f82a0a          0.0     0.0     0.0   0.0   \n",
       "f467cdb6669818373c26c2bad44e01ba66f97d21          0.0     0.0     0.0   0.0   \n",
       "ec45e1a1888a32b5dcce0954cfec20c6e037db31          0.0     0.0     0.0   0.0   \n",
       "\n",
       "                                          MRG  ...  VAS(IVR_Radio_Monthly)  \\\n",
       "user_id                                        ...                           \n",
       "dcf68cc2fb515ccad7d8b9b3bd80ee2a4b270063    0  ...                       0   \n",
       "71c44b5ba328db5c4192a80f7cf8f244d9350ed0    0  ...                       0   \n",
       "ce46411b1526c94f20a383b8cb188f8d27f82a0a    0  ...                       0   \n",
       "f467cdb6669818373c26c2bad44e01ba66f97d21    0  ...                       0   \n",
       "ec45e1a1888a32b5dcce0954cfec20c6e037db31    0  ...                       0   \n",
       "\n",
       "                                          VAS(IVR_Radio_Weekly)  \\\n",
       "user_id                                                           \n",
       "dcf68cc2fb515ccad7d8b9b3bd80ee2a4b270063                      0   \n",
       "71c44b5ba328db5c4192a80f7cf8f244d9350ed0                      0   \n",
       "ce46411b1526c94f20a383b8cb188f8d27f82a0a                      0   \n",
       "f467cdb6669818373c26c2bad44e01ba66f97d21                      0   \n",
       "ec45e1a1888a32b5dcce0954cfec20c6e037db31                      0   \n",
       "\n",
       "                                          WIFI_ Family _10MBPS  \\\n",
       "user_id                                                          \n",
       "dcf68cc2fb515ccad7d8b9b3bd80ee2a4b270063                     0   \n",
       "71c44b5ba328db5c4192a80f7cf8f244d9350ed0                     0   \n",
       "ce46411b1526c94f20a383b8cb188f8d27f82a0a                     0   \n",
       "f467cdb6669818373c26c2bad44e01ba66f97d21                     0   \n",
       "ec45e1a1888a32b5dcce0954cfec20c6e037db31                     0   \n",
       "\n",
       "                                          WIFI_ Family _4MBPS  \\\n",
       "user_id                                                         \n",
       "dcf68cc2fb515ccad7d8b9b3bd80ee2a4b270063                    0   \n",
       "71c44b5ba328db5c4192a80f7cf8f244d9350ed0                    0   \n",
       "ce46411b1526c94f20a383b8cb188f8d27f82a0a                    0   \n",
       "f467cdb6669818373c26c2bad44e01ba66f97d21                    0   \n",
       "ec45e1a1888a32b5dcce0954cfec20c6e037db31                    0   \n",
       "\n",
       "                                          WIFI_Family_2MBPS  \\\n",
       "user_id                                                       \n",
       "dcf68cc2fb515ccad7d8b9b3bd80ee2a4b270063                  0   \n",
       "71c44b5ba328db5c4192a80f7cf8f244d9350ed0                  0   \n",
       "ce46411b1526c94f20a383b8cb188f8d27f82a0a                  0   \n",
       "f467cdb6669818373c26c2bad44e01ba66f97d21                  0   \n",
       "ec45e1a1888a32b5dcce0954cfec20c6e037db31                  0   \n",
       "\n",
       "                                          YMGX 100=1 hour FNF, 24H/1 month  \\\n",
       "user_id                                                                      \n",
       "dcf68cc2fb515ccad7d8b9b3bd80ee2a4b270063                                 0   \n",
       "71c44b5ba328db5c4192a80f7cf8f244d9350ed0                                 0   \n",
       "ce46411b1526c94f20a383b8cb188f8d27f82a0a                                 0   \n",
       "f467cdb6669818373c26c2bad44e01ba66f97d21                                 0   \n",
       "ec45e1a1888a32b5dcce0954cfec20c6e037db31                                 0   \n",
       "\n",
       "                                          Yewouleen_PKG  pack_chinguitel_24h  \\\n",
       "user_id                                                                        \n",
       "dcf68cc2fb515ccad7d8b9b3bd80ee2a4b270063              0                    0   \n",
       "71c44b5ba328db5c4192a80f7cf8f244d9350ed0              0                    0   \n",
       "ce46411b1526c94f20a383b8cb188f8d27f82a0a              0                    0   \n",
       "f467cdb6669818373c26c2bad44e01ba66f97d21              0                    0   \n",
       "ec45e1a1888a32b5dcce0954cfec20c6e037db31              0                    0   \n",
       "\n",
       "                                          pilot_offer5  pilot_offer6  \n",
       "user_id                                                               \n",
       "dcf68cc2fb515ccad7d8b9b3bd80ee2a4b270063             0             0  \n",
       "71c44b5ba328db5c4192a80f7cf8f244d9350ed0             0             0  \n",
       "ce46411b1526c94f20a383b8cb188f8d27f82a0a             0             0  \n",
       "f467cdb6669818373c26c2bad44e01ba66f97d21             0             0  \n",
       "ec45e1a1888a32b5dcce0954cfec20c6e037db31             0             0  \n",
       "\n",
       "[5 rows x 132 columns]"
      ]
     },
     "execution_count": 95,
     "metadata": {},
     "output_type": "execute_result"
    }
   ],
   "source": [
    "df_ml = pd.concat([df_ml, tenure, top], axis = 1)\n",
    "df_ml.head()"
   ]
  },
  {
   "cell_type": "code",
   "execution_count": 96,
   "id": "dbba525b",
   "metadata": {},
   "outputs": [
    {
     "name": "stdout",
     "output_type": "stream",
     "text": [
      "<class 'pandas.core.frame.DataFrame'>\n",
      "Index: 258518 entries, dcf68cc2fb515ccad7d8b9b3bd80ee2a4b270063 to 767f596aee426962f7d92f4de8d7b232cdc17568\n",
      "Columns: 132 entries, MONTANT to pilot_offer6\n",
      "dtypes: float64(10), int32(1), int64(2), uint8(119)\n",
      "memory usage: 56.0+ MB\n"
     ]
    }
   ],
   "source": [
    "df_ml.info()"
   ]
  },
  {
   "cell_type": "code",
   "execution_count": 97,
   "id": "cfa9f20e",
   "metadata": {},
   "outputs": [
    {
     "data": {
      "text/plain": [
       "(258518, 132)"
      ]
     },
     "execution_count": 97,
     "metadata": {},
     "output_type": "execute_result"
    }
   ],
   "source": [
    "df_ml.shape"
   ]
  },
  {
   "cell_type": "markdown",
   "id": "cdef3011",
   "metadata": {},
   "source": [
    "# Correlation Table"
   ]
  },
  {
   "cell_type": "code",
   "execution_count": 98,
   "id": "101fe3c7",
   "metadata": {},
   "outputs": [
    {
     "data": {
      "text/html": [
       "<div>\n",
       "<style scoped>\n",
       "    .dataframe tbody tr th:only-of-type {\n",
       "        vertical-align: middle;\n",
       "    }\n",
       "\n",
       "    .dataframe tbody tr th {\n",
       "        vertical-align: top;\n",
       "    }\n",
       "\n",
       "    .dataframe thead th {\n",
       "        text-align: right;\n",
       "    }\n",
       "</style>\n",
       "<table border=\"1\" class=\"dataframe\">\n",
       "  <thead>\n",
       "    <tr style=\"text-align: right;\">\n",
       "      <th></th>\n",
       "      <th>MONTANT</th>\n",
       "      <th>FREQUENCE_RECH</th>\n",
       "      <th>REVENUE</th>\n",
       "      <th>ARPU_SEGMENT</th>\n",
       "      <th>FREQUENCE</th>\n",
       "      <th>DATA_VOLUME</th>\n",
       "      <th>ON_NET</th>\n",
       "      <th>ORANGE</th>\n",
       "      <th>TIGO</th>\n",
       "      <th>ZONE1</th>\n",
       "      <th>ZONE2</th>\n",
       "      <th>REGULARITY</th>\n",
       "      <th>FREQ_TOP_PACK</th>\n",
       "      <th>CHURN</th>\n",
       "    </tr>\n",
       "  </thead>\n",
       "  <tbody>\n",
       "    <tr>\n",
       "      <th>MONTANT</th>\n",
       "      <td>1.000000</td>\n",
       "      <td>0.800385</td>\n",
       "      <td>0.979041</td>\n",
       "      <td>0.979041</td>\n",
       "      <td>0.781164</td>\n",
       "      <td>0.308343</td>\n",
       "      <td>0.327857</td>\n",
       "      <td>0.667531</td>\n",
       "      <td>0.427289</td>\n",
       "      <td>0.350551</td>\n",
       "      <td>0.407973</td>\n",
       "      <td>0.524157</td>\n",
       "      <td>0.742406</td>\n",
       "      <td>-0.106229</td>\n",
       "    </tr>\n",
       "    <tr>\n",
       "      <th>FREQUENCE_RECH</th>\n",
       "      <td>0.800385</td>\n",
       "      <td>1.000000</td>\n",
       "      <td>0.807405</td>\n",
       "      <td>0.807405</td>\n",
       "      <td>0.956262</td>\n",
       "      <td>0.165226</td>\n",
       "      <td>0.402383</td>\n",
       "      <td>0.522649</td>\n",
       "      <td>0.348092</td>\n",
       "      <td>0.126573</td>\n",
       "      <td>0.160979</td>\n",
       "      <td>0.557178</td>\n",
       "      <td>0.866833</td>\n",
       "      <td>-0.123113</td>\n",
       "    </tr>\n",
       "    <tr>\n",
       "      <th>REVENUE</th>\n",
       "      <td>0.979041</td>\n",
       "      <td>0.807405</td>\n",
       "      <td>1.000000</td>\n",
       "      <td>1.000000</td>\n",
       "      <td>0.791627</td>\n",
       "      <td>0.312915</td>\n",
       "      <td>0.331850</td>\n",
       "      <td>0.670220</td>\n",
       "      <td>0.425376</td>\n",
       "      <td>0.355228</td>\n",
       "      <td>0.377622</td>\n",
       "      <td>0.534122</td>\n",
       "      <td>0.751785</td>\n",
       "      <td>-0.114822</td>\n",
       "    </tr>\n",
       "    <tr>\n",
       "      <th>ARPU_SEGMENT</th>\n",
       "      <td>0.979041</td>\n",
       "      <td>0.807405</td>\n",
       "      <td>1.000000</td>\n",
       "      <td>1.000000</td>\n",
       "      <td>0.791627</td>\n",
       "      <td>0.312915</td>\n",
       "      <td>0.331850</td>\n",
       "      <td>0.670220</td>\n",
       "      <td>0.425377</td>\n",
       "      <td>0.355228</td>\n",
       "      <td>0.377623</td>\n",
       "      <td>0.534120</td>\n",
       "      <td>0.751785</td>\n",
       "      <td>-0.114822</td>\n",
       "    </tr>\n",
       "    <tr>\n",
       "      <th>FREQUENCE</th>\n",
       "      <td>0.781164</td>\n",
       "      <td>0.956262</td>\n",
       "      <td>0.791627</td>\n",
       "      <td>0.791627</td>\n",
       "      <td>1.000000</td>\n",
       "      <td>0.181491</td>\n",
       "      <td>0.392656</td>\n",
       "      <td>0.475057</td>\n",
       "      <td>0.311898</td>\n",
       "      <td>0.113051</td>\n",
       "      <td>0.164952</td>\n",
       "      <td>0.591314</td>\n",
       "      <td>0.843150</td>\n",
       "      <td>-0.139685</td>\n",
       "    </tr>\n",
       "    <tr>\n",
       "      <th>DATA_VOLUME</th>\n",
       "      <td>0.308343</td>\n",
       "      <td>0.165226</td>\n",
       "      <td>0.312915</td>\n",
       "      <td>0.312915</td>\n",
       "      <td>0.181491</td>\n",
       "      <td>1.000000</td>\n",
       "      <td>-0.014683</td>\n",
       "      <td>0.066746</td>\n",
       "      <td>0.029573</td>\n",
       "      <td>0.034982</td>\n",
       "      <td>0.054873</td>\n",
       "      <td>0.198813</td>\n",
       "      <td>0.126535</td>\n",
       "      <td>-0.036015</td>\n",
       "    </tr>\n",
       "    <tr>\n",
       "      <th>ON_NET</th>\n",
       "      <td>0.327857</td>\n",
       "      <td>0.402383</td>\n",
       "      <td>0.331850</td>\n",
       "      <td>0.331850</td>\n",
       "      <td>0.392656</td>\n",
       "      <td>-0.014683</td>\n",
       "      <td>1.000000</td>\n",
       "      <td>0.218051</td>\n",
       "      <td>0.138315</td>\n",
       "      <td>0.010337</td>\n",
       "      <td>-0.018135</td>\n",
       "      <td>0.268487</td>\n",
       "      <td>0.351834</td>\n",
       "      <td>-0.057701</td>\n",
       "    </tr>\n",
       "    <tr>\n",
       "      <th>ORANGE</th>\n",
       "      <td>0.667531</td>\n",
       "      <td>0.522649</td>\n",
       "      <td>0.670220</td>\n",
       "      <td>0.670220</td>\n",
       "      <td>0.475057</td>\n",
       "      <td>0.066746</td>\n",
       "      <td>0.218051</td>\n",
       "      <td>1.000000</td>\n",
       "      <td>0.408712</td>\n",
       "      <td>0.042190</td>\n",
       "      <td>0.016740</td>\n",
       "      <td>0.310284</td>\n",
       "      <td>0.557338</td>\n",
       "      <td>-0.063382</td>\n",
       "    </tr>\n",
       "    <tr>\n",
       "      <th>TIGO</th>\n",
       "      <td>0.427289</td>\n",
       "      <td>0.348092</td>\n",
       "      <td>0.425376</td>\n",
       "      <td>0.425377</td>\n",
       "      <td>0.311898</td>\n",
       "      <td>0.029573</td>\n",
       "      <td>0.138315</td>\n",
       "      <td>0.408712</td>\n",
       "      <td>1.000000</td>\n",
       "      <td>0.006882</td>\n",
       "      <td>0.015626</td>\n",
       "      <td>0.197842</td>\n",
       "      <td>0.375953</td>\n",
       "      <td>-0.035890</td>\n",
       "    </tr>\n",
       "    <tr>\n",
       "      <th>ZONE1</th>\n",
       "      <td>0.350551</td>\n",
       "      <td>0.126573</td>\n",
       "      <td>0.355228</td>\n",
       "      <td>0.355228</td>\n",
       "      <td>0.113051</td>\n",
       "      <td>0.034982</td>\n",
       "      <td>0.010337</td>\n",
       "      <td>0.042190</td>\n",
       "      <td>0.006882</td>\n",
       "      <td>1.000000</td>\n",
       "      <td>0.041978</td>\n",
       "      <td>0.042619</td>\n",
       "      <td>0.187581</td>\n",
       "      <td>0.019937</td>\n",
       "    </tr>\n",
       "    <tr>\n",
       "      <th>ZONE2</th>\n",
       "      <td>0.407973</td>\n",
       "      <td>0.160979</td>\n",
       "      <td>0.377622</td>\n",
       "      <td>0.377623</td>\n",
       "      <td>0.164952</td>\n",
       "      <td>0.054873</td>\n",
       "      <td>-0.018135</td>\n",
       "      <td>0.016740</td>\n",
       "      <td>0.015626</td>\n",
       "      <td>0.041978</td>\n",
       "      <td>1.000000</td>\n",
       "      <td>0.072146</td>\n",
       "      <td>0.053927</td>\n",
       "      <td>0.000273</td>\n",
       "    </tr>\n",
       "    <tr>\n",
       "      <th>REGULARITY</th>\n",
       "      <td>0.524157</td>\n",
       "      <td>0.557178</td>\n",
       "      <td>0.534122</td>\n",
       "      <td>0.534120</td>\n",
       "      <td>0.591314</td>\n",
       "      <td>0.198813</td>\n",
       "      <td>0.268487</td>\n",
       "      <td>0.310284</td>\n",
       "      <td>0.197842</td>\n",
       "      <td>0.042619</td>\n",
       "      <td>0.072146</td>\n",
       "      <td>1.000000</td>\n",
       "      <td>0.445193</td>\n",
       "      <td>-0.479120</td>\n",
       "    </tr>\n",
       "    <tr>\n",
       "      <th>FREQ_TOP_PACK</th>\n",
       "      <td>0.742406</td>\n",
       "      <td>0.866833</td>\n",
       "      <td>0.751785</td>\n",
       "      <td>0.751785</td>\n",
       "      <td>0.843150</td>\n",
       "      <td>0.126535</td>\n",
       "      <td>0.351834</td>\n",
       "      <td>0.557338</td>\n",
       "      <td>0.375953</td>\n",
       "      <td>0.187581</td>\n",
       "      <td>0.053927</td>\n",
       "      <td>0.445193</td>\n",
       "      <td>1.000000</td>\n",
       "      <td>-0.085136</td>\n",
       "    </tr>\n",
       "    <tr>\n",
       "      <th>CHURN</th>\n",
       "      <td>-0.106229</td>\n",
       "      <td>-0.123113</td>\n",
       "      <td>-0.114822</td>\n",
       "      <td>-0.114822</td>\n",
       "      <td>-0.139685</td>\n",
       "      <td>-0.036015</td>\n",
       "      <td>-0.057701</td>\n",
       "      <td>-0.063382</td>\n",
       "      <td>-0.035890</td>\n",
       "      <td>0.019937</td>\n",
       "      <td>0.000273</td>\n",
       "      <td>-0.479120</td>\n",
       "      <td>-0.085136</td>\n",
       "      <td>1.000000</td>\n",
       "    </tr>\n",
       "  </tbody>\n",
       "</table>\n",
       "</div>"
      ],
      "text/plain": [
       "                 MONTANT  FREQUENCE_RECH   REVENUE  ARPU_SEGMENT  FREQUENCE  \\\n",
       "MONTANT         1.000000        0.800385  0.979041      0.979041   0.781164   \n",
       "FREQUENCE_RECH  0.800385        1.000000  0.807405      0.807405   0.956262   \n",
       "REVENUE         0.979041        0.807405  1.000000      1.000000   0.791627   \n",
       "ARPU_SEGMENT    0.979041        0.807405  1.000000      1.000000   0.791627   \n",
       "FREQUENCE       0.781164        0.956262  0.791627      0.791627   1.000000   \n",
       "DATA_VOLUME     0.308343        0.165226  0.312915      0.312915   0.181491   \n",
       "ON_NET          0.327857        0.402383  0.331850      0.331850   0.392656   \n",
       "ORANGE          0.667531        0.522649  0.670220      0.670220   0.475057   \n",
       "TIGO            0.427289        0.348092  0.425376      0.425377   0.311898   \n",
       "ZONE1           0.350551        0.126573  0.355228      0.355228   0.113051   \n",
       "ZONE2           0.407973        0.160979  0.377622      0.377623   0.164952   \n",
       "REGULARITY      0.524157        0.557178  0.534122      0.534120   0.591314   \n",
       "FREQ_TOP_PACK   0.742406        0.866833  0.751785      0.751785   0.843150   \n",
       "CHURN          -0.106229       -0.123113 -0.114822     -0.114822  -0.139685   \n",
       "\n",
       "                DATA_VOLUME    ON_NET    ORANGE      TIGO     ZONE1     ZONE2  \\\n",
       "MONTANT            0.308343  0.327857  0.667531  0.427289  0.350551  0.407973   \n",
       "FREQUENCE_RECH     0.165226  0.402383  0.522649  0.348092  0.126573  0.160979   \n",
       "REVENUE            0.312915  0.331850  0.670220  0.425376  0.355228  0.377622   \n",
       "ARPU_SEGMENT       0.312915  0.331850  0.670220  0.425377  0.355228  0.377623   \n",
       "FREQUENCE          0.181491  0.392656  0.475057  0.311898  0.113051  0.164952   \n",
       "DATA_VOLUME        1.000000 -0.014683  0.066746  0.029573  0.034982  0.054873   \n",
       "ON_NET            -0.014683  1.000000  0.218051  0.138315  0.010337 -0.018135   \n",
       "ORANGE             0.066746  0.218051  1.000000  0.408712  0.042190  0.016740   \n",
       "TIGO               0.029573  0.138315  0.408712  1.000000  0.006882  0.015626   \n",
       "ZONE1              0.034982  0.010337  0.042190  0.006882  1.000000  0.041978   \n",
       "ZONE2              0.054873 -0.018135  0.016740  0.015626  0.041978  1.000000   \n",
       "REGULARITY         0.198813  0.268487  0.310284  0.197842  0.042619  0.072146   \n",
       "FREQ_TOP_PACK      0.126535  0.351834  0.557338  0.375953  0.187581  0.053927   \n",
       "CHURN             -0.036015 -0.057701 -0.063382 -0.035890  0.019937  0.000273   \n",
       "\n",
       "                REGULARITY  FREQ_TOP_PACK     CHURN  \n",
       "MONTANT           0.524157       0.742406 -0.106229  \n",
       "FREQUENCE_RECH    0.557178       0.866833 -0.123113  \n",
       "REVENUE           0.534122       0.751785 -0.114822  \n",
       "ARPU_SEGMENT      0.534120       0.751785 -0.114822  \n",
       "FREQUENCE         0.591314       0.843150 -0.139685  \n",
       "DATA_VOLUME       0.198813       0.126535 -0.036015  \n",
       "ON_NET            0.268487       0.351834 -0.057701  \n",
       "ORANGE            0.310284       0.557338 -0.063382  \n",
       "TIGO              0.197842       0.375953 -0.035890  \n",
       "ZONE1             0.042619       0.187581  0.019937  \n",
       "ZONE2             0.072146       0.053927  0.000273  \n",
       "REGULARITY        1.000000       0.445193 -0.479120  \n",
       "FREQ_TOP_PACK     0.445193       1.000000 -0.085136  \n",
       "CHURN            -0.479120      -0.085136  1.000000  "
      ]
     },
     "execution_count": 98,
     "metadata": {},
     "output_type": "execute_result"
    }
   ],
   "source": [
    "df.corr()"
   ]
  },
  {
   "cell_type": "markdown",
   "id": "c9c61d4f",
   "metadata": {},
   "source": [
    "# Decision Tree"
   ]
  },
  {
   "cell_type": "code",
   "execution_count": 99,
   "id": "ae95bb2f",
   "metadata": {},
   "outputs": [
    {
     "data": {
      "text/plain": [
       "0.9413585022435401"
      ]
     },
     "execution_count": 99,
     "metadata": {},
     "output_type": "execute_result"
    }
   ],
   "source": [
    "from sklearn.tree import DecisionTreeClassifier\n",
    "from sklearn.model_selection import train_test_split\n",
    "from sklearn.metrics import accuracy_score\n",
    "\n",
    "x = df_ml.drop(columns=['CHURN'])\n",
    "y = df_ml['CHURN']\n",
    "x_train, x_test, y_train, y_test = train_test_split(x, y, test_size = 0.3)\n",
    "\n",
    "model = DecisionTreeClassifier()\n",
    "model.fit(x_train, y_train)\n",
    "predictions = model.predict(x_test)\n",
    "\n",
    "score = accuracy_score(y_test, predictions)\n",
    "score"
   ]
  },
  {
   "cell_type": "markdown",
   "id": "192b68bf",
   "metadata": {},
   "source": [
    "# Model Training"
   ]
  },
  {
   "cell_type": "code",
   "execution_count": 100,
   "id": "149b690d",
   "metadata": {},
   "outputs": [],
   "source": [
    "x = df_ml.drop(columns=['CHURN'])\n",
    "y = df_ml['CHURN']\n",
    "\n",
    "from sklearn.model_selection import train_test_split\n",
    "\n",
    "x_train, x_test, y_train, y_test= train_test_split (x,y,test_size=1/3, random_state = 0)"
   ]
  },
  {
   "cell_type": "markdown",
   "id": "7a69e378",
   "metadata": {},
   "source": [
    "# Linear Regression Model"
   ]
  },
  {
   "cell_type": "code",
   "execution_count": 101,
   "id": "8aaeafa8",
   "metadata": {},
   "outputs": [],
   "source": [
    "from sklearn import metrics\n",
    "from sklearn.metrics import roc_curve\n",
    "from sklearn.metrics import auc"
   ]
  },
  {
   "cell_type": "code",
   "execution_count": 102,
   "id": "0bb78fe0",
   "metadata": {},
   "outputs": [],
   "source": [
    "from sklearn.linear_model import LogisticRegression\n",
    "classifier = LogisticRegression(max_iter = 20000)\n",
    "classifier.fit(x_train, y_train)\n",
    "\n",
    "y_pred = classifier.predict(x_test)"
   ]
  },
  {
   "cell_type": "code",
   "execution_count": 103,
   "id": "25fd7fe1",
   "metadata": {},
   "outputs": [
    {
     "name": "stdout",
     "output_type": "stream",
     "text": [
      "Accuracy:  0.9554268738467966\n",
      "Precision:  0.5357142857142857\n",
      "Recall:  0.0039032006245121\n"
     ]
    }
   ],
   "source": [
    "print(\"Accuracy: \", metrics.accuracy_score(y_test, y_pred))\n",
    "print(\"Precision: \", metrics.precision_score(y_test, y_pred))\n",
    "print(\"Recall: \", metrics.recall_score(y_test, y_pred))\n",
    "fpr, tpr, thresholds = roc_curve(y_test, y_pred)\n",
    "roc_auc= (fpr, tpr)"
   ]
  },
  {
   "cell_type": "markdown",
   "id": "e579b02b",
   "metadata": {},
   "source": [
    "# CatBoost "
   ]
  },
  {
   "cell_type": "code",
   "execution_count": 104,
   "id": "e99956bb",
   "metadata": {},
   "outputs": [
    {
     "name": "stdout",
     "output_type": "stream",
     "text": [
      "Learning rate set to 0.5\n",
      "0:\tlearn: 0.2152424\ttotal: 609ms\tremaining: 5.48s\n",
      "1:\tlearn: 0.1590538\ttotal: 728ms\tremaining: 2.91s\n",
      "2:\tlearn: 0.1493763\ttotal: 791ms\tremaining: 1.84s\n",
      "3:\tlearn: 0.1463424\ttotal: 847ms\tremaining: 1.27s\n",
      "4:\tlearn: 0.1441710\ttotal: 900ms\tremaining: 900ms\n",
      "5:\tlearn: 0.1437543\ttotal: 959ms\tremaining: 640ms\n",
      "6:\tlearn: 0.1432465\ttotal: 1.02s\tremaining: 438ms\n",
      "7:\tlearn: 0.1425561\ttotal: 1.09s\tremaining: 272ms\n",
      "8:\tlearn: 0.1422761\ttotal: 1.15s\tremaining: 128ms\n",
      "9:\tlearn: 0.1421415\ttotal: 1.21s\tremaining: 0us\n"
     ]
    }
   ],
   "source": [
    "from catboost import Pool, CatBoostClassifier\n",
    "\n",
    "catboost = CatBoostClassifier(iterations = 10)\n",
    "cat = catboost.fit( x_train, y_train)\n",
    "y_pred = cat.predict(x_test)"
   ]
  },
  {
   "cell_type": "code",
   "execution_count": 105,
   "id": "97d4742d",
   "metadata": {},
   "outputs": [
    {
     "name": "stdout",
     "output_type": "stream",
     "text": [
      "Accuracy:  0.9556937787938218\n",
      "Precision:  0.5420875420875421\n",
      "Recall:  0.04189435336976321\n"
     ]
    }
   ],
   "source": [
    "print(\"Accuracy: \", metrics.accuracy_score(y_test, y_pred))\n",
    "print(\"Precision: \", metrics.precision_score(y_test, y_pred))\n",
    "print(\"Recall: \", metrics.recall_score(y_test, y_pred))"
   ]
  },
  {
   "cell_type": "markdown",
   "id": "d7d49dd3",
   "metadata": {},
   "source": [
    "# Random Forest"
   ]
  },
  {
   "cell_type": "code",
   "execution_count": 106,
   "id": "792fbea9",
   "metadata": {},
   "outputs": [
    {
     "data": {
      "text/plain": [
       "RandomForestClassifier()"
      ]
     },
     "execution_count": 106,
     "metadata": {},
     "output_type": "execute_result"
    }
   ],
   "source": [
    "from sklearn.ensemble import RandomForestClassifier\n",
    "classifier = RandomForestClassifier()\n",
    "classifier.fit(x_train, y_train)"
   ]
  },
  {
   "cell_type": "code",
   "execution_count": 107,
   "id": "b378e5d7",
   "metadata": {},
   "outputs": [],
   "source": [
    "y_pred = classifier.predict(x_test)"
   ]
  },
  {
   "cell_type": "code",
   "execution_count": 108,
   "id": "52158948",
   "metadata": {},
   "outputs": [
    {
     "name": "stdout",
     "output_type": "stream",
     "text": [
      "Accuracy:  0.9490791779327632\n",
      "Precision:  0.2807723250201126\n",
      "Recall:  0.09081446786364819\n"
     ]
    }
   ],
   "source": [
    "print(\"Accuracy: \", metrics.accuracy_score(y_test, y_pred))\n",
    "print(\"Precision: \", metrics.precision_score(y_test, y_pred))\n",
    "print(\"Recall: \", metrics.recall_score(y_test, y_pred))"
   ]
  },
  {
   "cell_type": "markdown",
   "id": "26e8bb32",
   "metadata": {},
   "source": [
    "# XGBoost "
   ]
  },
  {
   "cell_type": "code",
   "execution_count": 109,
   "id": "3c09abfd",
   "metadata": {},
   "outputs": [],
   "source": [
    "import xgboost as xgb\n",
    "from xgboost import XGBClassifier\n",
    "\n",
    "xgboost = XGBClassifier()\n",
    "xgb = xgboost.fit( x_train, y_train)\n",
    "y_pred = xgb.predict(x_test)"
   ]
  },
  {
   "cell_type": "code",
   "execution_count": 110,
   "id": "8afd6aa0",
   "metadata": {},
   "outputs": [
    {
     "name": "stdout",
     "output_type": "stream",
     "text": [
      "Accuracy:  0.9552528054030844\n",
      "Precision:  0.48519362186788156\n",
      "Recall:  0.05542544886807182\n"
     ]
    }
   ],
   "source": [
    "print(\"Accuracy: \", metrics.accuracy_score(y_test, y_pred, normalize = True))\n",
    "print(\"Precision: \", metrics.precision_score(y_test, y_pred))\n",
    "print(\"Recall: \", metrics.recall_score(y_test, y_pred))"
   ]
  }
 ],
 "metadata": {
  "kernelspec": {
   "display_name": "Python 3 (ipykernel)",
   "language": "python",
   "name": "python3"
  },
  "language_info": {
   "codemirror_mode": {
    "name": "ipython",
    "version": 3
   },
   "file_extension": ".py",
   "mimetype": "text/x-python",
   "name": "python",
   "nbconvert_exporter": "python",
   "pygments_lexer": "ipython3",
   "version": "3.9.7"
  }
 },
 "nbformat": 4,
 "nbformat_minor": 5
}
